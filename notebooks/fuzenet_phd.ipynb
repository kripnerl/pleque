{
 "cells": [
  {
   "cell_type": "code",
   "execution_count": null,
   "metadata": {},
   "outputs": [],
   "source": [
    "%pylab notebook "
   ]
  },
  {
   "cell_type": "code",
   "execution_count": null,
   "metadata": {
    "collapsed": true
   },
   "outputs": [],
   "source": [
    "from pleque.io import _geqdsk as eqdsktool \n",
    "from pleque.io._readers import read_eqdsk\n",
    "from pleque.utils.plotting import *\n",
    "from pleque import Equilibrium\n",
    "from test.testing_utils import get_test_equilibria_filenames, load_testing_equilibrium\n"
   ]
  },
  {
   "cell_type": "code",
   "execution_count": null,
   "metadata": {
    "collapsed": true
   },
   "outputs": [],
   "source": [
    "%load_ext autoreload\n",
    "%autoreload 2"
   ]
  },
  {
   "cell_type": "code",
   "execution_count": null,
   "metadata": {},
   "outputs": [],
   "source": [
    "gfiles = get_test_equilibria_filenames()\n",
    "gfiles"
   ]
  },
  {
   "cell_type": "code",
   "execution_count": null,
   "metadata": {},
   "outputs": [],
   "source": [
    "eq = load_testing_equilibrium()"
   ]
  },
  {
   "cell_type": "code",
   "execution_count": null,
   "metadata": {},
   "outputs": [],
   "source": [
    "g = eq.grid(resolution=[1e-3, 1e-3])\n",
    "g.psi.shape"
   ]
  },
  {
   "cell_type": "code",
   "execution_count": null,
   "metadata": {},
   "outputs": [],
   "source": [
    "# first three files are fiesta and may cause some troubles\n",
    "Npl = 4\n",
    "\n",
    "eq = read_eqdsk(gfiles[Npl])\n",
    "\n",
    "eq_iter = read_eqdsk(gfiles[4])\n",
    "with open(gfiles[Npl], 'r') as f:\n",
    "    eq_efit = eqdsktool.read(f)\n",
    "eq_efit.keys()\n",
    "\n",
    "plt.figure()\n",
    "eq._plot_overview()"
   ]
  },
  {
   "cell_type": "code",
   "execution_count": null,
   "metadata": {},
   "outputs": [],
   "source": [
    "plt.figure()\n",
    "eq._plot_overview()\n",
    "plot_extremes(eq)\n",
    "\n",
    "#gfile\n",
    "\n",
    "r_axis = np.linspace(eq_efit[\"rleft\"], eq_efit[\"rleft\"] + eq_efit[\"rdim\"], eq_efit[\"nx\"])\n",
    "z_axis = np.linspace(eq_efit[\"zmid\"] - eq_efit[\"zdim\"] / 2, eq_efit[\"zmid\"] + eq_efit[\"zdim\"] / 2, eq_efit[\"ny\"])\n",
    "\n",
    "plt.figure()\n",
    "ax = plt.gca()\n",
    "\n",
    "ax.plot(eq_efit['rlim'], eq_efit['zlim'], color='k', lw=2)\n",
    "ax.plot(eq_efit['rbdry'], eq_efit['zbdry'], 'C1--', lw=2)\n",
    "ax.contour(r_axis, z_axis, eq_efit['psi'].T, 20)\n",
    "ax.contour(r_axis, z_axis, eq_efit['psi'].T, [eq_efit['sibdry']])\n",
    "\n",
    "ax.set_aspect('equal')\n",
    "\n"
   ]
  },
  {
   "cell_type": "code",
   "execution_count": null,
   "metadata": {},
   "outputs": [],
   "source": [
    "\n",
    "plt.figure()\n",
    "ax = plt.gca()\n",
    "ax.plot(eq_efit['rlim'], eq_efit['zlim'], color='k', lw=2)\n",
    "ax.plot(eq_efit['rbdry'], eq_efit['zbdry'], 'C0-.', lw=2)\n",
    "ax.contour(r_axis, z_axis, eq_efit['psi'].T, [eq_efit['sibdry']], colors='C0')\n",
    "\n",
    "eq.lcfs.plot(color='C1', ls='--')\n",
    "ax.plot(eq._x_point[0], eq._x_point[1], 'C1+', lw=3)\n",
    "\n",
    "ax.set_aspect('equal')\n",
    "#ax.set_xlim((5.06, 5.09))\n",
    "#ax.set_ylim((-3.45, -3.43))"
   ]
  },
  {
   "cell_type": "code",
   "execution_count": null,
   "metadata": {
    "collapsed": true
   },
   "outputs": [],
   "source": [
    "def plot_2d(R, Z, data, *args, title=None):\n",
    "    \n",
    "    rlim = [np.min(eq.first_wall.R), np.max(eq.first_wall.R)]\n",
    "    zlim = [np.min(eq.first_wall.Z), np.max(eq.first_wall.Z)]\n",
    "\n",
    "    size = rlim[1] - rlim[0]\n",
    "    rlim[0] -= size / 12\n",
    "    rlim[1] += size / 12\n",
    "\n",
    "    size = zlim[1] - zlim[0]\n",
    "    zlim[0] -= size / 12\n",
    "    zlim[1] += size / 12\n",
    "    \n",
    "    plt.figure()    \n",
    "    ax = plt.gca()\n",
    "    \n",
    "    ax.set_xlim(rlim)\n",
    "    ax.set_ylim(zlim)\n",
    "    \n",
    "    ax.plot(eq.lcfs.R, eq.lcfs.Z, color='k', ls='--', lw=2)\n",
    "    ax.plot(eq.first_wall.R, eq.first_wall.Z, 'k-', lw=2)\n",
    "    ax.set_xlabel('R [m]')\n",
    "    ax.set_ylabel('Z [m]')\n",
    "    \n",
    "\n",
    "    ax.set_aspect('equal')\n",
    "    \n",
    "    cl = ax.contour(R, Z, data, *args)\n",
    "    \n",
    "    if title is not None:\n",
    "        ax.set_title(title)\n",
    "        \n",
    "    return cl"
   ]
  },
  {
   "cell_type": "code",
   "execution_count": null,
   "metadata": {
    "scrolled": false
   },
   "outputs": [],
   "source": [
    "grid = eq.grid((200,300),dim='size')\n",
    "\n",
    "plot_2d(grid.R, grid.Z, grid.psi, 20, title=r'$\\psi$')\n",
    "plot_2d(grid.R, grid.Z, eq.B_pol(grid), 20, title=r'$B_\\mathrm{p}$')\n",
    "plot_2d(grid.R, grid.Z, eq.B_tor(grid), 20, title=r'$B_\\mathrm{t}$')\n",
    "plot_2d(grid.R, grid.Z, eq.B_abs(grid), 20, title=r'$|B|$')\n",
    "cl = plot_2d(grid.R, grid.Z, eq.pressure(grid)/1e3, np.linspace(0, 8e5/1e3, 41), title=r'$p$ [kPa]')\n",
    "plt.colorbar(cl)\n",
    "cl = plot_2d(grid.R, grid.Z, eq.j_tor(grid), np.linspace(0, 1e7, 21), title=r'$j_\\phi$')\n",
    "plt.colorbar(cl)\n",
    "cl = plot_2d(grid.R, grid.Z, eq.j_pol(grid), np.linspace(0, 3e5, 21), title=r'$j_\\theta$')\n",
    "cl = plot_2d(grid.R, grid.Z, eq.tor_flux(grid), np.linspace(-40, 0, 21), title='toroidal flux')\n",
    "#plt.colorbar(cl)\n"
   ]
  },
  {
   "cell_type": "markdown",
   "metadata": {},
   "source": [
    "## Profile mappings: "
   ]
  },
  {
   "cell_type": "code",
   "execution_count": null,
   "metadata": {
    "scrolled": true
   },
   "outputs": [],
   "source": [
    "eq = read_eqdsk(gfiles[5])"
   ]
  },
  {
   "cell_type": "code",
   "execution_count": null,
   "metadata": {
    "scrolled": false
   },
   "outputs": [],
   "source": [
    "from scipy.special import erf\n",
    "\n",
    "\n",
    "N = 200\n",
    "\n",
    "chord1 = eq.coordinates(R=0.6*np.ones(N), Z=np.linspace(0.3, -0.1, N))\n",
    "chord2 = eq.coordinates(R=np.linspace(0.35, 0.6, 20), Z=-0.1*np.ones(20))\n",
    "\n",
    "\n",
    "# let's define some testing profile function: \n",
    "prof_func = lambda x, k1, xsep: k1/4 * (1 + erf((x-xsep)*20))*np.log((x+1)*1.2)\n",
    "chord_prof = prof_func(1 - chord1.psi_n, 10, 0.15)\n",
    "\n",
    "# todo here\n",
    "plt.figure()\n",
    "plt.plot(chord1.Z, chord_prof, color='C3')\n",
    "eq.fluxfuncs.add_flux_func('test_prof', chord_prof, chord1, spline_smooth=0)\n",
    "plt.plot(chord1.Z, eq.fluxfuncs.test_prof(chord1), '--', color='C3')\n",
    "plt.xlabel('Z [m]')\n",
    "plt.ylabel('profile value [a.u.]')\n",
    "\n",
    "\n",
    "plt.figure()\n",
    "plt.plot(chord2.R, eq.fluxfuncs.test_prof(chord2), '--', color='C4')\n",
    "plt.xlabel('R [m]')\n",
    "plt.ylabel('profile value [a.u.]')\n",
    "\n",
    "\n",
    "plt.figure()\n",
    "plt.plot(chord1.r_mid, chord_prof, color='C3')\n",
    "plt.xlabel(r'$r_\\mathrm{mid}$ [m]')\n",
    "plt.ylabel('profile value [a.u.]')\n",
    "\n",
    "\n",
    "plt.figure()\n",
    "eq._plot_overview()\n",
    "\n",
    "chord1.plot(lw=3, ls='--', color='C3')\n",
    "chord2.plot(lw=3, ls='--', color='C4')\n"
   ]
  },
  {
   "cell_type": "code",
   "execution_count": null,
   "metadata": {
    "collapsed": true
   },
   "outputs": [],
   "source": []
  }
 ],
 "metadata": {
  "kernelspec": {
   "display_name": "Python [default]",
   "language": "python",
   "name": "python3"
  },
  "language_info": {
   "codemirror_mode": {
    "name": "ipython",
    "version": 3
   },
   "file_extension": ".py",
   "mimetype": "text/x-python",
   "name": "python",
   "nbconvert_exporter": "python",
   "pygments_lexer": "ipython3",
   "version": "3.5.5"
  }
 },
 "nbformat": 4,
 "nbformat_minor": 1
}
