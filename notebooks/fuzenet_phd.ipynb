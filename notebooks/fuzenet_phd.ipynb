{
 "cells": [
  {
   "cell_type": "markdown",
   "metadata": {},
   "source": [
    "# PLEQUE vs raw reconstruction\n",
    "\n",
    "In this notebook, we demonstrate that PLEQUE is better than raw reconstruction at everything."
   ]
  },
  {
   "cell_type": "code",
   "execution_count": null,
   "metadata": {},
   "outputs": [],
   "source": [
    "%pylab inline"
   ]
  },
  {
   "cell_type": "code",
   "execution_count": null,
   "metadata": {},
   "outputs": [],
   "source": [
    "from pleque.io import _geqdsk as eqdsktool \n",
    "from pleque.io.readers import read_geqdsk\n",
    "from pleque.utils.plotting import *\n",
    "#from pleque import Equilibrium\n",
    "from pleque.tests.utils import get_test_equilibria_filenames, load_testing_equilibrium"
   ]
  },
  {
   "cell_type": "markdown",
   "metadata": {},
   "source": [
    "## Load a testing equilibrium\n",
    "Several test equilibria come shipped with PLEQUE. Their location is:"
   ]
  },
  {
   "cell_type": "code",
   "execution_count": null,
   "metadata": {},
   "outputs": [],
   "source": [
    "gfiles = get_test_equilibria_filenames()\n",
    "gfiles"
   ]
  },
  {
   "cell_type": "markdown",
   "metadata": {},
   "source": [
    "### Load the equilibrium directly\n",
    "\n",
    "Here the test equilibrium is directly loaded and stored in the variable `eq_efit`. The variable then contains all equilibrium information calculated by EFIT in the form of a dictionary."
   ]
  },
  {
   "cell_type": "code",
   "execution_count": null,
   "metadata": {},
   "outputs": [],
   "source": [
    "test_case_number = 5\n",
    "\n",
    "with open(gfiles[test_case_number], 'r') as f:\n",
    "    eq_efit = eqdsktool.read(f)\n",
    "eq_efit.keys()"
   ]
  },
  {
   "cell_type": "markdown",
   "metadata": {},
   "source": [
    "### Load equilibrium using PLEQUE\n",
    "\n",
    "PLEQUE loads the same file at its core, but it wraps it in the `Equilibrium` class and stores it in the variable `eq`.\n"
   ]
  },
  {
   "cell_type": "code",
   "execution_count": null,
   "metadata": {},
   "outputs": [],
   "source": [
    "def save_it(*args,**kwargs):\n",
    "    pass"
   ]
  },
  {
   "cell_type": "code",
   "execution_count": null,
   "metadata": {},
   "outputs": [],
   "source": [
    "#Load equilibrium stored in the EQDSK format\n",
    "eq = read_geqdsk(gfiles[test_case_number])\n",
    "\n",
    "#Plot basic overview of the equilibrium\n",
    "plt.figure()\n",
    "eq._plot_overview()\n",
    "\n",
    "#Plot X-points\n",
    "plot_extremes(eq, markeredgewidth=2)"
   ]
  },
  {
   "cell_type": "markdown",
   "metadata": {},
   "source": [
    "## PLEQUE vs raw reconstruction: spatial resolution near the X-point\n",
    "\n",
    "EFIT output ($\\Psi$, $j$ etc.) is given on a rectangular grid:"
   ]
  },
  {
   "cell_type": "code",
   "execution_count": null,
   "metadata": {},
   "outputs": [],
   "source": [
    "r_axis = np.linspace(eq_efit[\"rleft\"], eq_efit[\"rleft\"] + eq_efit[\"rdim\"], eq_efit[\"nx\"])\n",
    "z_axis = np.linspace(eq_efit[\"zmid\"] - eq_efit[\"zdim\"] / 2, eq_efit[\"zmid\"] + eq_efit[\"zdim\"] / 2, eq_efit[\"ny\"])"
   ]
  },
  {
   "cell_type": "markdown",
   "metadata": {},
   "source": [
    "To limit the file size, the grid has a finite resolution. This means that in areas where high spatial resolution is needed (for instance the X-point vicinity), raw reconstructions are usually insufficient. The following figure demonstrates this."
   ]
  },
  {
   "cell_type": "code",
   "execution_count": null,
   "metadata": {},
   "outputs": [],
   "source": [
    "plt.figure()\n",
    "ax = plt.gca()\n",
    "\n",
    "#Limiter (stored in EFIT output)\n",
    "ax.plot(eq_efit['rlim'], eq_efit['zlim'], color='k', lw=2)\n",
    "\n",
    "#Magnetic surface defined by Psi == eq_efit['sibdry']\n",
    "ax.contour(r_axis, z_axis, eq_efit['psi'].T, [eq_efit['sibdry']])\n",
    "\n",
    "#Magnetic surface saved as the LCFS in EFIT output\n",
    "ax.plot(eq_efit['rbdry'], eq_efit['zbdry'], 'C0-.', lw=2, label='EFIT LCFS')\n",
    "\n",
    "ax.set_xlabel('R [m]')\n",
    "ax.set_ylabel('Z [m]')\n",
    "ax.set_aspect('equal')\n",
    "plt.legend()\n",
    "ax.set_xlim(0.4, 0.54)\n",
    "ax.set_ylim(-0.38, -0.28)"
   ]
  },
  {
   "cell_type": "markdown",
   "metadata": {},
   "source": [
    "PLEQUE, however, performs equilibrium interpolation that can easily produce the same plots in a much higher spatial resolution."
   ]
  },
  {
   "cell_type": "code",
   "execution_count": null,
   "metadata": {},
   "outputs": [],
   "source": [
    "plt.figure()\n",
    "ax = plt.gca()\n",
    "\n",
    "#Limiter (accessed through the Equilibrium class)\n",
    "eq.first_wall.plot(ls=\"-\", color=\"k\", lw=2)\n",
    "\n",
    "#Separatrix, cropped to its part inside the first wall\n",
    "inside_fw = eq.in_first_wall(eq.separatrix)\n",
    "separatrix = eq.coordinates(R=eq.separatrix.R[inside_fw], Z=eq.separatrix.Z[inside_fw])\n",
    "separatrix.plot(label='separatrix')\n",
    "\n",
    "#LCFS (without strike points)\n",
    "eq.lcfs.plot(color='C1', ls='--', label='LCFS')\n",
    "\n",
    "#X-point\n",
    "ax.plot(eq._x_point[0], eq._x_point[1], 'k+', markersize=10, label='X-point')\n",
    "\n",
    "ax.set_xlabel('R [m]')\n",
    "ax.set_ylabel('Z [m]')\n",
    "ax.set_aspect('equal')\n",
    "plt.legend()\n",
    "ax.set_xlim(0.4, 0.54)\n",
    "ax.set_ylim(-0.38, -0.28)"
   ]
  },
  {
   "cell_type": "markdown",
   "metadata": {},
   "source": [
    "## PLEQUE vs raw reconstruction: $q$ profile\n",
    "\n",
    "The safety factor $q$ can be defined as the number of toroidal turns a magnetic field line makes along its magnetic surface before it makes a full poloidal turn. Since the poloidal field is zero at the X-point, the magnetic field lines inside the separatrix are caught in an infinite toroidal loop at the X-point and $q \\rightarrow +\\infty$. (This is why the edge safety factor is given as $q_{95}$ at $\\psi_N=0.95$. If it were given an $\\psi_N = 1.00$, its value would diverge regardless of its profile shape.)\n",
    "\n",
    "In this section we compare several methods of calculating $q$:\n",
    "\n",
    "1. $q$ as calculated by the reconstruction itself (`q_efit`)\n",
    "2. $q$ evaluated by `eq.q` (`q_eq`)\n",
    "3. $q$ evaluated by `eq._flux_surface(psi_n).eval_q`\n",
    "    - using the default, rectangle rule (`q1`)\n",
    "    - using the trapezoidal rule (`q2`)\n",
    "    - using the Simpson rule (`q3`)\n",
    "\n",
    "Method 3 calculates the safety factor according to formula (5.35) in [Jardin, 2010: Computation Methods in Plasma Physics]:\n",
    "\n",
    "$q(\\psi) = \\dfrac{gV'}{(2\\pi)^2\\Psi'}\\langle R^{-2}\\rangle$\n",
    "\n",
    "where $V'$ is the differential volume and, in PLEQUE's notation, $g(\\psi) \\equiv F(\\psi)$ and $\\Psi \\equiv \\psi$ (and therefore $\\Psi' \\equiv d\\Psi/d\\psi = 1$). Furthermore, the surface average $\\langle \\cdot \\rangle$ of an arbitrary function $a$ is defined as $\\langle a \\rangle = \\frac{2\\pi}{V'} \\int_0^{2\\pi} d\\theta Ja$ where $J$ is the Jacobian. Putting everything together, one obtains the formula used by PLEQUE:\n",
    "\n",
    "$q(\\psi) = \\dfrac{F(\\psi)}{2\\pi} \\int_0^{2\\pi} d\\theta JR^{-2}$\n",
    "\n",
    "where, based on the convention defined by COCOS, the factor $2\\pi$ can be missing and $q$ may be either positive or negative. (In the default convention of EFIT, COCOS 3, $q$ is negative.) Finally, the integral can be calculated with three different methods: the rectangle rule (resulting in `q1`), the trapezoidal rule (resulting in `q2`) and the Simpson rule (resulting in `q3`).\n",
    "\n",
    "Method 2 is based on method 3. The safety factor profile is calculated for 200 points in $\\psi_N \\in (0, 1)$ and interpolated with a spline. `eq.q` then invokes this spline to calculate $q$ at any given $\\psi_N$."
   ]
  },
  {
   "cell_type": "code",
   "execution_count": null,
   "metadata": {},
   "outputs": [],
   "source": [
    "#q taken directly from the reconstruction\n",
    "q_efit = eq_efit['q']\n",
    "q_efit = q_efit[:-1] #in some reconstructions, q is calculated up to psi_N=1\n",
    "psi_efit = np.linspace(0, 1, len(q_efit), endpoint=False)\n",
    "#psi_efit2 = np.linspace(0, 1, len(q_efit), endpoint=True)\n",
    "# If you try this for several test equilibria, you will find that some give q at Psi_N=1\n",
    "# and some stop right short of Psi_N=1. To test which is which, try both including and\n",
    "# excluding the endpoint in the linspace definition.\n",
    "\n",
    "#q stored in the Equilibrium class\n",
    "coords = eq.coordinates(psi_n = np.linspace(0, 1, len(q_efit), endpoint=False))\n",
    "psi_eq = coords.psi_n\n",
    "q_eq = abs(eq.q(coords))\n",
    "\n",
    "#q calculated by eq._flux_surface(Psi).eval_q\n",
    "surf_psin = linspace(0.01, 1, len(q_efit), endpoint=False)\n",
    "surfs = [eq._flux_surface(psi_n=psi_n)[0] for psi_n in surf_psin]\n",
    "surf_psin = [np.mean(s.psi_n) for s in surfs]\n",
    "q1 = abs(np.array([np.asscalar(s.eval_q) for s in surfs]))\n",
    "q2 = abs(np.array([np.asscalar(s.get_eval_q('trapz')) for s in surfs]))\n",
    "q3 = abs(np.array([np.asscalar(s.get_eval_q('simps')) for s in surfs]))"
   ]
  },
  {
   "cell_type": "markdown",
   "metadata": {},
   "source": [
    "Notice the absolute value; this is required because $q<0$ in the convention used here."
   ]
  },
  {
   "cell_type": "code",
   "execution_count": null,
   "metadata": {},
   "outputs": [],
   "source": [
    "#q profile comparison\n",
    "plt.figure()\n",
    "plt.plot(psi_efit, q_efit, 'x', label='raw reconstruction')\n",
    "#plt.plot(psi_efit2, q_efit, 'x', label='raw reconstruction')\n",
    "plt.plot(psi_eq, q_eq, '--', label=r'pleque: eq.q')\n",
    "plt.plot(surf_psin, q1, '-', label=r'pleque: q1')\n",
    "plt.plot(surf_psin, q2, '--', label=r'pleque: q2')\n",
    "plt.plot(surf_psin, q3, '--', label=r'pleque: q3')\n",
    "plt.xlabel(r'$\\psi_\\mathrm{N}$')\n",
    "plt.ylabel(r'$q$')\n",
    "plt.axvline(1, ls='--', color='k', lw=1)\n",
    "plt.legend()"
   ]
  },
  {
   "cell_type": "markdown",
   "metadata": {},
   "source": [
    "Investigating the differences between the five $q$ profiles shows quite a good agreement. The profiles disagree slightly near $\\psi_N \\rightarrow 0$ since the safety factor is defined by a limit here. (Notice that, using method 3, the $\\psi_N$ axis begins at 0.01 and not 0. This is because $q$ cannot be calculated by the formula above in $\\psi_N=0$ and the algorithm fails.)"
   ]
  },
  {
   "cell_type": "code",
   "execution_count": null,
   "metadata": {},
   "outputs": [],
   "source": [
    "plt.figure(figsize=(12,4))\n",
    "\n",
    "#EFIT vs eq.q\n",
    "plt.subplot(121)\n",
    "plt.plot(surf_psin, abs(q_eq-q_efit), label='EFIT vs eq.q')\n",
    "plt.legend()\n",
    "plt.xlabel(r'$\\psi_\\mathrm{N}$')\n",
    "plt.ylabel(r'$\\Delta q$')\n",
    "\n",
    "#EFIT vs q1-q3\n",
    "plt.subplot(122)\n",
    "plt.plot(surf_psin, abs(q_efit-q1), label='EFIT vs q2')\n",
    "plt.plot(surf_psin, abs(q_efit-q2), label='EFIT vs q3')\n",
    "plt.plot(surf_psin, abs(q_efit-q3), label='EFIT vs q3')\n",
    "plt.legend()\n",
    "plt.xlabel(r'$\\psi_\\mathrm{N}$')\n",
    "plt.ylabel(r'$\\Delta q$')\n",
    "\n",
    "\n",
    "plt.figure(figsize=(12,4))\n",
    "\n",
    "#eq.q vs all the rest\n",
    "plt.subplot(121)\n",
    "plt.plot(surf_psin, abs(q_eq-q1), label='eq.q vs q1')\n",
    "plt.plot(surf_psin, abs(q_eq-q2), label='eq.q vs q2')\n",
    "plt.plot(surf_psin, abs(q_eq-q3), label='eq.q vs q3')\n",
    "plt.legend()\n",
    "plt.xlabel(r'$\\psi_\\mathrm{N}$')\n",
    "plt.ylabel(r'$\\Delta q$')\n",
    "\n",
    "#q1 vs q2 vs q3\n",
    "plt.subplot(122)\n",
    "plt.plot(surf_psin, abs(q1-q2), label='q1 vs q2')\n",
    "plt.plot(surf_psin, abs(q1-q3), label='q1 vs q3')\n",
    "plt.plot(surf_psin, abs(q2-q3), label='q2 vs q3')\n",
    "plt.legend()\n",
    "plt.xlabel(r'$\\psi_\\mathrm{N}$')\n",
    "plt.ylabel(r'$\\Delta q$')"
   ]
  },
  {
   "cell_type": "markdown",
   "metadata": {},
   "source": [
    "## Plotting contour plots of various quantities\n",
    "In this section PLEQUE is used to produce contour plots of the following quantities:\n",
    "\n",
    "- poloidal magnetic field flux $\\psi$\n",
    "- toroidal magnetic field flux\n",
    "- poloidal magnetic field $B_p$\n",
    "- toroidal magnetic field $B_t$\n",
    "- total magnetic field $|B|$\n",
    "- total pressure $p$\n",
    "- toroidal current density $j_\\phi$\n",
    "- poloidal current density $j_\\theta$\n",
    "\n",
    "First, a general plotting function `plot_2d` is defined."
   ]
  },
  {
   "cell_type": "code",
   "execution_count": null,
   "metadata": {},
   "outputs": [],
   "source": [
    "def plot_2d(R, Z, data, *args, title=None):\n",
    "    \n",
    "    #Define X and Y axis limits based on the vessel size\n",
    "    rlim = [np.min(eq.first_wall.R), np.max(eq.first_wall.R)]\n",
    "    zlim = [np.min(eq.first_wall.Z), np.max(eq.first_wall.Z)]\n",
    "    size = rlim[1] - rlim[0]\n",
    "    rlim[0] -= size / 12\n",
    "    rlim[1] += size / 12\n",
    "    size = zlim[1] - zlim[0]\n",
    "    zlim[0] -= size / 12\n",
    "    zlim[1] += size / 12\n",
    "    \n",
    "    #Set up the figure: set axis limits, draw LCFS and first wall, write labels\n",
    "    ax = plt.gca()\n",
    "    ax.set_xlim(rlim)\n",
    "    ax.set_ylim(zlim)\n",
    "    ax.plot(eq.lcfs.R, eq.lcfs.Z, color='k', ls='--', lw=2)\n",
    "    ax.plot(eq.first_wall.R, eq.first_wall.Z, 'k-', lw=2)\n",
    "    ax.set_xlabel('R [m]')\n",
    "    ax.set_ylabel('Z [m]')\n",
    "    ax.set_aspect('equal')\n",
    "    if title is not None:\n",
    "        ax.set_title(title)\n",
    "        \n",
    "    #Finally, plot the desired quantity\n",
    "    cl = ax.contour(R, Z, data, *args)\n",
    "        \n",
    "    return cl"
   ]
  },
  {
   "cell_type": "markdown",
   "metadata": {},
   "source": [
    "Now we set up an $[R,Z]$ grid where these quantities are evaluated and plot the quantities."
   ]
  },
  {
   "cell_type": "code",
   "execution_count": null,
   "metadata": {},
   "outputs": [],
   "source": [
    "#Create an [R,Z] grid 200 by 300 points\n",
    "grid = eq.grid((200,300), dim='size')\n",
    "\n",
    "#Plot the poloidal flux and toroidal flux\n",
    "plt.figure(figsize=(16,4))\n",
    "plt.subplot(131)\n",
    "plot_2d(grid.R, grid.Z, grid.psi, 20, title=r'$\\psi$')\n",
    "plt.subplot(132)\n",
    "plot_2d(grid.R, grid.Z, eq.tor_flux(grid), 100, title='toroidal flux')\n",
    "\n",
    "#Plot the poloidal magnetic field, toroidal magnetic field and the total magnetic field\n",
    "plt.figure(figsize=(16,4))\n",
    "plt.subplot(131)\n",
    "cl = plot_2d(grid.R, grid.Z, eq.B_pol(grid), 20, title=r'$B_\\mathrm{p}$ [T]')\n",
    "plt.colorbar(cl)\n",
    "plt.subplot(132)\n",
    "cl = plot_2d(grid.R, grid.Z, eq.B_tor(grid), 20, title=r'$B_\\mathrm{t}$ [T]')\n",
    "plt.colorbar(cl)\n",
    "plt.subplot(133)\n",
    "cl = plot_2d(grid.R, grid.Z, eq.B_abs(grid), 20, title=r'$|B|$ [T]')\n",
    "plt.colorbar(cl)\n",
    "\n",
    "#Plot the total pressure, toroidal current density and poloidal current density\n",
    "plt.figure(figsize=(16,4))\n",
    "plt.subplot(131)\n",
    "cl = plot_2d(grid.R, grid.Z, eq.pressure(grid)/1e3, np.linspace(0, 30, 21), title=r'$p$ [kPa]')\n",
    "plt.colorbar(cl)\n",
    "plt.subplot(132)\n",
    "plot_2d(grid.R, grid.Z, eq.j_tor(grid), np.linspace(-5e6, 5e6, 30), title=r'$j_\\phi$')\n",
    "plt.subplot(133)\n",
    "plot_2d(grid.R, grid.Z, eq.j_pol(grid),  np.linspace(0, 3e5, 21), title=r'$j_\\theta$')"
   ]
  },
  {
   "cell_type": "markdown",
   "metadata": {},
   "source": [
    "## Exploring flux surface properties\n",
    "\n",
    "With the `eq._flux_surface(psi_n)` function, one may study individual flux surfaces. In this section, we plot the $\\psi_N=0.8$ flux surface and calculate its safety factor $q$, length in the poloidal direction, total 3D area, volume and toroidal current density."
   ]
  },
  {
   "cell_type": "code",
   "execution_count": null,
   "metadata": {},
   "outputs": [],
   "source": [
    "#Define the flux surface by its normalised poloidal flux\n",
    "surf = eq._flux_surface(psi_n=0.8)[0]\n",
    "\n",
    "#Plot the flux surface\n",
    "plt.figure()\n",
    "ax = gca()\n",
    "ax.plot(eq.lcfs.R, eq.lcfs.Z, color='k', ls='--', lw=2)\n",
    "ax.plot(eq.first_wall.R, eq.first_wall.Z, 'k-', lw=2)\n",
    "surf.plot(ls='--')\n",
    "ax.set_xlabel('R [m]')\n",
    "ax.set_ylabel('Z [m]')\n",
    "ax.set_aspect('equal')\n",
    "\n",
    "#Calculate several flux surface quantities\n",
    "print('Safety factor: %.2f' % surf.eval_q[0])\n",
    "print('Length: %.2f m' % surf.length)\n",
    "print('Area: %.4f m^2' % surf.area)\n",
    "print('Volume: %.3f m^3' % surf.volume)\n",
    "print('Toroidal current density: %.3f MA/m^2' % (surf.tor_current/1e6))"
   ]
  },
  {
   "cell_type": "markdown",
   "metadata": {},
   "source": [
    "## Profile mapping\n",
    "In experiment one often encounters the need to compare profiles which were measured at various locations in the tokamak. In this section, we show how such a profile may be mapped onto an arbitrary location and to the outer midplane.\n",
    "\n",
    "The profile is measured at the plasma top (in red) and mapped to the HFS (in violet) and the outer midplane (not shown)."
   ]
  },
  {
   "cell_type": "code",
   "execution_count": null,
   "metadata": {},
   "outputs": [],
   "source": [
    "#Define the chord along which the profile was measured (in red)\n",
    "N = 200 #number of datapoints in the profile\n",
    "chord = eq.coordinates(R=0.6*np.ones(N), Z=np.linspace(0.3, 0., N))\n",
    "\n",
    "#Define the HFS chord where we wish to map the profile (in violet)\n",
    "chord_hfs = eq.coordinates(R=np.linspace(0.35, 0.6, 20), Z=-0.1*np.ones(20))\n",
    "\n",
    "#Plot both the chords\n",
    "plt.figure()\n",
    "eq._plot_overview()\n",
    "chord.plot(lw=3, ls='--', color='C3', label='measurement location')\n",
    "chord_hfs.plot(lw=3, ls='--', color='C4', label='HFS chord')\n",
    "plt.legend(loc=3)"
   ]
  },
  {
   "cell_type": "markdown",
   "metadata": {},
   "source": [
    "The profile shape is defined using the error function `erf`."
   ]
  },
  {
   "cell_type": "code",
   "execution_count": null,
   "metadata": {},
   "outputs": [],
   "source": [
    "from scipy.special import erf\n",
    "\n",
    "#Define the profile values\n",
    "prof_func = lambda x, k1, xsep: k1/4 * (1 + erf((x-xsep)*20))*np.log((x+1)*1.2) - 4*np.exp(-(50*(x-1)**2))\n",
    "profile = prof_func(1 - chord.psi_n, 10, 0.15)\n",
    "\n",
    "#Plot the profile along the chord it was measured at\n",
    "plt.figure()\n",
    "plt.plot(chord.Z, profile, color='C3')\n",
    "plt.xlabel('Z [m]')\n",
    "plt.ylabel('profile value [a.u.]')\n",
    "plt.tight_layout()"
   ]
  },
  {
   "cell_type": "markdown",
   "metadata": {},
   "source": [
    "To begin the mapping, the profile is converted into a flux function by `eq.fluxfuncs.add_flux_func()`. The flux function is a spline, and therefore it can be evaluated at any $\\psi_N$ coordinate covered by the original chord. This will allow its mapping to any other coordinate along the flux surfaces."
   ]
  },
  {
   "cell_type": "code",
   "execution_count": null,
   "metadata": {},
   "outputs": [],
   "source": [
    "eq.fluxfuncs.add_flux_func('test_profile', profile, chord, spline_smooth=0)"
   ]
  },
  {
   "cell_type": "markdown",
   "metadata": {},
   "source": [
    "To evaluate the flux function along a chord, simply pass the chord (an instance of the `Coordinates` class) to the flux function. In the next figure the profile is mapped to the HFS cord."
   ]
  },
  {
   "cell_type": "code",
   "execution_count": null,
   "metadata": {},
   "outputs": [],
   "source": [
    "#Map the profile to the HFS cord\n",
    "plt.figure()\n",
    "plt.plot(chord_hfs.R, eq.fluxfuncs.test_profile(chord_hfs), '--', color='C4')\n",
    "plt.xlabel('R [m]')\n",
    "plt.ylabel('profile value [a.u.]')"
   ]
  },
  {
   "cell_type": "markdown",
   "metadata": {},
   "source": [
    "For the outer midplane, no special chord need be specified. Every instance of the `Coordinates` class can automatically map its coordinates to the outer midplane. (Note that this doesn't require a flux function to be specified. The conversion is performed in the coordinates only.)"
   ]
  },
  {
   "cell_type": "code",
   "execution_count": null,
   "metadata": {},
   "outputs": [],
   "source": [
    "#Map the profile to the outer midplane\n",
    "plt.figure()\n",
    "plt.plot(chord.r_mid, profile, color='C1')\n",
    "plt.xlabel(r'$R$ [m]')\n",
    "plt.ylabel('profile value [a.u.]')"
   ]
  },
  {
   "cell_type": "markdown",
   "metadata": {},
   "source": [
    "Finally, the profile may be drawn along the entire poloidal cross section."
   ]
  },
  {
   "cell_type": "code",
   "execution_count": null,
   "metadata": {},
   "outputs": [],
   "source": [
    "#Assuming poloidal symmetry, plot the profile in the poloidal cross section\n",
    "plt.figure()\n",
    "ax = gca()\n",
    "ax.plot(eq.lcfs.R, eq.lcfs.Z, color='k', ls='--', lw=2)\n",
    "ax.plot(eq.first_wall.R, eq.first_wall.Z, 'k-', lw=2)\n",
    "grid = eq.grid()\n",
    "ax.pcolormesh(grid.R, grid.Z, eq.fluxfuncs.test_profile(grid))\n",
    "ax.set_xlabel('R [m]')\n",
    "ax.set_ylabel('Z [m]')\n",
    "ax.set_aspect('equal')"
   ]
  },
  {
   "cell_type": "markdown",
   "metadata": {},
   "source": [
    "## Detector line of sight visualisation\n",
    "\n",
    "In this section, we demonstrate the flexibility of the `Coordinates` class by visualising a detector line of sight. Suppose we have a pixel detector at the position $[X, Y, Z] = [1.2 \\, \\mathrm{m}, 0 \\, \\mathrm{m}, -0.1 \\, \\mathrm{m}]$."
   ]
  },
  {
   "cell_type": "code",
   "execution_count": null,
   "metadata": {},
   "outputs": [],
   "source": [
    "# Define detector position [X, Y, Z]\n",
    "position = np.array((1.2, 0, -0.1))"
   ]
  },
  {
   "cell_type": "markdown",
   "metadata": {},
   "source": [
    "The detector views the plasma mostly tangentially to the toroidal direction, but also sloping a little upward."
   ]
  },
  {
   "cell_type": "code",
   "execution_count": null,
   "metadata": {},
   "outputs": [],
   "source": [
    "#Define the line of sight direction (again along [X, Y, Z])\n",
    "direction = np.array((-1, 0.6, 0.2))\n",
    "\n",
    "#Norm the direction to unit length\n",
    "direction /= np.linalg.norm(direction)"
   ]
  },
  {
   "cell_type": "markdown",
   "metadata": {},
   "source": [
    "Now since the plasma geometry is curvilinear, the detector line of sight is not trivial. Luckily PLEQUE's `Coordinates` class can easily express its stored coordinates both in the cartesian $[X,Y,Z]$ and the cylindrical $[R,Z,\\phi]$ coordinate systems. In the following line, 20 points along the detector line of sight are calculated in 3D."
   ]
  },
  {
   "cell_type": "code",
   "execution_count": null,
   "metadata": {},
   "outputs": [],
   "source": [
    "# Calculate detector line of sight (LOS)\n",
    "LOS = eq.coordinates(position + direction[np.newaxis,:] * np.linspace(0, 2.0, 20)[:, np.newaxis],\n",
    "                     coord_type=('X', 'Y', 'Z')\n",
    "                    )"
   ]
  },
  {
   "cell_type": "markdown",
   "metadata": {},
   "source": [
    "To visualise the line of sight in top view $[X,Y]$ and poloidal cross-section view $[R,Z]$, we first define the limiter outline as viewed from the top. Then we proceed with the plotting."
   ]
  },
  {
   "cell_type": "code",
   "execution_count": null,
   "metadata": {},
   "outputs": [],
   "source": [
    "# Limiter outline viewed from the top\n",
    "Ns = 100\n",
    "inner_lim = eq.coordinates(np.min(eq.first_wall.R)*np.ones(Ns), np.zeros(Ns), np.linspace(0, 2*np.pi, Ns))\n",
    "outer_lim = eq.coordinates(np.max(eq.first_wall.R)*np.ones(Ns), np.zeros(Ns), np.linspace(0, 2*np.pi, Ns))\n",
    "\n",
    "# Prepare figure\n",
    "fig, axs = plt.subplots(1,2)\n",
    "\n",
    "# Top view\n",
    "ax = axs[0]\n",
    "ax.plot(inner_lim.X, inner_lim.Y, 'k-')\n",
    "ax.plot(outer_lim.X, outer_lim.Y, 'k-')\n",
    "ax.plot(LOS.X, LOS.Y, 'x--', label='Line of sight')\n",
    "ax.plot(position[0], position[1], 'd', color='C0')\n",
    "ax.legend()\n",
    "ax.set_aspect('equal')\n",
    "ax.set_xlabel('$X$ [m]')\n",
    "ax.set_ylabel('$Y$ [m]')\n",
    "\n",
    "# Poloidal cross-section view\n",
    "ax = axs[1]\n",
    "ax.plot(eq.first_wall.R, eq.first_wall.Z, 'k-')\n",
    "ax.plot(eq.lcfs.R, eq.lcfs.Z, 'k--')\n",
    "ax.plot(LOS.R, LOS.Z, 'x--')\n",
    "ax.plot(LOS.R[0], position[2], 'd', color='C0')\n",
    "ax.set_aspect('equal')\n",
    "ax.set_xlabel('$R$ [m]')\n",
    "ax.set_ylabel('$Z$ [m]')"
   ]
  },
  {
   "cell_type": "markdown",
   "metadata": {},
   "source": [
    "## Field line tracing\n",
    "\n",
    "In this section, we show how to trace field lines and calculate their length. (In the core plasma, the length is defined as the parallel distance of one poloidal turn. In the SOL, it's the so-called connection length.) First we define a set of five starting points, all located at the outer midplane ($Z=0$) with $R$ going from $0.55 \\, \\mathrm{m}$ (core) to $0.76\\, \\mathrm{m}$ (SOL)."
   ]
  },
  {
   "cell_type": "code",
   "execution_count": null,
   "metadata": {},
   "outputs": [],
   "source": [
    "# Define the starting points\n",
    "N = 5\n",
    "Rs = np.linspace(0.57, 0.76, N, endpoint=True)\n",
    "Zs = np.zeros_like(Rs)"
   ]
  },
  {
   "cell_type": "markdown",
   "metadata": {},
   "source": [
    "Next, the field lines beginning at these points are traced. The default tracing direction is `direction=1`, that is, following the direction of the toroidal magnetic field."
   ]
  },
  {
   "cell_type": "code",
   "execution_count": null,
   "metadata": {},
   "outputs": [],
   "source": [
    "traces = eq.trace_field_line(R=Rs, Z=Zs)"
   ]
  },
  {
   "cell_type": "markdown",
   "metadata": {},
   "source": [
    "To visualise the field lines, we plot them in top view, poloidal cross-section view and 3D view."
   ]
  },
  {
   "cell_type": "code",
   "execution_count": null,
   "metadata": {},
   "outputs": [],
   "source": [
    "# Define limiter as viewed from the top\n",
    "Ns = 100\n",
    "inner_lim = eq.coordinates(np.min(eq.first_wall.R)*np.ones(Ns), np.zeros(Ns), np.linspace(0, 2*np.pi, Ns))\n",
    "outer_lim = eq.coordinates(np.max(eq.first_wall.R)*np.ones(Ns), np.zeros(Ns), np.linspace(0, 2*np.pi, Ns))\n",
    "\n",
    "fig = plt.figure(figsize=(10,5))\n",
    "\n",
    "#Plot top view of the field lines\n",
    "ax = plt.subplot(121)\n",
    "plt.plot(inner_lim.X, inner_lim.Y, 'k-', lw=4)\n",
    "plt.plot(outer_lim.X, outer_lim.Y, 'k-', lw=4)\n",
    "for fl in traces:\n",
    "    ax.plot(fl.X, fl.Y)\n",
    "ax.set_xlabel('$X$ [m]')\n",
    "ax.set_ylabel('$Y$ [m]')\n",
    "ax.set_aspect('equal')\n",
    "\n",
    "#Plot poloidal cross-section view of the field lines\n",
    "ax = plt.subplot(122)\n",
    "plt.plot(eq.first_wall.R, eq.first_wall.Z, 'k-')\n",
    "plt.plot(eq.separatrix.R, eq.separatrix.Z, 'C1--')\n",
    "for fl in traces:\n",
    "    plt.plot(fl.R, fl.Z)\n",
    "ax.set_xlabel('$R$ [m]')\n",
    "ax.set_ylabel('$Z$ [m]')\n",
    "ax.set_aspect('equal')\n",
    "\n",
    "#Plot 3D view of the field lines\n",
    "from mpl_toolkits.mplot3d import Axes3D\n",
    "fig = plt.figure(figsize=(6,6))\n",
    "ax = fig.gca(projection='3d')\n",
    "for fl in traces:\n",
    "    ax.scatter(fl.X, fl.Y, fl.Z, s=0.3, marker='.')\n",
    "ax.set_xlabel('$X$ [m]')\n",
    "ax.set_ylabel('$Y$ [m]')\n",
    "ax.set_zlabel('$Z$ [m]')\n",
    "#ax.set_aspect('equal')"
   ]
  },
  {
   "cell_type": "markdown",
   "metadata": {},
   "source": [
    "One may calculate the field line length using the attribute `length`. To demonstrate the connection length profile, we define a couple more SOL field lines. Note that now the `direction` argument changes whether we trace to the HFS or LFS limiter/divertor. Also pay attention to the `in_first_wall=True` argument, which tells the field lines to terminate upon hitting the first wall. (Otherwise they would be terminated at the edge of a rectangle surrounding the vacuum vessel.)"
   ]
  },
  {
   "cell_type": "code",
   "execution_count": null,
   "metadata": {},
   "outputs": [],
   "source": [
    "Rsep = 0.7189 # You might want to change this when switching between different test equilibria.\n",
    "Rs_SOL = Rsep + 0.001*np.array([0, 0.2, 0.5, 0.7, 1, 1.5, 2.5, 4, 6, 9, 15, 20])\n",
    "Zs_SOL = np.zeros_like(Rs_SOL)\n",
    "\n",
    "SOL_traces = eq.trace_field_line(R=Rs_SOL, Z=Zs_SOL, direction=-1, in_first_wall=True)"
   ]
  },
  {
   "cell_type": "markdown",
   "metadata": {},
   "source": [
    "Finally we calculate the connection length and plot its profile."
   ]
  },
  {
   "cell_type": "code",
   "execution_count": null,
   "metadata": {},
   "outputs": [],
   "source": [
    "#Calculate field line length\n",
    "L = np.array([traces[k].length for k in range(N)])\n",
    "L_conn = np.array([SOL_traces[k].length for k in range(len(SOL_traces))])\n",
    "\n",
    "fig = plt.figure(figsize=(10,5))\n",
    "\n",
    "#Plot poloidal cross-section view of the field lines\n",
    "ax = plt.subplot(121)\n",
    "ax.plot(eq.first_wall.R, eq.first_wall.Z, 'k-')\n",
    "ax.plot(eq.separatrix.R, eq.separatrix.Z, 'C1--')\n",
    "for fl in np.hstack((traces, SOL_traces)):\n",
    "    ax.plot(fl.R, fl.Z)\n",
    "ax.set_xlabel('R [m]')\n",
    "ax.set_ylabel('Z [m]')\n",
    "ax.set_aspect('equal')\n",
    "\n",
    "#Plot connection length profile\n",
    "ax = plt.subplot(122)\n",
    "ax.plot(Rs, L, 'bo')\n",
    "ax.plot(Rs_SOL, L_conn, 'ro')\n",
    "ax.set_xlabel('R [m]')\n",
    "ax.set_ylabel('L [m]')"
   ]
  },
  {
   "cell_type": "markdown",
   "metadata": {},
   "source": [
    "## Straight field lines\n",
    "In the field of MHD, it is sometimes advantageous to go from the normal toroidal coordinates $[R, \\theta, \\phi]$ to a coordinate system $[R, \\theta^*, \\phi]$ where field lines are straight. In this section, we show how to define such a coordinate system using PLEQUE.\n",
    "\n",
    "The field line we are going to visualise is on the resonant surface $q=5/3$ (and therefore it closes upon itself after three poloidal turns). First, we find the $\\Psi_N$ of this surface."
   ]
  },
  {
   "cell_type": "code",
   "execution_count": null,
   "metadata": {},
   "outputs": [],
   "source": [
    "from scipy.optimize import minimize_scalar, brentq\n",
    "\n",
    "#Find the Psi_N where the safety factor is 5/3\n",
    "psi_onq = brentq(lambda psi_n: np.abs(eq.q(psi_n)) - 5/3, 0, 0.95)\n",
    "print(r'Psi_N = {:.3f}'.format(psi_onq))\n",
    "\n",
    "#Define the resonant flux surface using this Psi_N\n",
    "surf = eq._flux_surface(psi_n = psi_onq)[0]"
   ]
  },
  {
   "cell_type": "code",
   "execution_count": null,
   "metadata": {},
   "outputs": [],
   "source": [
    "from scipy.interpolate import CubicSpline\n",
    "from numpy import ma #module for masking arrays\n",
    "\n",
    "#Define the normal poloidal coordinate theta (and subtract 2*pi from any value that exceeds 2*pi)\n",
    "theta = np.mod(surf.theta, 2*np.pi)\n",
    "\n",
    "#Define the special poloidal coordinate theta_star and \n",
    "theta_star = surf.straight_fieldline_theta\n",
    "\n",
    "#Sort the two arrays to start at theta=0 and decrease their spatial resolution by 75 %\n",
    "asort = np.argsort(theta)\n",
    "#should be smothed \n",
    "theta = theta[asort][2::4]\n",
    "theta_star = theta_star[asort][2::4]\n",
    "\n",
    "#Interpolate theta_star with a periodic spline\n",
    "thstar_spl = CubicSpline(theta, theta_star, extrapolate='periodic')\n"
   ]
  },
  {
   "cell_type": "markdown",
   "metadata": {},
   "source": [
    "Now we trace a field line along the resonant magnetic surface, starting at the midplane (the intersection of the resonant surface with the horizontal plane passing through the magnetic axis). Since the field line is within the confined plasma, the tracing terminates after one poloidal turn. We begin at the last point of the field line and restart the tracing two more times, obtaining a full field line which closes into itself."
   ]
  },
  {
   "cell_type": "code",
   "execution_count": null,
   "metadata": {},
   "outputs": [],
   "source": [
    "tr1 = eq.trace_field_line(r=eq.coordinates(psi_onq).r_mid[0], theta=0.09)[0]\n",
    "tr2 = eq.trace_field_line(tr1.R[-1], tr1.Z[-1], tr1.phi[-1])[0]\n",
    "tr3 = eq.trace_field_line(tr2.R[-1], tr2.Z[-1], tr2.phi[-1])[0]"
   ]
  },
  {
   "cell_type": "markdown",
   "metadata": {},
   "source": [
    "We visualise the field lines in top view, poloidal cross-section view and 3D view. Notice that the field lines make five toroidal turns until they close in on themselves, which corresponds to the $m=5$ resonant surface."
   ]
  },
  {
   "cell_type": "code",
   "execution_count": null,
   "metadata": {},
   "outputs": [],
   "source": [
    "plt.figure(figsize=(10,5))\n",
    "\n",
    "# Define limiter as viewed from the top\n",
    "Ns = 100\n",
    "inner_lim = eq.coordinates(np.min(eq.first_wall.R)*np.ones(Ns), np.zeros(Ns), np.linspace(0, 2*np.pi, Ns))\n",
    "outer_lim = eq.coordinates(np.max(eq.first_wall.R)*np.ones(Ns), np.zeros(Ns), np.linspace(0, 2*np.pi, Ns))\n",
    "\n",
    "#Plot the field lines in top view\n",
    "ax = plt.subplot(121)\n",
    "ax.plot(inner_lim.X, inner_lim.Y, 'k-', lw=4)\n",
    "ax.plot(outer_lim.X, outer_lim.Y, 'k-', lw=4)\n",
    "ax.plot(tr1.X, tr1.Y)\n",
    "ax.plot(tr2.X, tr2.Y)\n",
    "ax.plot(tr3.X, tr3.Y)\n",
    "ax.set_xlabel('$X$ [m]')\n",
    "ax.set_ylabel('$Y$ [m]')\n",
    "ax.set_aspect('equal')\n",
    "\n",
    "#Plot the field lines in the poloidal cross-section view\n",
    "ax = plt.subplot(122)\n",
    "ax.plot(eq.first_wall.R, eq.first_wall.Z, 'k-')\n",
    "ax.plot(eq.lcfs.R, eq.lcfs.Z, 'k--')\n",
    "ax.plot(tr1.R, tr1.Z)\n",
    "ax.plot(tr2.R, tr2.Z)\n",
    "ax.plot(tr3.R, tr3.Z)\n",
    "ax.set_xlabel('$R$ [m]')\n",
    "ax.set_ylabel('$Z$ [m]')\n",
    "ax.set_aspect('equal')\n",
    "\n",
    "#Plot the field line in 3D\n",
    "fig = plt.figure()\n",
    "ax = fig.gca(projection='3d')\n",
    "ax.plot(tr1.X, tr1.Y, tr1.Z)\n",
    "ax.plot(tr2.X, tr2.Y, tr2.Z)\n",
    "ax.plot(tr3.X, tr3.Y, tr3.Z)\n",
    "#ax.set_aspect('equal')\n",
    "ax.set_xlabel('$X$ [m]')\n",
    "ax.set_ylabel('$Y$ [m]')\n",
    "ax.set_zlabel('$Z$ [m]')"
   ]
  },
  {
   "cell_type": "markdown",
   "metadata": {},
   "source": [
    "Plotting the field lines in the $[\\theta, \\phi]$ and $[\\theta^*, \\phi]$ coordinates, we find that they are curves in the former and straight lines in the latter."
   ]
  },
  {
   "cell_type": "code",
   "execution_count": null,
   "metadata": {},
   "outputs": [],
   "source": [
    "fig, axes = plt.subplots(1, 2, figsize=(12,5))\n",
    "ax1, ax2 = axes\n",
    "\n",
    "for t in [tr1, tr2, tr3]:\n",
    "    # Extract the theta, theta_star and Phi coordinates from the field lines\n",
    "    theta = np.mod(t.theta, 2*np.pi)\n",
    "    theta_star = thstar_spl(theta)\n",
    "    phi = np.mod(t.phi, 2*np.pi)\n",
    "    \n",
    "    # Mask the coordinates for plotting purposes\n",
    "    theta = ma.masked_greater(theta, 2*np.pi-1e-2)\n",
    "    theta = ma.masked_less(theta, 1e-2)\n",
    "    theta_star = ma.masked_greater(theta_star, 2*np.pi-1e-2)\n",
    "    theta_star = ma.masked_less(theta_star, 1e-2)\n",
    "    phi = ma.masked_greater(phi, 2*np.pi-1e-2)\n",
    "    phi = ma.masked_less(phi, 1e-2)\n",
    "\n",
    "    # Plot the coordinates [theta, Phi] and [theta_star, Phi]\n",
    "    ax1.plot(phi, theta, 'k-')\n",
    "    ax2.plot(phi, theta_star, 'k-')\n",
    "\n",
    "#Add labels to the two subplots\n",
    "ax1.set_xlabel(r'$\\phi$ [rad]')\n",
    "ax1.set_ylabel(r'$\\theta$ [rad]')\n",
    "ax2.set_xlabel(r'$\\phi$ [rad]')\n",
    "ax2.set_ylabel(r'$\\theta^*$ [rad]')"
   ]
  },
  {
   "cell_type": "markdown",
   "metadata": {},
   "source": [
    "Finally, we plot the difference between the two coordinate systems in the poloidal cross-section view, where lines represent points with constant $\\psi_N$ and $\\theta$ (or $\\theta^*$)."
   ]
  },
  {
   "cell_type": "code",
   "execution_count": null,
   "metadata": {},
   "outputs": [],
   "source": [
    "#Define flux surfaces where theta will be evaluated\n",
    "psi_n = np.linspace(0, 1, 200)[1:-1]\n",
    "surfs = [eq._flux_surface(pn)[0] for pn in psi_n]\n",
    "\n",
    "#Define the flux surfaces which will show on the plot\n",
    "psi_n2 = np.linspace(0, 1, 7)[1:]\n",
    "surfs2 = [eq._flux_surface(pn)[0] for pn in psi_n2]\n",
    "\n",
    "#Define poloidal angles where theta isolines will be plotted\n",
    "thetas = np.linspace(0, 2*np.pi, 13, endpoint=False)\n",
    "\n",
    "#Prepare figure\n",
    "fig, axes = plt.subplots(1, 2, figsize=(10,6))\n",
    "ax1, ax2 = axes\n",
    "\n",
    "#Plot LCFS and several flux surfaces in both the plots\n",
    "eq.lcfs.plot(ax = ax1, color = 'k', ls = '-', lw=3)\n",
    "eq.lcfs.plot(ax = ax2, color = 'k', ls = '-', lw=3)\n",
    "for s in surfs2:\n",
    "    s.plot(ax = ax1, color='k', lw = 1)\n",
    "    s.plot(ax = ax2, color='k', lw = 1)\n",
    "\n",
    "#Plot theta and theta_star isolines\n",
    "for th in thetas:\n",
    "    # this is so ugly it has to implemented better as soon as possible (!)\n",
    "#    print(th)\n",
    "    c = eq.coordinates(r = np.linspace(0, 0.4, 150), theta = np.ones(150)*th)\n",
    "    amin = np.argmin(np.abs(c.psi_n - 1))\n",
    "    r_lcfs = c.r[amin]\n",
    "    \n",
    "    psi_n = np.array([np.mean(s.psi_n) for s in surfs])    \n",
    "    c = eq.coordinates(r = np.linspace(0, r_lcfs, len(psi_n)), theta=np.ones(len(psi_n))*th)\n",
    "    c.plot(ax = ax1, color='k', lw=1)\n",
    "    \n",
    "    idxs = [np.argmin(np.abs(s.straight_fieldline_theta - th)) for s in surfs]\n",
    "    rs = [s.r[i] for s,i in zip(surfs,idxs)]\n",
    "    rs = np.hstack((0, rs))\n",
    "    thetas  = [s.theta[i] for s,i in zip(surfs,idxs)]\n",
    "    thetas = np.hstack((0, thetas))\n",
    "    c = eq.coordinates(r = rs, theta = thetas)\n",
    "    c.plot(ax = ax2, color = 'k', lw=1)\n",
    "    \n",
    "# Make both the subplots pretty\n",
    "ax1.set_title(r'$\\theta$')\n",
    "ax1.set_aspect('equal')\n",
    "ax1.set_xlabel('$R$ [m]')\n",
    "ax1.set_ylabel('$Z$ [m]')\n",
    "ax2.set_title(r'$\\theta^*$')\n",
    "ax2.set_aspect('equal')\n",
    "ax2.set_xlabel('$R$ [m]')\n",
    "ax2.set_ylabel('$Z$ [m]')"
   ]
  },
  {
   "cell_type": "markdown",
   "metadata": {},
   "source": [
    "## Separatrix position in a profile\n",
    "\n",
    "In experiment, one is often interested where the separatrix is along the chord of their measurement. In the following example the separatrix coordinates are calculated at the geometric outer midplane, that is, $Z=0$."
   ]
  },
  {
   "cell_type": "code",
   "execution_count": null,
   "metadata": {},
   "outputs": [],
   "source": [
    "#Define the measurement chord using two points\n",
    "chord = eq.coordinates(R=[0.6,0.8], Z=[0,0])\n",
    "\n",
    "#Calculate the intersection of the chord with the separatrix in 2D\n",
    "intersection_point = chord.intersection(eq.lcfs, dim=2)\n",
    "\n",
    "#Plot the plasma with the intersection point\n",
    "ax = plt.gca()\n",
    "eq.lcfs.plot()\n",
    "eq.first_wall.plot(c='k')\n",
    "chord.plot(color='g', marker='x')\n",
    "intersection_point.plot(marker='o', color='r')\n",
    "ax.set_aspect('equal')\n",
    "ax.set_xlabel('$R$ [m]')\n",
    "ax.set_ylabel('$Z$ [m]')\n",
    "\n",
    "intersection_point.R"
   ]
  },
  {
   "cell_type": "code",
   "execution_count": null,
   "metadata": {},
   "outputs": [],
   "source": []
  }
 ],
 "metadata": {
  "kernelspec": {
   "display_name": "Python 3",
   "language": "python",
   "name": "python3"
  },
  "language_info": {
   "codemirror_mode": {
    "name": "ipython",
    "version": 3
   },
   "file_extension": ".py",
   "mimetype": "text/x-python",
   "name": "python",
   "nbconvert_exporter": "python",
   "pygments_lexer": "ipython3",
   "version": "3.7.0"
  }
 },
 "nbformat": 4,
 "nbformat_minor": 1
}
