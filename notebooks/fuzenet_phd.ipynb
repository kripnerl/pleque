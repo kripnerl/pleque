{
 "cells": [
  {
   "cell_type": "code",
   "execution_count": null,
   "metadata": {},
   "outputs": [],
   "source": [
    "%pylab notebook "
   ]
  },
  {
   "cell_type": "code",
   "execution_count": null,
   "metadata": {},
   "outputs": [],
   "source": [
    "from pleque.io import _geqdsk as eqdsktool \n",
    "from pleque.io._readers import read_eqdsk\n",
    "from pleque.utils.plotting import *\n",
    "from pleque import Equilibrium\n",
    "from test.testing_utils import get_test_equilibria_filenames, load_testing_equilibrium\n",
    "\n",
    "\n"
   ]
  },
  {
   "cell_type": "code",
   "execution_count": null,
   "metadata": {},
   "outputs": [],
   "source": [
    "mpl.get_configdir()"
   ]
  },
  {
   "cell_type": "code",
   "execution_count": null,
   "metadata": {},
   "outputs": [],
   "source": [
    "print('\\n'.join(plt.style.available))\n",
    "plt.style.use('seaborn-talk')\n",
    "#plt.style.use(['default', 'presentation'])\n",
    "#plt.style.use(['default'])\n",
    "plt.style.reload_library()"
   ]
  },
  {
   "cell_type": "code",
   "execution_count": null,
   "metadata": {
    "collapsed": true
   },
   "outputs": [],
   "source": [
    "%load_ext autoreload\n",
    "%autoreload 2"
   ]
  },
  {
   "cell_type": "code",
   "execution_count": null,
   "metadata": {
    "collapsed": true
   },
   "outputs": [],
   "source": [
    "def save_it(name, v=1):\n",
    "    file_dir = '/compass/home/kripner/konference/2018_PhdEvent/fig/'\n",
    "    savefig(file_dir +  name +'_v' + str(v) + '.png', transparent=True)\n",
    "    savefig(file_dir +  name +'_v' + str(v) + '.pdf', transparent=True)\n",
    "    "
   ]
  },
  {
   "cell_type": "code",
   "execution_count": null,
   "metadata": {},
   "outputs": [],
   "source": [
    "gfiles = get_test_equilibria_filenames()\n",
    "gfiles"
   ]
  },
  {
   "cell_type": "code",
   "execution_count": null,
   "metadata": {
    "collapsed": true
   },
   "outputs": [],
   "source": [
    "eq = load_testing_equilibrium()"
   ]
  },
  {
   "cell_type": "code",
   "execution_count": null,
   "metadata": {
    "collapsed": true
   },
   "outputs": [],
   "source": [
    "g = eq.grid(resolution=[1e-3, 1e-3])\n",
    "g.psi.shape"
   ]
  },
  {
   "cell_type": "code",
   "execution_count": null,
   "metadata": {
    "collapsed": true,
    "scrolled": false
   },
   "outputs": [],
   "source": [
    "# first three files are fiesta and may cause some troubles\n",
    "Npl = 6\n",
    "\n",
    "eq = read_eqdsk(gfiles[Npl])\n",
    "\n",
    "eq_iter = read_eqdsk(gfiles[4])\n",
    "with open(gfiles[Npl], 'r') as f:\n",
    "    eq_efit = eqdsktool.read(f)\n",
    "eq_efit.keys()\n",
    "\n",
    "plt.figure()\n",
    "eq._plot_overview()\n",
    "save_it('overview', 1)"
   ]
  },
  {
   "cell_type": "code",
   "execution_count": null,
   "metadata": {
    "collapsed": true
   },
   "outputs": [],
   "source": [
    "plt.figure()\n",
    "eq._plot_overview()\n",
    "plot_extremes(eq, markeredgewidth=2)\n",
    "plt.tight_layout()\n",
    "save_it('overview_with_extremes')\n"
   ]
  },
  {
   "cell_type": "code",
   "execution_count": null,
   "metadata": {
    "collapsed": true
   },
   "outputs": [],
   "source": [
    "#gfile\n",
    "\n",
    "r_axis = np.linspace(eq_efit[\"rleft\"], eq_efit[\"rleft\"] + eq_efit[\"rdim\"], eq_efit[\"nx\"])\n",
    "z_axis = np.linspace(eq_efit[\"zmid\"] - eq_efit[\"zdim\"] / 2, eq_efit[\"zmid\"] + eq_efit[\"zdim\"] / 2, eq_efit[\"ny\"])\n",
    "\n",
    "plt.figure()\n",
    "ax = plt.gca()\n",
    "ax.plot(eq_efit['rlim'], eq_efit['zlim'], color='k', lw=2)\n",
    "#ax.plot(eq_efit['rbdry'], eq_efit['zbdry'], 'C1--', lw=2)\n",
    "ax.contour(r_axis, z_axis, eq_efit['psi'].T, 20)\n",
    "ax.contour(r_axis, z_axis, eq_efit['psi'].T, [eq_efit['sibdry']])\n",
    "ax.set_xlabel('R [m]')\n",
    "ax.set_ylabel('Z [m]')\n",
    "ax.set_aspect('equal')\n",
    "ax.set_xlim(0.4, 0.54)\n",
    "ax.set_ylim(-.38, -.28)\n",
    "\n",
    "save_it('gfile', 2)"
   ]
  },
  {
   "cell_type": "code",
   "execution_count": null,
   "metadata": {
    "collapsed": true
   },
   "outputs": [],
   "source": [
    "plt.figure()\n",
    "ax = plt.gca()\n",
    "ax.plot(eq_efit['rlim'], eq_efit['zlim'], color='k', lw=2)\n",
    "ax.plot(eq_efit['rbdry'], eq_efit['zbdry'], 'C0-.', lw=2)\n",
    "ax.contour(r_axis, z_axis, eq_efit['psi'].T, [eq_efit['sibdry']], colors='C0')\n",
    "\n",
    "eq.lcfs.plot(color='C1', ls='--')\n",
    "ax.plot(eq._x_point[0], eq._x_point[1], 'C1+', lw=3)\n",
    "\n",
    "ax.set_aspect('equal')\n",
    "#ax.set_xlim((5.06, 5.09))\n",
    "#ax.set_ylim((-3.45, -3.43))\n"
   ]
  },
  {
   "cell_type": "markdown",
   "metadata": {},
   "source": [
    "## q-profile"
   ]
  },
  {
   "cell_type": "code",
   "execution_count": null,
   "metadata": {
    "collapsed": true,
    "scrolled": false
   },
   "outputs": [],
   "source": [
    "\n",
    "# q profiles\n",
    "\n",
    "coords = eq.coordinates(psi_n = np.linspace(0, 1, 201, endpoint=True))\n",
    "\n",
    "surf_psin = linspace(0.95, 1, 121, endpoint=False) \n",
    "surfs = [eq._flux_surface(psi_n=psi_n)[0] for psi_n in surf_psin]\n",
    "\n",
    "surf_psin = [np.mean(s.psi_n) for s in surfs]\n",
    "surf_q    = np.array([np.asscalar(s.eval_q) for s in surfs])\n",
    "surf_q2    = np.array([np.asscalar(s.get_eval_q('trapz')) for s in surfs])\n",
    "surf_q3    = np.array([np.asscalar(s.get_eval_q('simps')) for s in surfs])\n",
    "\n",
    "qpsi = eq_efit['qpsi']\n",
    "psi_n_1 = np.linspace(0, 1, len(qpsi), endpoint=True)\n",
    "psi_n_2 = np.linspace(0, 1, len(qpsi), endpoint=False)\n",
    "    \n",
    "    \n",
    "plt.figure()\n",
    "\n",
    "plt.plot(psi_n_1, np.abs(eq_efit['qpsi']), 'x', label='eqdsk 1')\n",
    "#plt.plot(psi_n_2, np.abs(eq_efit['qpsi']), '--', label='eqdsk 2')\n",
    "plt.plot(coords.psi_n, np.abs(eq.q(coords)), '--', label=r'pleque: Equilibrium $q$')\n",
    "plt.plot(surf_psin, np.abs(surf_q), '-', label=r'pleque: eval_q')\n",
    "#plt.plot(surf_psin, np.abs(surf_q2), '--', label=r'pleque: eval_q2')\n",
    "#plt.plot(surf_psin, np.abs(surf_q3), '--', label=r'pleque: eval_q3')\n",
    "plt.xlim((0.5, 1.05))\n",
    "plt.xlabel(r'$\\psi_\\mathrm{N}$')\n",
    "plt.ylabel(r'$q$')\n",
    "           \n",
    "plt.axvline(1, ls='--', color='k')\n",
    "save_it('q_profile')\n",
    "\n",
    "\n",
    "plt.legend()\n",
    "\n",
    "plt.figure()\n",
    "plt.plot(surf_psin, (surf_q-surf_q2)**2, label='q vs q2')\n",
    "plt.plot(surf_psin, (surf_q-surf_q3)**2, label='q vs q3')\n",
    "plt.plot(surf_psin, (surf_q2-surf_q3)**2, label='q2 vs q3')\n",
    "plt.legend()\n",
    "\n"
   ]
  },
  {
   "cell_type": "markdown",
   "metadata": {},
   "source": [
    "## Plotting 2d maps of various quiantities"
   ]
  },
  {
   "cell_type": "code",
   "execution_count": null,
   "metadata": {
    "collapsed": true
   },
   "outputs": [],
   "source": [
    "def plot_2d(R, Z, data, *args, title=None):\n",
    "    \n",
    "    rlim = [np.min(eq.first_wall.R), np.max(eq.first_wall.R)]\n",
    "    zlim = [np.min(eq.first_wall.Z), np.max(eq.first_wall.Z)]\n",
    "\n",
    "    size = rlim[1] - rlim[0]\n",
    "    rlim[0] -= size / 12\n",
    "    rlim[1] += size / 12\n",
    "\n",
    "    size = zlim[1] - zlim[0]\n",
    "    zlim[0] -= size / 12\n",
    "    zlim[1] += size / 12\n",
    "    \n",
    "    plt.figure()    \n",
    "    ax = plt.gca()\n",
    "    \n",
    "    ax.set_xlim(rlim)\n",
    "    ax.set_ylim(zlim)\n",
    "    \n",
    "    ax.plot(eq.lcfs.R, eq.lcfs.Z, color='k', ls='--', lw=2)\n",
    "    ax.plot(eq.first_wall.R, eq.first_wall.Z, 'k-', lw=2)\n",
    "    ax.set_xlabel('R [m]')\n",
    "    ax.set_ylabel('Z [m]')\n",
    "    \n",
    "\n",
    "    ax.set_aspect('equal')\n",
    "    \n",
    "    cl = ax.contour(R, Z, data, *args)\n",
    "    \n",
    "    if title is not None:\n",
    "        ax.set_title(title)\n",
    "        \n",
    "    return cl"
   ]
  },
  {
   "cell_type": "code",
   "execution_count": null,
   "metadata": {
    "collapsed": true,
    "scrolled": false
   },
   "outputs": [],
   "source": [
    "eq = eq_iter\n",
    "grid = eq.grid((200,300),dim='size')\n",
    "\n",
    "plot_2d(grid.R, grid.Z, grid.psi, 20, title=r'$\\psi$')\n",
    "save_it('tok_psi', 2)\n",
    "plot_2d(grid.R, grid.Z, eq.B_pol(grid), 20, title=r'$B_\\mathrm{p}$')\n",
    "save_it('tok_Bp', 2)\n",
    "plot_2d(grid.R, grid.Z, eq.B_tor(grid), 20, title=r'$B_\\mathrm{t}$')\n",
    "save_it('tok_Bt', 2)\n",
    "plot_2d(grid.R, grid.Z, eq.B_abs(grid), 20, title=r'$|B|$')\n",
    "save_it('tok_Babs', 2)\n",
    "cl = plot_2d(grid.R, grid.Z, eq.pressure(grid)/1e3, np.linspace(0, 8e5/1e3, 41), title=r'$p$ [kPa]')\n",
    "plt.colorbar(cl)\n",
    "save_it('tok_press', 2)\n",
    "cl = plot_2d(grid.R, grid.Z, eq.j_tor(grid), np.linspace(0, 1e7, 21), title=r'$j_\\phi$')\n",
    "plt.colorbar(cl)\n",
    "save_it('tok_jphi', 2)\n",
    "cl = plot_2d(grid.R, grid.Z, eq.j_pol(grid), np.linspace(0, 3e5, 21), title=r'$j_\\theta$')\n",
    "save_it('tok_jtheta', 2)\n",
    "cl = plot_2d(grid.R, grid.Z, eq.tor_flux(grid), np.linspace(-40, 0, 21), title='toroidal flux')\n",
    "save_it('tok_tor_flux', 2)\n",
    "#plt.colorbar(cl)\n"
   ]
  },
  {
   "cell_type": "markdown",
   "metadata": {},
   "source": [
    "## FluxSurfaces"
   ]
  },
  {
   "cell_type": "code",
   "execution_count": null,
   "metadata": {
    "collapsed": true
   },
   "outputs": [],
   "source": [
    "surf = eq._flux_surface(psi_n=0.8)[0]\n",
    "\n",
    "plt.figure()\n",
    "ax = gca()\n",
    "ax.plot(eq.lcfs.R, eq.lcfs.Z, color='k', ls='--', lw=2)\n",
    "ax.plot(eq.first_wall.R, eq.first_wall.Z, 'k-', lw=2)\n",
    "\n",
    "surf.plot(ls='--')\n",
    "\n",
    "ax.set_xlabel('R [m]')\n",
    "ax.set_ylabel('Z [m]')\n",
    "\n",
    "ax.set_aspect('equal')\n",
    "\n",
    "save_it('flux_surf', 2)\n",
    "\n",
    "l = dict(q=surf.eval_q, \n",
    "         length=surf.length,\n",
    "         area=surf.area,\n",
    "         volume=surf.volume,\n",
    "         current=surf.tor_current/1e6)\n",
    "l"
   ]
  },
  {
   "cell_type": "markdown",
   "metadata": {},
   "source": [
    "## Profile mappings: "
   ]
  },
  {
   "cell_type": "code",
   "execution_count": null,
   "metadata": {
    "collapsed": true,
    "scrolled": true
   },
   "outputs": [],
   "source": [
    "eq = read_eqdsk(gfiles[5])"
   ]
  },
  {
   "cell_type": "code",
   "execution_count": null,
   "metadata": {
    "collapsed": true,
    "scrolled": false
   },
   "outputs": [],
   "source": [
    "from scipy.special import erf\n",
    "\n",
    "\n",
    "N = 200\n",
    "\n",
    "chord1 = eq.coordinates(R=0.6*np.ones(N), Z=np.linspace(0.3, 0., N))\n",
    "chord2 = eq.coordinates(R=np.linspace(0.35, 0.6, 20), Z=-0.1*np.ones(20))\n",
    "\n",
    "\n",
    "# let's define some testing profile function: \n",
    "prof_func = lambda x, k1, xsep: k1/4 * (1 + erf((x-xsep)*20))*np.log((x+1)*1.2) - 4*np.exp(-(50*(x-1)**2))\n",
    "chord_prof = prof_func(1 - chord1.psi_n, 10, 0.15)\n",
    "\n",
    "# todo here\n",
    "plt.figure(figsize=(10,4))\n",
    "plt.plot(chord1.Z, chord_prof, color='C3')\n",
    "eq.fluxfuncs.add_flux_func('test_prof', chord_prof, chord1, spline_smooth=0)\n",
    "plt.plot(chord1.Z, eq.fluxfuncs.test_prof(chord1), '--', color='C3')\n",
    "plt.xlabel('Z [m]')\n",
    "plt.ylabel('profile value [a.u.]')\n",
    "plt.tight_layout()\n",
    "\n",
    "save_it('profile_c1', 2)\n",
    "\n",
    "plt.figure(figsize=(10,4))\n",
    "plt.plot(chord2.R, eq.fluxfuncs.test_prof(chord2), '--', color='C4')\n",
    "plt.xlabel('R [m]')\n",
    "plt.ylabel('profile value [a.u.]')\n",
    "plt.tight_layout()\n",
    "save_it('profile_c2', 2)\n",
    "\n",
    "plt.figure(figsize=(10,4))\n",
    "plt.plot(chord1.r_mid, chord_prof, color='C1')\n",
    "plt.xlabel(r'$r_\\mathrm{mid}$ [m]')\n",
    "plt.ylabel('profile value [a.u.]')\n",
    "\n",
    "plt.tight_layout()\n",
    "save_it('profile_r_mid', 2)\n",
    "\n",
    "plt.figure()\n",
    "eq._plot_overview()\n",
    "\n",
    "chord1.plot(lw=3, ls='--', color='C3')\n",
    "chord2.plot(lw=3, ls='--', color='C4')\n",
    "save_it('profile_tokamak', 2)\n",
    "\n"
   ]
  },
  {
   "cell_type": "code",
   "execution_count": null,
   "metadata": {
    "collapsed": true
   },
   "outputs": [],
   "source": [
    "plt.figure()\n",
    "ax = gca()\n",
    "ax.plot(eq.lcfs.R, eq.lcfs.Z, color='k', ls='--', lw=2)\n",
    "ax.plot(eq.first_wall.R, eq.first_wall.Z, 'k-', lw=2)\n",
    "\n",
    "grid = eq.grid()\n",
    "ax.pcolormesh(grid.R, grid.Z, eq.fluxfuncs.test_prof(grid))\n",
    "\n",
    "ax.set_xlabel('R [m]')\n",
    "ax.set_ylabel('Z [m]')\n",
    "\n",
    "ax.set_aspect('equal')\n",
    "\n",
    "save_it('profile_2d', 2)"
   ]
  },
  {
   "cell_type": "markdown",
   "metadata": {
    "collapsed": true
   },
   "source": [
    "## Some 3D"
   ]
  },
  {
   "cell_type": "code",
   "execution_count": null,
   "metadata": {
    "collapsed": true
   },
   "outputs": [],
   "source": [
    "eq = load_testing_equilibrium()"
   ]
  },
  {
   "cell_type": "code",
   "execution_count": null,
   "metadata": {
    "collapsed": true
   },
   "outputs": [],
   "source": [
    "# Let's define some detector: \n",
    "# R = 1.25, Z = 0, phi = 0 pointing to (direction)\n",
    "# x = -1, y = 0.5, z = 0\n",
    "\n",
    "direction = np.array((-1, 0.6, 0.2))\n",
    "direction /= np.linalg.norm(direction)\n",
    "position = np.array((1.25, 0, -0.1))\n",
    "\n",
    "# Let's define limiters: \n",
    "Ns = 100\n",
    "inner_lim = eq.coordinates(np.min(eq.first_wall.R)*np.ones(Ns), np.zeros(Ns), np.linspace(0, 2*np.pi, Ns))\n",
    "outer_lim = eq.coordinates(np.max(eq.first_wall.R)*np.ones(Ns), np.zeros(Ns), np.linspace(0, 2*np.pi, Ns))\n",
    "\n",
    "# Line of view of the detector (i.e. camera pixel):\n",
    "camera_view = eq.coordinates(position+direction[np.newaxis,:]*np.linspace(0, 2.0, 20)[:, np.newaxis], coord_type=('X', 'Y', 'Z'))\n",
    "\n",
    "fig, axs = plt.subplots(1,2)\n",
    "# Upper view:\n",
    "ax = axs[0]\n",
    "ax.plot(inner_lim.X, inner_lim.Y, 'k-')\n",
    "ax.plot(outer_lim.X, outer_lim.Y, 'k-')\n",
    "ax.plot(camera_view.X, camera_view.Y, 'x--', label='Chord of the view')\n",
    "ax.plot(position[0], position[1], 'd', color='C0')\n",
    "ax.legend()\n",
    "ax.set_aspect('equal')\n",
    "\n",
    "ax = axs[1]\n",
    "ax.plot(eq.first_wall.R, eq.first_wall.Z, 'k-')\n",
    "ax.plot(eq.lcfs.R, eq.lcfs.Z, 'k--')\n",
    "ax.plot(camera_view.R, camera_view.Z, 'x--')\n",
    "ax.plot(position[0], position[2], 'd', color='C0')\n",
    "ax.set_aspect('equal')\n",
    "\n",
    "save_it('profile_3d', 2)"
   ]
  },
  {
   "cell_type": "markdown",
   "metadata": {},
   "source": [
    "## Straight field lines"
   ]
  },
  {
   "cell_type": "code",
   "execution_count": null,
   "metadata": {
    "collapsed": true
   },
   "outputs": [],
   "source": [
    "from scipy.optimize import minimize_scalar, brentq\n",
    "\n",
    "#eq = load_testing_equilibrium(2)\n",
    "#plt.figure()\n",
    "#eq._plot_overview()\n",
    "\n",
    "# todo: here is some ugly bug! Try to reslove it as soon as possible\n",
    "#surf = eq._flux_surface(psi_n = 0.8)[0]\n",
    "\n",
    "#surf.straight_fieldline_theta\n",
    "\n",
    "psi_onq = brentq(lambda psi_n: np.abs(eq.q(psi_n)) - 5/3, 0, 0.95)\n",
    "print(r'$\\psi$ on q: {:.3f}'.format(psi_onq))\n",
    "surf = eq._flux_surface(psi_n = psi_onq)[0]"
   ]
  },
  {
   "cell_type": "code",
   "execution_count": null,
   "metadata": {
    "collapsed": true,
    "scrolled": false
   },
   "outputs": [],
   "source": [
    "from scipy.interpolate import CubicSpline\n",
    "\n",
    "theta = np.mod(surf.theta, 2*np.pi)\n",
    "theta_star = surf.straight_fieldline_theta\n",
    "\n",
    "asort = np.argsort(theta)\n",
    "#should be smothed \n",
    "theta = theta[asort][2::4]\n",
    "theta_star = theta_star[asort][2::4]\n",
    "\n",
    "plt.figure()\n",
    "plt.plot(np.diff(theta))\n",
    "plt.plot(ma.masked_greater(np.diff(theta), 0))\n",
    "\n",
    "plt.figure()\n",
    "plt.plot(theta)\n",
    "\n",
    "thstar_spl = CubicSpline(theta, theta_star, extrapolate='periodic')\n",
    "\n",
    "\n",
    "\n",
    "\n",
    "plt.figure()\n",
    "thh = np.linspace(0, 6*np.pi,100)\n",
    "plt.plot(thh, thstar_spl(thh), 'x-')\n",
    "plt.plot(thh, surf._theta2thetastar_spl(thh), 'x-')\n",
    "\n"
   ]
  },
  {
   "cell_type": "code",
   "execution_count": null,
   "metadata": {
    "collapsed": true
   },
   "outputs": [],
   "source": [
    "traces = eq.trace_field_line(r=eq.coordinates(psi_onq).r_mid[0], theta=0)\n",
    "tr = traces[0]\n",
    "print('tr:  {:3f},{:3f},{:3f} -> {:3f},{:3f},{:3f}'.format( tr.R[0],  tr.Z[0],  tr.phi[0],  tr.R[-1],  tr.Z[-2],  tr.phi[-1]))\n",
    "\n",
    "traces2 = eq.trace_field_line(tr.R[-1], tr.Z[-1], tr.phi[-1])\n",
    "tr2 = traces2[0]\n",
    "print('tr2: {:3f},{:3f},{:3f} -> {:3f},{:3f},{:3f}'.format(tr2.R[0], tr2.Z[0], tr2.phi[0], tr2.R[-1], tr2.Z[-2], tr2.phi[-1]))\n",
    "\n",
    "traces3 = eq.trace_field_line(tr2.R[-1], tr2.Z[-1], tr2.phi[-1])\n",
    "tr3 = traces3[0]\n",
    "print('tr3: {:3f},{:3f},{:3f} -> {:3f},{:3f},{:3f}'.format(tr3.R[0], tr3.Z[0], tr3.phi[0], tr3.R[-1], tr3.Z[-2], tr3.phi[-1]))"
   ]
  },
  {
   "cell_type": "code",
   "execution_count": null,
   "metadata": {
    "collapsed": true,
    "scrolled": false
   },
   "outputs": [],
   "source": [
    "from mpl_toolkits.mplot3d import Axes3D\n",
    "fig = plt.figure()\n",
    "ax = fig.gca(projection='3d')\n",
    "\n",
    "fl = tr\n",
    "ax.scatter( tr.X,  fl.Y,  tr.Z, marker='.')\n",
    "ax.scatter(tr2.X, tr2.Y, tr2.Z, marker='.')\n",
    "ax.scatter(tr3.X, tr3.Y, tr3.Z, marker='.')\n",
    "\n",
    "ax.set_aspect('equal')\n",
    "ax.set_xlabel('x [m]')\n",
    "ax.set_ylabel('y [m]')\n",
    "ax.set_zlabel('z [m]')\n",
    "\n",
    "save_it('straight_fl_3d')\n",
    "\n",
    "\n",
    "fig = plt.figure()\n",
    "ax = fig.gca()\n",
    "\n",
    "ax.plot(eq.first_wall.R, eq.first_wall.Z, 'k-')\n",
    "ax.plot(eq.lcfs.R, eq.lcfs.Z, 'k--')\n",
    "\n",
    "ax.scatter(tr.R, tr.Z, s=2, marker='.')\n",
    "ax.scatter(tr2.R, tr2.Z, s=2, marker='.')\n",
    "ax.scatter(tr3.R, tr3.Z, s=2, marker='.')\n",
    "\n",
    "ax.set_xlabel('R [m]')\n",
    "ax.set_ylabel('Z [m]')\n",
    "ax.set_aspect('equal')\n",
    "\n",
    "save_it('straight_fl_rz')\n",
    "\n",
    "fig = plt.figure()\n",
    "ax = fig.gca()\n",
    "\n",
    "# Let's define limiters: \n",
    "Ns = 100\n",
    "inner_lim = eq.coordinates(np.min(eq.first_wall.R)*np.ones(Ns), np.zeros(Ns), np.linspace(0, 2*np.pi, Ns))\n",
    "outer_lim = eq.coordinates(np.max(eq.first_wall.R)*np.ones(Ns), np.zeros(Ns), np.linspace(0, 2*np.pi, Ns))\n",
    "\n",
    "ax.plot(inner_lim.X, inner_lim.Y, 'k-', lw=4)\n",
    "ax.plot(outer_lim.X, outer_lim.Y, 'k-', lw=4)\n",
    "\n",
    "\n",
    "ax.plot(tr.X, tr.Y)\n",
    "ax.plot(tr2.X, tr2.Y)\n",
    "ax.plot(tr3.X, tr3.Y)\n",
    "\n",
    "ax.set_xlabel('X [m]')\n",
    "ax.set_ylabel('Y [m]')\n",
    "ax.set_aspect('equal')\n",
    "\n",
    "save_it('straight_fl_xy')\n",
    "\n",
    "plt.figure()\n",
    "ax = plt.gca()\n",
    "ax.plot(surf.psi)\n",
    "ax.plot(tr.psi)"
   ]
  },
  {
   "cell_type": "code",
   "execution_count": null,
   "metadata": {
    "collapsed": true,
    "scrolled": false
   },
   "outputs": [],
   "source": [
    "from numpy import ma\n",
    "plt.figure()\n",
    "plt.axhline(0, ls='--', color='k')\n",
    "plt.plot(surf.theta, np.mod(np.pi+surf.straight_fieldline_theta, 2*np.pi)-np.pi)\n",
    "plt.plot(np.mod(surf.theta, 2*np.pi), surf.straight_fieldline_theta)\n",
    "\n",
    "plt.xlabel(r'$\\theta$')\n",
    "plt.ylabel(r'$\\theta_\\mathrm{sl}$')\n",
    "\n",
    "\n",
    "plt.ylabel(r'$\\theta_\\mathrm{sl}$')\n",
    "\n",
    "plt.figure()\n",
    "plt.plot(surf.theta)\n",
    "plt.plot(np.mod(np.pi+surf.straight_fieldline_theta, 2*np.pi)-np.pi)\n",
    "\n",
    "trs = [tr, tr2, tr3]\n",
    "\n",
    "f1 = plt.figure()\n",
    "ax_fl = plt.gca()\n",
    "\n",
    "f2 = plt.figure()\n",
    "ax_sfl = plt.gca()\n",
    "\n",
    "f3 = plt.figure()\n",
    "ax3 = plt.gca()\n",
    "\n",
    "for t in trs:\n",
    "    theta_tr = np.mod(t.theta, 2*np.pi)\n",
    "    theta_sfl_tr = thstar_spl(theta_tr)\n",
    "    phi_tr = np.mod(t.phi, 2*np.pi)\n",
    "    \n",
    "    \n",
    "    theta_tr = ma.masked_greater(theta_tr, 2*np.pi-1e-2)\n",
    "    theta_tr = ma.masked_less(theta_tr, 1e-2)\n",
    "    \n",
    "    theta_sfl_tr = ma.masked_greater(theta_sfl_tr, 2*np.pi-1e-2)\n",
    "    theta_sfl_tr = ma.masked_less(theta_sfl_tr, 1e-2)\n",
    "    \n",
    "    phi_tr = ma.masked_greater(phi_tr, 2*np.pi-1e-2)\n",
    "    phi_tr = ma.masked_less(phi_tr, 1e-2)\n",
    "\n",
    "    ax_fl.plot(phi_tr, theta_tr, 'k-')\n",
    "    ax_sfl.plot(phi_tr, theta_sfl_tr, 'k-')\n",
    "    \n",
    "    ax3.plot(diff(theta_sfl_tr))\n",
    "    \n",
    "ax_fl.set_xlabel(r'$\\phi$')\n",
    "ax_fl.set_ylabel(r'$\\theta$')\n",
    "ax_fl.set_title(r'$q = 5/3$')\n",
    "plt.figure(f1.number)\n",
    "save_it('straight_fl_not')\n",
    "\n",
    "ax_sfl.set_xlabel(r'$\\phi$')\n",
    "ax_sfl.set_ylabel(r'$\\theta^*$')\n",
    "ax_sfl.set_title(r'$q = 5/3$')\n",
    "plt.figure(f2.number)\n",
    "save_it('straight_fl')\n",
    "\n",
    "\n"
   ]
  },
  {
   "cell_type": "code",
   "execution_count": null,
   "metadata": {
    "collapsed": true
   },
   "outputs": [],
   "source": [
    "psi_n = np.linspace(0, 1, 1000)[1:-1]\n",
    "surfs = [eq._flux_surface(pn)[0] for pn in psi_n]\n",
    "\n",
    "psi_n2 = np.linspace(0, 1, 7)[1:]\n",
    "surfs2 = [eq._flux_surface(pn)[0] for pn in psi_n2]\n",
    "\n"
   ]
  },
  {
   "cell_type": "code",
   "execution_count": null,
   "metadata": {
    "collapsed": true,
    "scrolled": false
   },
   "outputs": [],
   "source": [
    "f1 = plt.figure()\n",
    "ax = plt.gca()\n",
    "f2 = plt.figure()\n",
    "ax2 = plt.gca()\n",
    "\n",
    "\n",
    "\n",
    "#eq.first_wall.plot(ax = ax, color='k', ls='--', lw=3)\n",
    "eq.lcfs.plot(ax = ax, color = 'k', ls = '-', lw=3)\n",
    "#eq.first_wall.plot(ax = ax2, color='k', ls='--', lw=3)\n",
    "eq.lcfs.plot(ax = ax2, color = 'k', ls = '-', lw=3)\n",
    "\n",
    "\n",
    "for s in surfs2:\n",
    "    s.plot(ax = ax, color='k', lw = 1)\n",
    "    s.plot(ax = ax2, color='k', lw = 1)\n",
    "\n",
    "\n",
    "thetas = np.linspace(0, 2*np.pi, 13, endpoint=False)\n",
    "\n",
    "for th in thetas:\n",
    "    # this is so ugly has to implemented it better as soon as possible (!)\n",
    "    print(th)\n",
    "    c = eq.coordinates(r = np.linspace(0, 0.4, 300), theta = np.ones(300)*th)\n",
    "    amin = np.argmin(np.abs(c.psi_n - 1))\n",
    "    r_lcfs = c.r[amin]\n",
    "        \n",
    "    psi_n = np.array([np.mean(s.psi_n) for s in surfs])    \n",
    "    c = eq.coordinates(r = np.linspace(0, r_lcfs, len(psi_n)), theta=np.ones(len(psi_n))*th)\n",
    "    c.plot(ax = ax, color='k', lw=1)\n",
    "    \n",
    "    idxs = [np.argmin(np.abs(s.straight_fieldline_theta - th)) for s in surfs]\n",
    "    rs = [s.r[i] for s,i in zip(surfs,idxs)]\n",
    "    rs = np.hstack((0, rs))\n",
    "    thetas  = [s.theta[i] for s,i in zip(surfs,idxs)]\n",
    "    thetas = np.hstack((0, thetas))\n",
    "    c = eq.coordinates(r = rs, theta = thetas)\n",
    "    c.plot(ax = ax2, color = 'k', lw=1)\n",
    "    \n",
    "    \n",
    "ax.set_aspect('equal')\n",
    "ax2.set_aspect('equal')\n",
    "\n",
    "ax.set_title(r'$\\theta$')\n",
    "ax2.set_title(r'$\\theta^*$')\n",
    "\n",
    "plt.figure(f1.number)\n",
    "save_it('straight_fieldline_grid_not')\n",
    "plt.figure(f2.number)\n",
    "save_it('straight_fieldline_grid')"
   ]
  },
  {
   "cell_type": "markdown",
   "metadata": {},
   "source": [
    "## Field line tracing"
   ]
  },
  {
   "cell_type": "code",
   "execution_count": null,
   "metadata": {
    "collapsed": true
   },
   "outputs": [],
   "source": [
    "eq = load_testing_equilibrium(1)\n",
    "eq = eq_iter\n",
    "\n",
    "machine = 'iter'"
   ]
  },
  {
   "cell_type": "code",
   "execution_count": null,
   "metadata": {
    "collapsed": true
   },
   "outputs": [],
   "source": [
    "N = 5\n",
    "#rs = np.linspace(0.7, 1.18, N, endpoint=True)\n",
    "rs = np.linspace(8, 8.3, N, endpoint=True)\n",
    "zs = np.zeros_like(rs)\n",
    "\n",
    "traces = eq.trace_field_line(R=rs, Z=zs)"
   ]
  },
  {
   "cell_type": "code",
   "execution_count": null,
   "metadata": {
    "collapsed": true
   },
   "outputs": [],
   "source": [
    "from mpl_toolkits.mplot3d import Axes3D\n",
    "\n",
    "fig = plt.figure()\n",
    "ax = fig.gca(projection='3d')\n",
    "\n",
    "for fl in traces:\n",
    "    ax.scatter(fl.X, fl.Y, fl.Z, s=0.3, marker='.')\n",
    "\n",
    "ax.set_aspect('equal')\n",
    "ax.set_xlabel('x [m]')\n",
    "ax.set_ylabel('y [m]')\n",
    "ax.set_zlabel('z [m]')\n",
    "\n",
    "save_it(machine+'_tracing_all_3d', 1)\n",
    "\n",
    "fig = plt.figure()\n",
    "ax = fig.gca()\n",
    "\n",
    "ax.plot(eq.first_wall.R, eq.first_wall.Z, 'k-')\n",
    "ax.plot(eq.lcfs.R, eq.lcfs.Z, 'k--')\n",
    "\n",
    "for fl in traces:\n",
    "    ax.scatter(fl.R, fl.Z, s=0.3, marker='.')\n",
    "\n",
    "ax.set_xlabel('R [m]')\n",
    "ax.set_ylabel('Z [m]')\n",
    "ax.set_aspect('equal')\n",
    "\n",
    "save_it(machine+'_tracing_all_rz', 1)\n",
    "\n",
    "fig = plt.figure()\n",
    "ax = fig.gca()\n",
    "\n",
    "# Let's define limiters: \n",
    "Ns = 100\n",
    "inner_lim = eq.coordinates(np.min(eq.first_wall.R)*np.ones(Ns), np.zeros(Ns), np.linspace(0, 2*np.pi, Ns))\n",
    "outer_lim = eq.coordinates(np.max(eq.first_wall.R)*np.ones(Ns), np.zeros(Ns), np.linspace(0, 2*np.pi, Ns))\n",
    "\n",
    "ax.plot(inner_lim.X, inner_lim.Y, 'k-', lw=4)\n",
    "ax.plot(outer_lim.X, outer_lim.Y, 'k-', lw=4)\n",
    "\n",
    "for fl in traces:\n",
    "    ax.plot(fl.X, fl.Y)\n",
    "\n",
    "ax.set_xlabel('X [m]')\n",
    "ax.set_ylabel('Y [m]')\n",
    "ax.set_aspect('equal')\n",
    "\n",
    "save_it(machine+'_tracing_all_xy', 1)"
   ]
  },
  {
   "cell_type": "code",
   "execution_count": null,
   "metadata": {
    "collapsed": true
   },
   "outputs": [],
   "source": []
  },
  {
   "cell_type": "code",
   "execution_count": null,
   "metadata": {
    "collapsed": true
   },
   "outputs": [],
   "source": [
    "fig = plt.figure()\n",
    "ax = fig.gca(projection='3d')\n",
    "\n",
    "fl = traces[2]\n",
    "ax.scatter(fl.X, fl.Y, fl.Z, marker='.')\n",
    "\n",
    "ax.set_aspect('equal')\n",
    "ax.set_xlabel('x [m]')\n",
    "ax.set_ylabel('y [m]')\n",
    "ax.set_zlabel('z [m]')\n",
    "\n",
    "save_it(machine+'_tracing_1_3d', 1)\n",
    "\n",
    "fig = plt.figure()\n",
    "ax = fig.gca()\n",
    "\n",
    "ax.plot(eq.first_wall.R, eq.first_wall.Z, 'k-')\n",
    "ax.plot(eq.lcfs.R, eq.lcfs.Z, 'k--')\n",
    "\n",
    "\n",
    "ax.scatter(fl.R, fl.Z, s=3, marker='.')\n",
    "\n",
    "ax.set_xlabel('R [m]')\n",
    "ax.set_ylabel('Z [m]')\n",
    "ax.set_aspect('equal')\n",
    "\n",
    "save_it(machine+'_tracing_1_rz', 1)\n",
    "\n",
    "fig = plt.figure()\n",
    "ax = fig.gca()\n",
    "\n",
    "# Let's define limiters: \n",
    "Ns = 100\n",
    "inner_lim = eq.coordinates(np.min(eq.first_wall.R)*np.ones(Ns), np.zeros(Ns), np.linspace(0, 2*np.pi, Ns))\n",
    "outer_lim = eq.coordinates(np.max(eq.first_wall.R)*np.ones(Ns), np.zeros(Ns), np.linspace(0, 2*np.pi, Ns))\n",
    "\n",
    "ax.plot(inner_lim.X, inner_lim.Y, 'k-', lw=4)\n",
    "ax.plot(outer_lim.X, outer_lim.Y, 'k-', lw=4)\n",
    "\n",
    "\n",
    "ax.plot(fl.X, fl.Y)\n",
    "\n",
    "ax.set_xlabel('X [m]')\n",
    "ax.set_ylabel('Y [m]')\n",
    "ax.set_aspect('equal')\n",
    "\n",
    "save_it(machine+'_tracing_1_xy', 1)"
   ]
  },
  {
   "cell_type": "code",
   "execution_count": null,
   "metadata": {
    "collapsed": true
   },
   "outputs": [],
   "source": [
    "fig = plt.figure()\n",
    "ax = fig.gca(projection='3d')\n",
    "\n",
    "fl = traces[-2]\n",
    "ax.scatter(fl.X, fl.Y, fl.Z, marker='.')\n",
    "\n",
    "ax.set_aspect('equal')\n",
    "ax.set_xlabel('x [m]')\n",
    "ax.set_ylabel('y [m]')\n",
    "ax.set_zlabel('z [m]')\n",
    "\n",
    "save_it(machine+'_tracing_1_3d', 2)\n",
    "\n",
    "fig = plt.figure()\n",
    "ax = fig.gca()\n",
    "\n",
    "ax.plot(eq.first_wall.R, eq.first_wall.Z, 'k-')\n",
    "ax.plot(eq.lcfs.R, eq.lcfs.Z, 'k--')\n",
    "\n",
    "\n",
    "ax.scatter(fl.R, fl.Z, s=3, marker='.')\n",
    "\n",
    "ax.set_xlabel('R [m]')\n",
    "ax.set_ylabel('Z [m]')\n",
    "ax.set_aspect('equal')\n",
    "\n",
    "\n",
    "save_it(machine+'_tracing_1_rz', 2)\n",
    "fig = plt.figure()\n",
    "ax = fig.gca()\n",
    "\n",
    "# Let's define limiters: \n",
    "Ns = 100\n",
    "inner_lim = eq.coordinates(np.min(eq.first_wall.R)*np.ones(Ns), np.zeros(Ns), np.linspace(0, 2*np.pi, Ns))\n",
    "outer_lim = eq.coordinates(np.max(eq.first_wall.R)*np.ones(Ns), np.zeros(Ns), np.linspace(0, 2*np.pi, Ns))\n",
    "\n",
    "ax.plot(inner_lim.X, inner_lim.Y, 'k-', lw=4)\n",
    "ax.plot(outer_lim.X, outer_lim.Y, 'k-', lw=4)\n",
    "\n",
    "\n",
    "ax.plot(fl.X, fl.Y)\n",
    "\n",
    "ax.set_xlabel('X [m]')\n",
    "ax.set_ylabel('Y [m]')\n",
    "ax.set_aspect('equal')\n",
    "\n",
    "save_it(machine+'_tracing_1_xy', 2)"
   ]
  },
  {
   "cell_type": "code",
   "execution_count": null,
   "metadata": {
    "collapsed": true
   },
   "outputs": [],
   "source": []
  }
 ],
 "metadata": {
  "kernelspec": {
   "display_name": "Python [default]",
   "language": "python",
   "name": "python3"
  },
  "language_info": {
   "codemirror_mode": {
    "name": "ipython",
    "version": 3
   },
   "file_extension": ".py",
   "mimetype": "text/x-python",
   "name": "python",
   "nbconvert_exporter": "python",
   "pygments_lexer": "ipython3",
   "version": "3.5.5"
  }
 },
 "nbformat": 4,
 "nbformat_minor": 1
}
