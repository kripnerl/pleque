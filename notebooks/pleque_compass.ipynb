{
 "cells": [
  {
   "cell_type": "markdown",
   "metadata": {},
   "source": [
    "# Pleque  for COMPASS-U Fiesta files\n",
    "Pleque = PLasma EQUilibrium Enjoyment module\n",
    "\n",
    "Before you run this notebook make sure you have loaded pleque module\n",
    "\n",
    "```\n",
    "module load pleque\n",
    "```\n",
    "\n",
    "Currrntly available equilibria are stored in \n",
    "```\n",
    "/compass/Shared/Common/COMPASS-UPGRADE/RP1\\ Design/Equilibria/v3.1\n",
    "```\n",
    "\n",
    "** Importants notes: **\n",
    "* Only diverted plasmas are supported at the moment.\n",
    "* Please consider that the module is in status \"work in progress\" and some things may change in the future.\n",
    "* Latest version of a master branch can be found at https://repo.tok.ipp.cas.cz/kripner/pleque, please add an issue there if you find a bug or you would appreciate some enhancement of the module.  \n"
   ]
  },
  {
   "cell_type": "code",
   "execution_count": null,
   "metadata": {},
   "outputs": [],
   "source": [
    "ls /compass/Shared/Common/COMPASS-UPGRADE/RP1\\ Design/Equilibria/v3.1"
   ]
  },
  {
   "cell_type": "markdown",
   "metadata": {},
   "source": [
    "#### Important imports:"
   ]
  },
  {
   "cell_type": "code",
   "execution_count": null,
   "metadata": {},
   "outputs": [],
   "source": [
    "%pylab notebook\n",
    "from pleque.io import compass\n",
    "from pleque.utils import plotting"
   ]
  },
  {
   "cell_type": "code",
   "execution_count": null,
   "metadata": {
    "scrolled": false
   },
   "outputs": [],
   "source": [
    "fiesta_file_home = '/compass/Shared/Common/COMPASS-UPGRADE/RP1 Design/Equilibria/v3.1/'\n",
    "avail_equilibria = ('baseline_eqdsk', 'baseline_upward_eqdsk', 'DoubleNull_eqdsk', 'scenario_1_baseline_upward_eqdsk')\n",
    "#eq = compass.read_fiesta_equilibrium(fiesta_file_home+avail_equilibria[0])\n",
    "from test.testing_utils import load_testing_equilibrium\n",
    "eq = load_testing_equilibrium()"
   ]
  },
  {
   "cell_type": "markdown",
   "metadata": {},
   "source": [
    "## Let's plot some basic info about equilibrium:"
   ]
  },
  {
   "cell_type": "code",
   "execution_count": null,
   "metadata": {},
   "outputs": [],
   "source": [
    "# generate simple grid for printing (instance of Coordinates class) \n",
    "grid = eq.grid((200,300),dim='size')\n",
    "\n",
    "fig, axs = plt.subplots(1, 3, sharex=True, sharey=True, figsize=(10,6))\n",
    "\n",
    "# Fast decoration of the plot\n",
    "def decorate_ax(ax: plt.Axes):\n",
    "    ax.plot(eq.lcfs.R, eq.lcfs.Z, color='k', ls='--', lw=2)\n",
    "    ax.plot(eq.first_wall.R, eq.first_wall.Z, 'k-', lw=2)\n",
    "    ax.set_xlabel('R [m]')\n",
    "    ax.set_ylabel('Z [m]')\n",
    "    ax.set_aspect('equal')\n",
    "\n",
    "# lets' plot psi\n",
    "ax = axs[0]\n",
    "ax.set_title(r'$\\psi$')\n",
    "# psi is one of the coordinates so it can be evaluate as grid.psi, \n",
    "# it is equivalent to eq.psi(grid)\n",
    "ax.contour(grid.R, grid.Z, grid.psi, 20)\n",
    "# plot lcfs and first wall (limiter)\n",
    "ax.plot(eq.lcfs.R, eq.lcfs.Z, color='k', ls='--', lw=2)\n",
    "ax.contour(grid.R, grid.Z, grid.psi, eq.lcfs.psi[0], colors='C1')\n",
    "ax.plot(eq.first_wall.R, eq.first_wall.Z, 'k-', lw=2)\n",
    "\n",
    "\n",
    "# some decoration: \n",
    "ax.set_xlabel('R [m]')\n",
    "ax.set_ylabel('Z [m]')\n",
    "ax.set_aspect('equal')\n",
    "\n",
    "# Now poloidal field: \n",
    "ax = axs[1]\n",
    "ax.set_title(r'$|B_\\theta|$')\n",
    "# Magnetic field is not coordinate, so it must be called from Equilibrium class:\n",
    "cs = ax.contour(grid.R, grid.Z, eq.B_pol(grid), np.linspace(0, 4, 21))\n",
    "plt.clabel(cs, inline=1)\n",
    "decorate_ax(ax)\n",
    "\n",
    "ax = axs[2]\n",
    "ax.set_title(r'$|B_\\phi|$')\n",
    "cs = ax.contour(grid.R, grid.Z, eq.B_tor(grid), np.linspace(2, 10, 17))\n",
    "plt.clabel(cs, inline=1)\n",
    "decorate_ax(ax)\n",
    "\n"
   ]
  },
  {
   "cell_type": "markdown",
   "metadata": {},
   "source": [
    "## Now some equilibrium midplane profiles:\n",
    "As a first step we have to generate some midplane coordinates. \n",
    "We have multiple options for this. Let's choose the fastest way how to generete them. \n",
    "More options to generate coordinates will be shown later in the notebook. \n"
   ]
  },
  {
   "cell_type": "code",
   "execution_count": null,
   "metadata": {},
   "outputs": [],
   "source": [
    "# we will generate coordinates in polar system with it's center on the magnetic axis:\n",
    "# (!) there is lower case r, not capitalized R which denotes to cylindrical coordinates\n",
    "\n",
    "# number of points\n",
    "N = 100\n",
    "# module automaticaly identify the type of the input: \n",
    "midplane = eq.coordinates(r=np.linspace(0, 0.3, N), theta=np.zeros(N))\n",
    "# this is not the simpliest way... It will be more handy in the near future\n",
    "r_sep = eq.lcfs.r[np.argmin(np.abs(eq.lcfs.theta))]\n",
    "\n",
    "\n",
    "fig, axs = plt.subplots(3, 1, sharex=True)\n",
    "\n",
    "\n",
    "# First profiles of magnetic fields on midplane: \n",
    "ax = axs[0]\n",
    "# Profile of toroidal field: \n",
    "ax.plot(midplane.r, eq.B_tor(midplane), label=r'$B_\\phi$')\n",
    "# Profile of poloidal field: \n",
    "ax.plot(midplane.r, eq.B_pol(midplane), label=r'$B_\\theta$')\n",
    "# total\n",
    "ax.plot(midplane.r, eq.B_abs(midplane), label=r'$|\\vec B|$')\n",
    "ax.axvline(r_sep, color='k', ls='--')\n",
    "ax.set_ylabel(r'$B$ [T]')\n",
    "ax.legend()\n",
    "\n",
    "\n",
    "# Field coordinates (poloidal and toroidal flux)\n",
    "ax = axs[1]\n",
    "ax2 = ax.twinx()\n",
    "# ax.plot(midplane.r, eq.tor_flux(r=midplane.r))\n",
    "ax.plot(midplane.r, eq.tor_flux(midplane), 'C0', label='Toroidal mg. flux')\n",
    "ax.axvline(r_sep, color='k', ls='--')\n",
    "ax.tick_params(labelcolor='C0')\n",
    "ax.set_ylabel(r'$\\Phi$')\n",
    "ax.legend()\n",
    "\n",
    "ax2.plot(midplane.r, midplane.psi, 'C1', label='Poloidal mg. flux')\n",
    "ax2.tick_params(labelcolor='C1')\n",
    "ax2.set_ylabel(r'$\\psi$')\n",
    "\n",
    "ax2.legend()\n",
    "\n",
    "# q-profile\n",
    "ax = axs[2]\n",
    "ax.plot(midplane.r, eq.q(midplane), label='q')\n",
    "ax.set_ylabel(r'$q$')\n",
    "ax.axvline(r_sep, color='k', ls='--')\n",
    "ax.set_ylim([0, 5])\n",
    "\n",
    "\n",
    "# ax = gca()\n",
    "# ax.set_title(r'$\\psi$')\n",
    "# psi is one of the coordinates so it can be evaluate as grid.psi, \n",
    "# it is equivalent to eq.psi(grid)\n",
    "# ax.contour(grid.R, grid.Z, grid.psi, 20)\n",
    "# decorate_ax(ax)\n"
   ]
  },
  {
   "cell_type": "markdown",
   "metadata": {},
   "source": [
    "## Spline interpolation of fitted data and mapping to various coordinates"
   ]
  },
  {
   "cell_type": "code",
   "execution_count": null,
   "metadata": {},
   "outputs": [],
   "source": [
    "from scipy.special import erf\n",
    "\n",
    "N = 200\n",
    "\n",
    "chord1 = eq.coordinates(R=0.9*np.ones(N), Z=np.linspace(0.4, -0.1, N))\n",
    "chord2 = eq.coordinates(R=np.linspace(0.65, 0.9, 20), Z=-0.1*np.ones(20))\n",
    "\n",
    "\n",
    "# let's define some testing profile function: \n",
    "prof_func = lambda x, k1, xsep: k1/4 * (1 + erf((x-xsep)*20))*np.log((x+1)*5)\n",
    "chord_prof = prof_func(1 - chord1.psi_n, 15, 0.1)\n",
    "\n",
    "# todo here\n",
    "plt.figure()\n",
    "plt.plot(chord1.Z, chord_prof)\n",
    "eq.fluxfuncs.add_flux_func('test_prof', chord_prof, chord1, spline_smooth=1)\n",
    "\n",
    "plt.figure()\n",
    "plt.plot(chord2.R, eq.fluxfuncs.test_prof(chord2), '--')\n",
    "\n"
   ]
  },
  {
   "cell_type": "code",
   "execution_count": null,
   "metadata": {
    "collapsed": true
   },
   "outputs": [],
   "source": []
  }
 ],
 "metadata": {
  "kernelspec": {
   "display_name": "Python [default]",
   "language": "python",
   "name": "python3"
  },
  "language_info": {
   "codemirror_mode": {
    "name": "ipython",
    "version": 3
   },
   "file_extension": ".py",
   "mimetype": "text/x-python",
   "name": "python",
   "nbconvert_exporter": "python",
   "pygments_lexer": "ipython3",
   "version": "3.5.5"
  }
 },
 "nbformat": 4,
 "nbformat_minor": 1
}
