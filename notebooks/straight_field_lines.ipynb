{
 "cells": [
  {
   "cell_type": "markdown",
   "metadata": {},
   "source": [
    "# Straight field lines\n",
    "\n",
    "This example notebook contains a playful exercise with PLEQUE: exploring an unusual coordinate system $[R, \\theta^*, \\phi]$ where, unlike in regular toroidal coordinates $[R, \\theta, \\phi]$, magnetic field lines are straight. This exercise is not particularly useful for everyday life (perhaps save for a few niche MHD uses), but it illustrates the flexibility and power of PLEQUE for various equilibrium-related tasks."
   ]
  },
  {
   "cell_type": "code",
   "execution_count": null,
   "metadata": {},
   "outputs": [],
   "source": [
    "%pylab inline\n",
    "\n",
    "from pleque.io.readers import read_geqdsk\n",
    "from pleque.utils.plotting import *\n",
    "from pleque.tests.utils import get_test_equilibria_filenames"
   ]
  },
  {
   "cell_type": "markdown",
   "metadata": {},
   "source": [
    "## Load a testing equilibrium\n",
    "Several test equilibria come shipped with PLEQUE. Their location is:"
   ]
  },
  {
   "cell_type": "code",
   "execution_count": null,
   "metadata": {},
   "outputs": [],
   "source": [
    "gfiles = get_test_equilibria_filenames()\n",
    "gfiles"
   ]
  },
  {
   "cell_type": "markdown",
   "metadata": {},
   "source": [
    "We store one of the text equilibria in the variable `eq`, an instance of the `Equilibrium` class."
   ]
  },
  {
   "cell_type": "code",
   "execution_count": null,
   "metadata": {},
   "outputs": [],
   "source": [
    "test_case_number = 5\n",
    "\n",
    "#Load equilibrium stored in the EQDSK format\n",
    "eq = read_geqdsk(gfiles[test_case_number])\n",
    "\n",
    "#Plot basic overview of the equilibrium\n",
    "plt.figure()\n",
    "eq._plot_overview()\n",
    "\n",
    "#Plot X-points\n",
    "plot_extremes(eq, markeredgewidth=2)"
   ]
  },
  {
   "cell_type": "markdown",
   "metadata": {},
   "source": [
    "## Define the $q=5/3$ resonant flux surface\n",
    "\n",
    "We are going to demonstrate the two coordinate systems on a particular field line: one lying on the resonant surface $q=5/3$ (therefore it closes upon itself after three poloidal turns). First, we find the $\\Psi_N$ of this surface."
   ]
  },
  {
   "cell_type": "code",
   "execution_count": null,
   "metadata": {},
   "outputs": [],
   "source": [
    "from scipy.optimize import brentq\n",
    "\n",
    "# Find the Psi_N where the safety factor is 5/3\n",
    "psi_onq = brentq(lambda psi_n: np.abs(eq.q(psi_n)) - 5/3, 0, 0.95)\n",
    "print(r'Psi_N = {:.3f}'.format(psi_onq))"
   ]
  },
  {
   "cell_type": "markdown",
   "metadata": {},
   "source": [
    "Next we store this flux surface in the `surf` variable and define the straight field line coordinate system using its attributes."
   ]
  },
  {
   "cell_type": "code",
   "execution_count": null,
   "metadata": {},
   "outputs": [],
   "source": [
    "from scipy.interpolate import CubicSpline\n",
    "from numpy import ma #module for masking arrays\n",
    "\n",
    "#Define the resonant flux surface using its Psi_N\n",
    "surf = eq._flux_surface(psi_n = psi_onq)[0]\n",
    "\n",
    "# Define the normal poloidal coordinate theta (and subtract 2*pi from any value that exceeds 2*pi)\n",
    "theta = np.mod(surf.theta, 2*np.pi)\n",
    "\n",
    "# Define the special poloidal coordinate theta_star and \n",
    "theta_star = surf.straight_fieldline_theta\n",
    "\n",
    "# Sort the two arrays to start at theta=0 and decrease their spatial resolution by 75 %\n",
    "asort = np.argsort(theta)\n",
    "#should be smothed \n",
    "theta = theta[asort][2::4]\n",
    "theta_star = theta_star[asort][2::4]\n",
    "\n",
    "# Interpolate theta_star with a periodic spline\n",
    "thstar_spl = CubicSpline(theta, theta_star, extrapolate='periodic')"
   ]
  },
  {
   "cell_type": "markdown",
   "metadata": {},
   "source": [
    "## Trace a magnetic field line within the $q=5/3$ resonant flux surface\n",
    "\n",
    "Now we trace a field line along the resonant magnetic surface, starting at the outer midplane (the intersection of the resonant surface with the horizontal plane passing through the magnetic axis). Since the field line is within the confined plasma, the tracing terminates after one poloidal turn. We begin at the last point of the field line and restart the tracing two more times, obtaining a full field line which closes into itself."
   ]
  },
  {
   "cell_type": "code",
   "execution_count": null,
   "metadata": {},
   "outputs": [],
   "source": [
    "tr1 = eq.trace_field_line(r=eq.coordinates(psi_onq).r_mid[0], theta=0)[0]\n",
    "tr2 = eq.trace_field_line(tr1.R[-1], tr1.Z[-1], tr1.phi[-1])[0]\n",
    "tr3 = eq.trace_field_line(tr2.R[-1], tr2.Z[-1], tr2.phi[-1])[0]"
   ]
  },
  {
   "cell_type": "markdown",
   "metadata": {},
   "source": [
    "We visualise the three field line parts in top view, poloidal cross-section view and 3D view. Notice that they make five toroidal turns until they close in on themselves, which corresponds to the $m=5$ resonant surface."
   ]
  },
  {
   "cell_type": "code",
   "execution_count": null,
   "metadata": {},
   "outputs": [],
   "source": [
    "# Create a figure\n",
    "plt.figure(figsize=(10,5))\n",
    "\n",
    "# Define the limiter as viewed from the top\n",
    "Ns = 100\n",
    "inner_lim = eq.coordinates(np.min(eq.first_wall.R)*np.ones(Ns), np.zeros(Ns), np.linspace(0, 2*np.pi, Ns))\n",
    "outer_lim = eq.coordinates(np.max(eq.first_wall.R)*np.ones(Ns), np.zeros(Ns), np.linspace(0, 2*np.pi, Ns))\n",
    "\n",
    "# Plot the field line in the top view\n",
    "ax = plt.subplot(121)\n",
    "ax.plot(inner_lim.X, inner_lim.Y, 'k-', lw=4)\n",
    "ax.plot(outer_lim.X, outer_lim.Y, 'k-', lw=4)\n",
    "ax.plot(tr1.X, tr1.Y)\n",
    "ax.plot(tr2.X, tr2.Y)\n",
    "ax.plot(tr3.X, tr3.Y)\n",
    "ax.set_xlabel('$X$ [m]')\n",
    "ax.set_ylabel('$Y$ [m]')\n",
    "ax.set_aspect('equal')\n",
    "\n",
    "# Plot the field line in the poloidal cross-section view\n",
    "ax = plt.subplot(122)\n",
    "ax.plot(eq.first_wall.R, eq.first_wall.Z, 'k-')\n",
    "ax.plot(eq.lcfs.R, eq.lcfs.Z, 'k--')\n",
    "ax.plot(tr1.R, tr1.Z)\n",
    "ax.plot(tr2.R, tr2.Z)\n",
    "ax.plot(tr3.R, tr3.Z)\n",
    "ax.set_xlabel('$R$ [m]')\n",
    "ax.set_ylabel('$Z$ [m]')\n",
    "ax.set_aspect('equal')\n",
    "\n",
    "# Plot the field line in 3D\n",
    "from mpl_toolkits.mplot3d import Axes3D\n",
    "fig = plt.figure()\n",
    "ax = fig.gca(projection='3d')\n",
    "ax.plot(tr1.X, tr1.Y, tr1.Z)\n",
    "ax.plot(tr2.X, tr2.Y, tr2.Z)\n",
    "ax.plot(tr3.X, tr3.Y, tr3.Z)\n",
    "#ax.set_aspect('equal')\n",
    "ax.set_xlabel('$X$ [m]')\n",
    "ax.set_ylabel('$Y$ [m]')\n",
    "ax.set_zlabel('$Z$ [m]')"
   ]
  },
  {
   "cell_type": "markdown",
   "metadata": {},
   "source": [
    "## Plot the field line in both coordinate systems\n",
    "\n",
    "Plotting the field lines in the $[\\theta, \\phi]$ and $[\\theta^*, \\phi]$ coordinates, we find that they are curves in the former and straight lines in the latter."
   ]
  },
  {
   "cell_type": "code",
   "execution_count": null,
   "metadata": {},
   "outputs": [],
   "source": [
    "# Create a figure\n",
    "fig, axes = plt.subplots(1, 2, figsize=(12,5))\n",
    "ax1, ax2 = axes\n",
    "\n",
    "for t in [tr1, tr2, tr3]:\n",
    "    # Extract the theta, theta_star and Phi coordinates from the field lines\n",
    "    theta = np.mod(t.theta, 2*np.pi)\n",
    "    theta_star = thstar_spl(theta)\n",
    "    phi = np.mod(t.phi, 2*np.pi)\n",
    "    \n",
    "    # Mask the coordinates for plotting purposes\n",
    "    theta = ma.masked_greater(theta, 2*np.pi-1e-2)\n",
    "    theta = ma.masked_less(theta, 1e-2)\n",
    "    theta_star = ma.masked_greater(theta_star, 2*np.pi-1e-2)\n",
    "    theta_star = ma.masked_less(theta_star, 1e-2)\n",
    "    phi = ma.masked_greater(phi, 2*np.pi-1e-2)\n",
    "    phi = ma.masked_less(phi, 1e-2)\n",
    "\n",
    "    # Plot the coordinates [theta, Phi] and [theta_star, Phi]\n",
    "    ax1.plot(phi, theta, 'k-')\n",
    "    ax2.plot(phi, theta_star, 'k-')\n",
    "\n",
    "# Label the two subplots\n",
    "ax1.set_xlabel(r'$\\phi$ [rad]')\n",
    "ax1.set_ylabel(r'$\\theta$ [rad]')\n",
    "ax2.set_xlabel(r'$\\phi$ [rad]')\n",
    "ax2.set_ylabel(r'$\\theta^*$ [rad]')"
   ]
  },
  {
   "cell_type": "markdown",
   "metadata": {},
   "source": [
    "## Plot the two coordinate systems in the poloidal cross-section view\n",
    "\n",
    "Finally, we plot the difference between the two coordinate systems in the poloidal cross-section view, where lines represent points with constant $\\psi_N$ and $\\theta$ (or $\\theta^*$)."
   ]
  },
  {
   "cell_type": "code",
   "execution_count": null,
   "metadata": {},
   "outputs": [],
   "source": [
    "# Define the flux surfaces where theta will be evaluated\n",
    "psi_n = np.linspace(0, 1, 1000)[1:-1]\n",
    "surfs = [eq._flux_surface(pn)[0] for pn in psi_n]\n",
    "\n",
    "# Define the flux surfaces which will show on the plot\n",
    "psi_n2 = np.linspace(0, 1, 7)[1:]\n",
    "surfs2 = [eq._flux_surface(pn)[0] for pn in psi_n2]\n",
    "\n",
    "# Define the poloidal angles where theta isolines will be plotted\n",
    "thetas = np.linspace(0, 2*np.pi, 13, endpoint=False)\n",
    "\n",
    "# Create a figure\n",
    "fig, axes = plt.subplots(1, 2, figsize=(10,6))\n",
    "ax1, ax2 = axes\n",
    "\n",
    "# Plot the LCFS and several flux surfaces in both the plots\n",
    "eq.lcfs.plot(ax = ax1, color = 'k', ls = '-', lw=3)\n",
    "eq.lcfs.plot(ax = ax2, color = 'k', ls = '-', lw=3)\n",
    "for s in surfs2:\n",
    "    s.plot(ax = ax1, color='k', lw = 1)\n",
    "    s.plot(ax = ax2, color='k', lw = 1)\n",
    "\n",
    "# Plot the theta and theta_star isolines\n",
    "for th in thetas:\n",
    "    # this is so ugly it has to implemented better as soon as possible (!)\n",
    "#    print(th)\n",
    "    c = eq.coordinates(r = np.linspace(0, 0.4, 300), theta = np.ones(300)*th)\n",
    "    amin = np.argmin(np.abs(c.psi_n - 1))\n",
    "    r_lcfs = c.r[amin]\n",
    "    \n",
    "    psi_n = np.array([np.mean(s.psi_n) for s in surfs])    \n",
    "    c = eq.coordinates(r = np.linspace(0, r_lcfs, len(psi_n)), theta=np.ones(len(psi_n))*th)\n",
    "    c.plot(ax = ax1, color='k', lw=1)\n",
    "    \n",
    "    idxs = [np.argmin(np.abs(s.straight_fieldline_theta - th)) for s in surfs]\n",
    "    rs = [s.r[i] for s,i in zip(surfs,idxs)]\n",
    "    rs = np.hstack((0, rs))\n",
    "    thetas  = [s.theta[i] for s,i in zip(surfs,idxs)]\n",
    "    thetas = np.hstack((0, thetas))\n",
    "    c = eq.coordinates(r = rs, theta = thetas)\n",
    "    c.plot(ax = ax2, color = 'k', lw=1)\n",
    "    \n",
    "# Label both the subplots\n",
    "ax1.set_title(r'$\\theta$')\n",
    "ax1.set_aspect('equal')\n",
    "ax1.set_xlabel('$R$ [m]')\n",
    "ax1.set_ylabel('$Z$ [m]')\n",
    "ax2.set_title(r'$\\theta^*$')\n",
    "ax2.set_aspect('equal')\n",
    "ax2.set_xlabel('$R$ [m]')\n",
    "ax2.set_ylabel('$Z$ [m]')"
   ]
  }
 ],
 "metadata": {
  "kernelspec": {
   "display_name": "Python 3",
   "language": "python",
   "name": "python3"
  },
  "language_info": {
   "codemirror_mode": {
    "name": "ipython",
    "version": 3
   },
   "file_extension": ".py",
   "mimetype": "text/x-python",
   "name": "python",
   "nbconvert_exporter": "python",
   "pygments_lexer": "ipython3",
   "version": "3.7.4"
  }
 },
 "nbformat": 4,
 "nbformat_minor": 2
}
