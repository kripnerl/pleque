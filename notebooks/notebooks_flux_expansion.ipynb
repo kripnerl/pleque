{
 "cells": [
  {
   "cell_type": "markdown",
   "metadata": {},
   "source": [
    "# Pleque - impact angle and related functionality demonstration\n",
    "\n",
    "Branch feature/filedline_spreading"
   ]
  },
  {
   "cell_type": "code",
   "execution_count": null,
   "metadata": {},
   "outputs": [],
   "source": [
    "%pylab notebook "
   ]
  },
  {
   "cell_type": "code",
   "execution_count": null,
   "metadata": {},
   "outputs": [],
   "source": [
    "# Use this function to acess COMPASS-U database\n",
    "from pleque.io.compass import cudb\n",
    "# Use this function to load testing equilibrium \n",
    "from pleque.tests.utils import load_testing_equilibrium\n",
    "\n",
    "from pleque.core.coordinates import Coordinates\n",
    "import matplotlib.pyplot as plt\n",
    "import numpy as np\n"
   ]
  },
  {
   "cell_type": "code",
   "execution_count": null,
   "metadata": {},
   "outputs": [],
   "source": [
    "\n",
    "eq = load_testing_equilibrium(4)"
   ]
  },
  {
   "cell_type": "code",
   "execution_count": null,
   "metadata": {},
   "outputs": [],
   "source": [
    "eq.plot_overview()\n",
    "plt.show()"
   ]
  },
  {
   "cell_type": "markdown",
   "metadata": {},
   "source": []
  },
  {
   "cell_type": "code",
   "execution_count": null,
   "metadata": {},
   "outputs": [],
   "source": [
    "# You can see, there is wrong geometry in the database at the moment: \n",
    "eq.plot_geometry()"
   ]
  },
  {
   "cell_type": "code",
   "execution_count": null,
   "metadata": {},
   "outputs": [],
   "source": [
    "# Coordinates instance of first wall: \n",
    "fw = eq.first_wall\n",
    "\n",
    "# Midplane separatrix-lcfs distance: \n",
    "r_mid = eq.r_mid(psi_n = 1, grid=False)\n",
    "mapped_clearance = fw.r_mid - r_mid\n"
   ]
  },
  {
   "cell_type": "code",
   "execution_count": null,
   "metadata": {},
   "outputs": [],
   "source": [
    "opts = {'vmin': 0, 'vmax': 0.03, 'edgecolors': 'none'}\n",
    "\n",
    "#ax = axs[0]\n",
    "plt.figure(figsize=(4.5,6))\n",
    "ax = plt.gca()\n",
    "\n",
    "# plot LCFS: \n",
    "eq.lcfs.plot(color='k', ls='--')\n",
    "cl = ax.scatter(fw.R, fw.Z, c=mapped_clearance, **opts)\n",
    "im = plt.colorbar(mappable=cl, ax=ax, label='Mapped clearance [m]')\n",
    "ax.set_aspect('equal')\n",
    "ax.set_ylabel('Z [m]')\n",
    "ax.set_xlabel('R [m]')\n",
    "\n"
   ]
  },
  {
   "cell_type": "markdown",
   "metadata": {},
   "source": [
    "## Magnetic field on the FW: "
   ]
  },
  {
   "cell_type": "code",
   "execution_count": null,
   "metadata": {},
   "outputs": [],
   "source": [
    "B_wall = eq.B_abs(fw)\n"
   ]
  },
  {
   "cell_type": "code",
   "execution_count": null,
   "metadata": {},
   "outputs": [],
   "source": [
    "plt.figure(figsize=(4.5,6))\n",
    "ax = plt.gca()\n",
    "\n",
    "# plot LCFS: \n",
    "eq.lcfs.plot(color='k', ls='--')\n",
    "# opts = {'vmin': 6.0, 'vmax': 10.0, 'edgecolors': 'none'}\n",
    "cl = ax.scatter(fw.R, fw.Z, c=B_wall)\n",
    "im = plt.colorbar(mappable=cl, ax=ax, label='Magnetic feild on FW [T]')\n",
    "ax.set_aspect('equal')\n",
    "ax.set_ylabel('Z [m]')\n",
    "ax.set_xlabel('R [m]')"
   ]
  },
  {
   "cell_type": "markdown",
   "metadata": {},
   "source": [
    "## Refine the wall using the new methon of resampling: \n",
    "\n"
   ]
  },
  {
   "cell_type": "code",
   "execution_count": null,
   "metadata": {},
   "outputs": [],
   "source": [
    "#number of points to resample the limiter\n",
    "npoints=1000\n",
    "\n",
    "# Resample using new method\n",
    "coords2=eq.first_wall.resample2(npoints)\n",
    "\n",
    "# use dir to print all atributes od the Coordinates class\n",
    "print(dir(coords2))\n"
   ]
  },
  {
   "cell_type": "markdown",
   "metadata": {},
   "source": [
    " ## Calculate cosinus of impact angle"
   ]
  },
  {
   "cell_type": "code",
   "execution_count": null,
   "metadata": {},
   "outputs": [],
   "source": [
    "??coords2.impact_angle_cos()"
   ]
  },
  {
   "cell_type": "code",
   "execution_count": null,
   "metadata": {},
   "outputs": [],
   "source": [
    "import pleque.utils.flux_expansions as flux_expansions\n",
    "flux_expansions.impact_angle_cos??"
   ]
  },
  {
   "cell_type": "code",
   "execution_count": null,
   "metadata": {},
   "outputs": [],
   "source": [
    "# get normal vector\n",
    "normal_vecs=coords2.normal_vector()\n",
    "\n",
    "# get normalised bvec\n",
    "bvec=eq.Bvec_norm(coords2)\n",
    "\n",
    "vec=np.linspace(0,0.2,2)\n",
    "\n",
    "print(bvec.shape)\n",
    "print(normal_vecs.shape)\n",
    "# get impact angle sinus\n",
    "\n",
    "impcos=coords2.impact_angle_sin()\n",
    "\n",
    "#get only poloidal projection\n",
    "# get impact angle sinus\n",
    "impcospol=coords2.impact_angle_sin_pol_projection()\n"
   ]
  },
  {
   "cell_type": "code",
   "execution_count": null,
   "metadata": {},
   "outputs": [],
   "source": [
    "## Display limiter normal angles vs impact angles"
   ]
  },
  {
   "cell_type": "code",
   "execution_count": null,
   "metadata": {},
   "outputs": [],
   "source": [
    "fign, axn = plt.subplots()\n",
    "\n",
    "axn.plot(eq.first_wall.R, eq.first_wall.Z, lw=2, color='c')\n",
    "\n",
    "axn.set_aspect('equal')\n",
    "\n",
    "#plot normal vectors\n",
    "for i in range(0,npoints-1):\n",
    "    axn.plot(coords2.R[i]+normal_vecs[0, i]*vec,\n",
    "             coords2.Z[i]+normal_vecs[1, i]*vec, color='k')\n",
    "    \n",
    "#plot b vectors\n",
    "    \n",
    "for i in range(0,npoints-1):\n",
    "    axn.plot(coords2.R[i]+bvec[0, i]*vec, \n",
    "             coords2.Z[i]+bvec[1, i]*vec,color='r')\n",
    "    \n",
    "\n",
    "grid = eq.grid(resolution=[1e-3, 2e-3], dim=\"step\")\n",
    "\n",
    "cl = axn.contour(grid.R, grid.Z, grid.psi_n, 400, alpha=0.5)\n",
    "\n",
    "axn.set_xlim(0.43,0.55)\n",
    "axn.set_ylim(-0.37,-0.3)"
   ]
  },
  {
   "cell_type": "markdown",
   "metadata": {},
   "source": [
    "## Display limiter impact angle cosine"
   ]
  },
  {
   "cell_type": "code",
   "execution_count": null,
   "metadata": {},
   "outputs": [],
   "source": [
    "fig, ax=plt.subplots()\n",
    "\n",
    "ax.set_aspect('equal')\n",
    "#cmap=plt.get_cmap('jet')\n",
    "\n",
    "#norm_cos=(impcos-np.amin(impcos))/(np.amax(impcos)-np.amin(impcos))\n",
    "\n",
    "cl = ax.scatter(coords2.R, coords2.Z, c=np.abs(impcos))\n",
    "im = plt.colorbar(mappable=cl, ax=ax, label='Impact angle sinus')\n",
    "ax.contour(grid.R, grid.Z, grid.psi_n, 50, alpha=0.5)\n",
    "\n",
    "ax.set_aspect('equal')\n",
    "ax.set_ylabel('Z [m]')\n",
    "ax.set_xlabel('R [m]')\n",
    "\n",
    "plt.show()"
   ]
  },
  {
   "cell_type": "code",
   "execution_count": null,
   "metadata": {},
   "outputs": [],
   "source": [
    "fig,ax=plt.subplots()\n",
    "\n",
    "ax.set_aspect('equal')\n",
    "#cmap=plt.get_cmap('jet')\n",
    "\n",
    "#norm_cos=(impcos-np.amin(impcos))/(np.amax(impcos)-np.amin(impcos))\n",
    "\n",
    "cl = ax.scatter(coords2.R, coords2.Z, c=np.abs(impcospol))\n",
    "im = plt.colorbar(mappable=cl, ax=ax, label='Impact angle pol projection sine')\n",
    "\n",
    "ax.contour(grid.R, grid.Z, grid.psi_n, 60, alpha=0.5)\n",
    "ax.set_aspect('equal')\n",
    "ax.set_ylabel('Z [m]')\n",
    "ax.set_xlabel('R [m]')\n",
    "\n",
    "plt.show()"
   ]
  },
  {
   "cell_type": "code",
   "execution_count": null,
   "metadata": {},
   "outputs": [],
   "source": [
    "# Poloidal field exp. coef\n",
    "fx =eq.poloidal_mag_flux_exp_coef(coords2)\n",
    "# Poloidal field exp. coef with projection to the target\n",
    "fx_eff=eq.effective_poloidal_mag_flux_exp_coef(coords2)"
   ]
  },
  {
   "cell_type": "code",
   "execution_count": null,
   "metadata": {},
   "outputs": [],
   "source": [
    "in_angle = coords2.impact_angle_sin_pol_projection()\n",
    "\n",
    "plt.figure()\n",
    "plt.plot(coords2.theta, fx, '--', label='fx')\n",
    "plt.plot(coords2.theta, in_angle, label='imp angle sin')\n",
    "plt.plot(coords2.theta, fx/in_angle, label='fx/imp.angl.sin')\n",
    "plt.plot(coords2.theta, fx_eff, '--', label='fx_eff')\n",
    "plt.legend()"
   ]
  },
  {
   "cell_type": "code",
   "execution_count": null,
   "metadata": {},
   "outputs": [],
   "source": [
    "fig,ax=plt.subplots()\n",
    "\n",
    "\n",
    "eq.plot_overview(ax=ax)\n",
    "ax.set_aspect('equal')\n",
    "\n",
    "#cmap=plt.get_cmap('jet')\n",
    "\n",
    "#norm_cos=(impcos-np.amin(impcos))/(np.amax(impcos)-np.amin(impcos))\n",
    "opts = {'vmin': 0, 'vmax': 10, 'edgecolors': 'none'}\n",
    "\n",
    "cl = ax.scatter(coords2.R, coords2.Z, c=ratio, **opts)\n",
    "im = plt.colorbar(mappable=cl, ax=ax, label='Magnetic_field_ratio_poloidal')\n",
    "ax.set_aspect('equal')\n",
    "ax.set_ylabel('Z [m]')\n",
    "ax.set_xlabel('R [m]')\n",
    "\n",
    "ax.set_xlim(0.37,0.6)\n",
    "ax.set_ylim(-0.37,-0.3)\n",
    "\n",
    "plt.show()\n",
    "\n",
    "\n",
    "fig,ax=plt.subplots()\n",
    "\n",
    "ax.set_aspect('equal')\n",
    "\n",
    "#cmap=plt.get_cmap('jet')\n",
    "\n",
    "#norm_cos=(impcos-np.amin(impcos))/(np.amax(impcos)-np.amin(impcos))\n",
    "opts = {'vmin': 1, 'vmax': 10, 'edgecolors': 'none'}\n",
    "\n",
    "cl = ax.scatter(coords2.R, coords2.Z, c=ratio, **opts)\n",
    "\n",
    "eq.separatrix.plot(color='C2', alpha=0.4)\n",
    "im = plt.colorbar(mappable=cl, ax=ax, label='Effective magnetic field expansion coef.')\n",
    "ax.set_aspect('equal')\n",
    "ax.set_ylabel('Z [m]')\n",
    "ax.set_xlabel('R [m]')\n",
    "\n",
    "ax.set_xlim(0.37,0.6)\n",
    "ax.set_ylim(-0.37,-0.3)\n",
    "\n",
    "plt.show()\n",
    "\n",
    "\n",
    "\n",
    "plt.figure()\n",
    "plt.plot(coords2.theta, ratio, label='Magnetic field expansion coef.')\n",
    "plt.plot(coords2.theta, ratio2, label='Effective magnetic field expansion coef.')\n",
    "plt.axvline()\n",
    "plt.legend()\n",
    "plt.ylim(0, 20)"
   ]
  },
  {
   "cell_type": "code",
   "execution_count": null,
   "metadata": {},
   "outputs": [],
   "source": [
    "flux_exp_coef=ratio/np.abs(impcos)"
   ]
  },
  {
   "cell_type": "code",
   "execution_count": null,
   "metadata": {},
   "outputs": [],
   "source": [
    "fig,ax=plt.subplots()\n",
    "\n",
    "ax.set_aspect('equal')\n",
    "#cmap=plt.get_cmap('jet')\n",
    "\n",
    "#norm_cos=(impcos-np.amin(impcos))/(np.amax(impcos)-np.amin(impcos))\n",
    "opts = {'vmin': 0, 'vmax': 0.0025, 'edgecolors': 'none'} #\n",
    "\n",
    "cl = ax.scatter(coords2.R, coords2.Z, c=flux_exp_coef,marker='s',**opts)\n",
    "im = plt.colorbar(mappable=cl, ax=ax, label='Total coeff cos* flux expansion')\n",
    "ax.set_aspect('equal')\n",
    "ax.set_ylabel('Z [m]')\n",
    "ax.set_xlabel('R [m]')\n",
    "\n",
    "ax.set_xlim(0.37,0.6)\n",
    "ax.set_ylim(-0.37,-0.3)\n",
    "\n",
    "ax.contour(grid.R, grid.Z, grid.psi_n, 600, alpha=0.5)\n",
    "\n",
    "plt.show()"
   ]
  },
  {
   "cell_type": "code",
   "execution_count": null,
   "metadata": {},
   "outputs": [],
   "source": [
    "flux_exp_coef=ratio2*np.abs(impcospol)"
   ]
  },
  {
   "cell_type": "code",
   "execution_count": null,
   "metadata": {},
   "outputs": [],
   "source": [
    "fig,ax=plt.subplots()\n",
    "\n",
    "ax.set_aspect('equal')\n",
    "#cmap=plt.get_cmap('jet')\n",
    "\n",
    "#norm_cos=(impcos-np.amin(impcos))/(np.amax(impcos)-np.amin(impcos))\n",
    "opts = {'vmin': 0, 'vmax': 0.25, 'edgecolors': 'none'} #\n",
    "\n",
    "cl = ax.scatter(coords2.R[:-1], coords2.Z[:-1], c=flux_exp_coef,marker='s',**opts)\n",
    "im = plt.colorbar(mappable=cl, ax=ax, label='Total coeff pol variant')\n",
    "ax.set_aspect('equal')\n",
    "ax.set_ylabel('Z [m]')\n",
    "ax.set_xlabel('R [m]')\n",
    "\n",
    "ax.set_xlim(0.37,0.6)\n",
    "ax.set_ylim(-0.37,-0.3)\n",
    "\n",
    "ax.contour(grid.R, grid.Z, grid.psi_n, 600, alpha=0.5)\n",
    "\n",
    "plt.show()"
   ]
  },
  {
   "cell_type": "code",
   "execution_count": null,
   "metadata": {},
   "outputs": [],
   "source": []
  },
  {
   "cell_type": "code",
   "execution_count": null,
   "metadata": {},
   "outputs": [],
   "source": []
  }
 ],
 "metadata": {
  "kernelspec": {
   "display_name": "Python [default]",
   "language": "python",
   "name": "python3"
  },
  "language_info": {
   "codemirror_mode": {
    "name": "ipython",
    "version": 3
   },
   "file_extension": ".py",
   "mimetype": "text/x-python",
   "name": "python",
   "nbconvert_exporter": "python",
   "pygments_lexer": "ipython3",
   "version": "3.5.6"
  }
 },
 "nbformat": 4,
 "nbformat_minor": 2
}
