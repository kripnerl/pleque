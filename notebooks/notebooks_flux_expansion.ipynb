{
 "cells": [
  {
   "cell_type": "markdown",
   "metadata": {},
   "source": [
    "# Pleque - impact angle and related functionality demonstration\n",
    "\n",
    "Branch feature/filedline_spreading"
   ]
  },
  {
   "cell_type": "code",
   "execution_count": null,
   "metadata": {
    "collapsed": true
   },
   "outputs": [],
   "source": [
    "%pylab notebook "
   ]
  },
  {
   "cell_type": "code",
   "execution_count": null,
   "metadata": {
    "collapsed": true
   },
   "outputs": [],
   "source": [
    "# WIP: \n",
    "import sys\n",
    "sys.path.append('/compass/home/ficker/Projects/pleque')"
   ]
  },
  {
   "cell_type": "code",
   "execution_count": null,
   "metadata": {
    "collapsed": true
   },
   "outputs": [],
   "source": [
    "from pleque.io.compass import cudb\n",
    "from pleque.tests.utils import load_testing_equilibrium\n",
    "from pleque.core.coordinates import Coordinates\n",
    "import matplotlib.pyplot as plt\n",
    "import numpy as np\n",
    "\n",
    "\n",
    "import matplotlib as mpl\n",
    "\n",
    "mpl.rcParams['font.size']=12\n",
    "mpl.rcParams['font.weight']='bold'\n",
    "mpl.rcParams['axes.linewidth']=2\n",
    "mpl.rcParams['axes.labelsize']=12\n",
    "mpl.rcParams['axes.labelweight']='bold'\n",
    "mpl.rcParams['lines.linewidth']=2"
   ]
  },
  {
   "cell_type": "code",
   "execution_count": null,
   "metadata": {
    "collapsed": true
   },
   "outputs": [],
   "source": [
    "# If the first wall is not specified IBA v3.1 limiter is used. \n",
    "eq = load_testing_equilibrium(4)"
   ]
  },
  {
   "cell_type": "code",
   "execution_count": null,
   "metadata": {
    "collapsed": true
   },
   "outputs": [],
   "source": [
    "eq.plot_overview()\n",
    "plt.show()"
   ]
  },
  {
   "cell_type": "code",
   "execution_count": null,
   "metadata": {
    "collapsed": true
   },
   "outputs": [],
   "source": []
  },
  {
   "cell_type": "markdown",
   "metadata": {},
   "source": []
  },
  {
   "cell_type": "code",
   "execution_count": null,
   "metadata": {
    "collapsed": true
   },
   "outputs": [],
   "source": [
    "# You can see, there is wrong geometry in the database at the moment: \n",
    "eq.plot_geometry()"
   ]
  },
  {
   "cell_type": "code",
   "execution_count": null,
   "metadata": {
    "collapsed": true
   },
   "outputs": [],
   "source": [
    "# Coordinates instance of first wall: \n",
    "fw = eq.first_wall\n",
    "\n",
    "# Midplane separatrix-lcfs distance: \n",
    "r_mid = eq.r_mid(psi_n = 1, grid=False)\n",
    "mapped_clearance = fw.r_mid - r_mid\n"
   ]
  },
  {
   "cell_type": "code",
   "execution_count": null,
   "metadata": {
    "collapsed": true
   },
   "outputs": [],
   "source": [
    "opts = {'vmin': 0, 'vmax': 0.03, 'edgecolors': 'none'}\n",
    "\n",
    "#ax = axs[0]\n",
    "plt.figure(figsize=(4.5,6))\n",
    "ax = plt.gca()\n",
    "\n",
    "# plot LCFS: \n",
    "eq.lcfs.plot(color='k', ls='--')\n",
    "cl = ax.scatter(fw.R, fw.Z, c=mapped_clearance, **opts)\n",
    "im = plt.colorbar(mappable=cl, ax=ax, label='Mapped clearance [m]')\n",
    "ax.set_aspect('equal')\n",
    "ax.set_ylabel('Z [m]')\n",
    "ax.set_xlabel('R [m]')\n",
    "\n"
   ]
  },
  {
   "cell_type": "markdown",
   "metadata": {},
   "source": [
    "## Magnetic field on the FW: "
   ]
  },
  {
   "cell_type": "code",
   "execution_count": null,
   "metadata": {
    "collapsed": true
   },
   "outputs": [],
   "source": [
    "B_wall = eq.B_abs(fw)\n"
   ]
  },
  {
   "cell_type": "code",
   "execution_count": null,
   "metadata": {
    "collapsed": true
   },
   "outputs": [],
   "source": [
    "plt.figure(figsize=(4.5,6))\n",
    "ax = plt.gca()\n",
    "\n",
    "# plot LCFS: \n",
    "eq.lcfs.plot(color='k', ls='--')\n",
    "# opts = {'vmin': 6.0, 'vmax': 10.0, 'edgecolors': 'none'}\n",
    "cl = ax.scatter(fw.R, fw.Z, c=B_wall)\n",
    "im = plt.colorbar(mappable=cl, ax=ax, label='Magnetic feild on FW [T]')\n",
    "ax.set_aspect('equal')\n",
    "ax.set_ylabel('Z [m]')\n",
    "ax.set_xlabel('R [m]')"
   ]
  },
  {
   "cell_type": "markdown",
   "metadata": {},
   "source": [
    "## Refine the wall using the new methon of resampling: \n",
    "\n"
   ]
  },
  {
   "cell_type": "code",
   "execution_count": null,
   "metadata": {
    "collapsed": true
   },
   "outputs": [],
   "source": [
    "first_wall=eq.first_wall\n",
    "\n",
    "\n",
    "#number of points to resample the limiter\n",
    "npoints=1000\n",
    "\n",
    "\n",
    "\n",
    "coords=Coordinates(eq,np.vstack((first_wall.R,first_wall.Z)).T)\n",
    "\n",
    "# Resample using new method\n",
    "coords2=coords.resample2(npoints)\n",
    "\n",
    "print(dir(coords2))\n",
    "\n",
    "#just for plotting\n",
    "newpoints=np.vstack((coords2.R,coords2.Z))\n",
    "\n",
    "# test area"
   ]
  },
  {
   "cell_type": "markdown",
   "metadata": {},
   "source": [
    " ## Calculate cosinus of impact angle"
   ]
  },
  {
   "cell_type": "code",
   "execution_count": null,
   "metadata": {
    "collapsed": true
   },
   "outputs": [],
   "source": [
    "# get normal vector\n",
    "normal_vecs=coords2.normal_vector().T\n",
    "\n",
    "# get normalised bvec\n",
    "bvec=eq.Bvec_norm(coords2)\n",
    "\n",
    "vec=np.linspace(0,0.2,2)\n",
    "\n",
    "# get impact angle cosinus\n",
    "\n",
    "impcos=coords2.impact_angle_cos()\n",
    "\n",
    "#get only poloidal projection\n",
    "\n",
    "# get impact angle cosinus\n",
    "\n",
    "impcospol=coords2.pol_projection_impact_angle_cos()\n"
   ]
  },
  {
   "cell_type": "code",
   "execution_count": null,
   "metadata": {
    "collapsed": true
   },
   "outputs": [],
   "source": [
    "## Display limiter normal angles vs impact angles"
   ]
  },
  {
   "cell_type": "code",
   "execution_count": null,
   "metadata": {
    "collapsed": true
   },
   "outputs": [],
   "source": [
    "fign,axn=plt.subplots()\n",
    "\n",
    "axn.plot(first_wall.R,first_wall.Z,lw=5,color='c')\n",
    "\n",
    "axn.set_aspect('equal')\n",
    "    \n",
    "newpoints=np.vstack((coords2.R,coords2.Z))\n",
    "print(np.shape(newpoints))\n",
    "\n",
    "#plot normal vectors\n",
    "for i in range(0,npoints-1):\n",
    "    axn.plot(coords2.R[i]+normal_vecs[0,i]*vec,coords2.Z[i]+normal_vecs[1,i]*vec,color='k')\n",
    "    \n",
    "#plot b vectors\n",
    "    \n",
    "for i in range(0,npoints-1):\n",
    "    axn.plot(coords2.R[i]+bvec[0,i]*vec,coords2.Z[i]+bvec[1,i]*vec,color='r')\n",
    "    \n",
    "\n",
    "grid = eq.grid(resolution=[1e-3, 2e-3], dim=\"step\")\n",
    "\n",
    "cl = axn.contour(grid.R, grid.Z, grid.psi_n, 400, alpha=0.5)\n",
    "\n",
    "axn.set_xlim(0.43,0.55)\n",
    "axn.set_ylim(-0.37,-0.3)"
   ]
  },
  {
   "cell_type": "markdown",
   "metadata": {},
   "source": [
    "## Display limiter impact angle cosine"
   ]
  },
  {
   "cell_type": "code",
   "execution_count": null,
   "metadata": {
    "collapsed": true
   },
   "outputs": [],
   "source": [
    "fig,ax=plt.subplots()\n",
    "\n",
    "ax.set_aspect('equal')\n",
    "#cmap=plt.get_cmap('jet')\n",
    "\n",
    "#norm_cos=(impcos-np.amin(impcos))/(np.amax(impcos)-np.amin(impcos))\n",
    "\n",
    "cl = ax.scatter(coords2.R[:-1], coords2.Z[:-1], c=np.abs(impcos))\n",
    "im = plt.colorbar(mappable=cl, ax=ax, label='Impact angle cosine')\n",
    "ax.set_aspect('equal')\n",
    "ax.set_ylabel('Z [m]')\n",
    "ax.set_xlabel('R [m]')\n",
    "\n",
    "plt.show()"
   ]
  },
  {
   "cell_type": "code",
   "execution_count": null,
   "metadata": {
    "collapsed": true
   },
   "outputs": [],
   "source": [
    "fig,ax=plt.subplots()\n",
    "\n",
    "ax.set_aspect('equal')\n",
    "#cmap=plt.get_cmap('jet')\n",
    "\n",
    "#norm_cos=(impcos-np.amin(impcos))/(np.amax(impcos)-np.amin(impcos))\n",
    "\n",
    "cl = ax.scatter(coords2.R[:-1], coords2.Z[:-1], c=np.abs(impcospol))\n",
    "im = plt.colorbar(mappable=cl, ax=ax, label='Impact angle pol projection cosine')\n",
    "ax.set_aspect('equal')\n",
    "ax.set_ylabel('Z [m]')\n",
    "ax.set_xlabel('R [m]')\n",
    "\n",
    "plt.show()"
   ]
  },
  {
   "cell_type": "code",
   "execution_count": null,
   "metadata": {
    "collapsed": true
   },
   "outputs": [],
   "source": [
    "# full field\n",
    "ratio=eq.outter_parallel_fl_expansion_coef(coords2)\n",
    "# poloidal field only\n",
    "ratio2=eq.outter_poloidal_fl_expansion_coef(coords2)"
   ]
  },
  {
   "cell_type": "code",
   "execution_count": null,
   "metadata": {
    "collapsed": true
   },
   "outputs": [],
   "source": [
    "fig,ax=plt.subplots()\n",
    "\n",
    "ax.set_aspect('equal')\n",
    "\n",
    "#cmap=plt.get_cmap('jet')\n",
    "\n",
    "#norm_cos=(impcos-np.amin(impcos))/(np.amax(impcos)-np.amin(impcos))\n",
    "opts = {'vmin': 0, 'vmax': 10, 'edgecolors': 'none'}\n",
    "\n",
    "cl = ax.scatter(coords2.R, coords2.Z, c=1./ratio2, **opts)\n",
    "im = plt.colorbar(mappable=cl, ax=ax, label='Magnetic_field_ratio_poloidal')\n",
    "ax.set_aspect('equal')\n",
    "ax.set_ylabel('Z [m]')\n",
    "ax.set_xlabel('R [m]')\n",
    "\n",
    "ax.set_xlim(0.37,0.6)\n",
    "ax.set_ylim(-0.37,-0.3)\n",
    "\n",
    "plt.show()\n",
    "\n",
    "\n",
    "fig,ax=plt.subplots()\n",
    "\n",
    "ax.set_aspect('equal')\n",
    "\n",
    "#cmap=plt.get_cmap('jet')\n",
    "\n",
    "#norm_cos=(impcos-np.amin(impcos))/(np.amax(impcos)-np.amin(impcos))\n",
    "opts = {'vmin': 0.2, 'vmax': 0.8, 'edgecolors': 'none'}\n",
    "\n",
    "cl = ax.scatter(coords2.R, coords2.Z, c=1./ratio, **opts)\n",
    "im = plt.colorbar(mappable=cl, ax=ax, label='Magnetic_field_ratio_full')\n",
    "ax.set_aspect('equal')\n",
    "ax.set_ylabel('Z [m]')\n",
    "ax.set_xlabel('R [m]')\n",
    "\n",
    "ax.set_xlim(0.37,0.6)\n",
    "ax.set_ylim(-0.37,-0.3)\n",
    "\n",
    "plt.show()"
   ]
  },
  {
   "cell_type": "code",
   "execution_count": null,
   "metadata": {
    "collapsed": true
   },
   "outputs": [],
   "source": [
    "flux_exp_coef=ratio[:-1]*np.abs(impcos)"
   ]
  },
  {
   "cell_type": "code",
   "execution_count": null,
   "metadata": {
    "collapsed": true
   },
   "outputs": [],
   "source": [
    "fig,ax=plt.subplots()\n",
    "\n",
    "ax.set_aspect('equal')\n",
    "#cmap=plt.get_cmap('jet')\n",
    "\n",
    "#norm_cos=(impcos-np.amin(impcos))/(np.amax(impcos)-np.amin(impcos))\n",
    "opts = {'vmin': 0, 'vmax': 0.0025, 'edgecolors': 'none'} #\n",
    "\n",
    "cl = ax.scatter(coords2.R[:-1], coords2.Z[:-1], c=flux_exp_coef,marker='s',**opts)\n",
    "im = plt.colorbar(mappable=cl, ax=ax, label='Total coeff cos* flux expansion')\n",
    "ax.set_aspect('equal')\n",
    "ax.set_ylabel('Z [m]')\n",
    "ax.set_xlabel('R [m]')\n",
    "\n",
    "ax.set_xlim(0.37,0.6)\n",
    "ax.set_ylim(-0.37,-0.3)\n",
    "\n",
    "ax.contour(grid.R, grid.Z, grid.psi_n, 600, alpha=0.5)\n",
    "\n",
    "plt.show()"
   ]
  },
  {
   "cell_type": "code",
   "execution_count": null,
   "metadata": {
    "collapsed": true
   },
   "outputs": [],
   "source": [
    "flux_exp_coef=ratio2[:-1]*np.abs(impcospol)"
   ]
  },
  {
   "cell_type": "code",
   "execution_count": null,
   "metadata": {
    "collapsed": true
   },
   "outputs": [],
   "source": [
    "fig,ax=plt.subplots()\n",
    "\n",
    "ax.set_aspect('equal')\n",
    "#cmap=plt.get_cmap('jet')\n",
    "\n",
    "#norm_cos=(impcos-np.amin(impcos))/(np.amax(impcos)-np.amin(impcos))\n",
    "opts = {'vmin': 0, 'vmax': 0.25, 'edgecolors': 'none'} #\n",
    "\n",
    "cl = ax.scatter(coords2.R[:-1], coords2.Z[:-1], c=flux_exp_coef,marker='s',**opts)\n",
    "im = plt.colorbar(mappable=cl, ax=ax, label='Total coeff pol variant')\n",
    "ax.set_aspect('equal')\n",
    "ax.set_ylabel('Z [m]')\n",
    "ax.set_xlabel('R [m]')\n",
    "\n",
    "ax.set_xlim(0.37,0.6)\n",
    "ax.set_ylim(-0.37,-0.3)\n",
    "\n",
    "ax.contour(grid.R, grid.Z, grid.psi_n, 600, alpha=0.5)\n",
    "\n",
    "plt.show()"
   ]
  },
  {
   "cell_type": "code",
   "execution_count": null,
   "metadata": {
    "collapsed": true
   },
   "outputs": [],
   "source": []
  },
  {
   "cell_type": "code",
   "execution_count": null,
   "metadata": {
    "collapsed": true
   },
   "outputs": [],
   "source": []
  }
 ],
 "metadata": {
  "kernelspec": {
   "display_name": "Python [default]",
   "language": "python",
   "name": "python3"
  },
  "language_info": {
   "codemirror_mode": {
    "name": "ipython",
    "version": 3
   },
   "file_extension": ".py",
   "mimetype": "text/x-python",
   "name": "python",
   "nbconvert_exporter": "python",
   "pygments_lexer": "ipython3",
   "version": "3.5.5"
  }
 },
 "nbformat": 4,
 "nbformat_minor": 2
}
