{
 "cells": [
  {
   "cell_type": "markdown",
   "metadata": {},
   "source": [
    "# PLEQUE  for COMPASS-U Fiesta files\n",
    "PLEQUE = PLasma EQUilibrium Enjoyment module"
   ]
  },
  {
   "cell_type": "markdown",
   "metadata": {},
   "source": [
    "#### Important imports:"
   ]
  },
  {
   "cell_type": "code",
   "execution_count": null,
   "metadata": {},
   "outputs": [],
   "source": [
    "%pylab notebook"
   ]
  },
  {
   "cell_type": "code",
   "execution_count": null,
   "metadata": {},
   "outputs": [],
   "source": [
    "%load_ext autoreload\n",
    "%autoreload 2"
   ]
  },
  {
   "cell_type": "code",
   "execution_count": null,
   "metadata": {},
   "outputs": [],
   "source": [
    "import numpy.ma as ma"
   ]
  },
  {
   "cell_type": "code",
   "execution_count": null,
   "metadata": {},
   "outputs": [],
   "source": [
    "from pleque.io import compass\n",
    "from pleque.utils import plotting\n",
    "import pleque.tests.utils as test_util"
   ]
  },
  {
   "cell_type": "code",
   "execution_count": null,
   "metadata": {},
   "outputs": [],
   "source": [
    "test_util.get_test_cases_number()"
   ]
  },
  {
   "cell_type": "markdown",
   "metadata": {},
   "source": [
    "Let's load COMPASS testing shot and plot its overview. \n",
    "\n",
    "Other posibilities how to load equilibrium are showed at https://pleque.readthedocs.io/en/"
   ]
  },
  {
   "cell_type": "code",
   "execution_count": null,
   "metadata": {
    "scrolled": false
   },
   "outputs": [],
   "source": [
    "eq = test_util.load_testing_equilibrium(4)\n",
    "plt.figure()\n",
    "eq.plot_overview()"
   ]
  },
  {
   "cell_type": "markdown",
   "metadata": {},
   "source": [
    "## Get basic information about plasma is simple:"
   ]
  },
  {
   "cell_type": "code",
   "execution_count": null,
   "metadata": {},
   "outputs": [],
   "source": [
    "# generate simple grid for printing (instance of Coordinates class) \n",
    "grid = eq.grid((200,300), dim='size')\n",
    "\n",
    "# R, Z coordinates of the grid: \n",
    "R = grid.R\n",
    "Z = grid.Z\n",
    "\n",
    "# poloidal flux: \n",
    "psi = grid.psi \n",
    "\n",
    "# or from equilibrium: \n",
    "psi = eq.psi(grid)\n",
    "\n",
    "# Last closed flux surface (LCFS))\n",
    "# lcfs is set of coordinates points (class Coordinates) so we choose one of them \n",
    "lcfs = eq.lcfs\n",
    "\n",
    "# psi of last closed fluxsurface (psi of one point laying on lcfs):\n",
    "psi_lcfs = lcfs.psi[0]\n",
    "# rs_lcfs = lcfs.R, zs_lcfs = lcfs.Z, ... \n",
    "\n",
    "# first wall\n",
    "first_wall = eq.first_wall\n",
    "\n",
    "# The absolute value of the poloidal magnetic field: \n",
    "B_pol = eq.B_pol(grid)\n",
    "\n",
    "# Toroidal magnetic field\n",
    "B_tor = eq.B_tor(grid)\n",
    "\n",
    "# Toroidal current density: \n",
    "j_tor = eq.j_tor(grid)\n",
    "\n",
    "# the current is calculated from psi map and profiles \n",
    "# let's put mask of separatrix on j_tor \n",
    "j_tor_ma = ma.masked_array(j_tor, np.logical_not(eq.in_lcfs(grid)))\n",
    "\n",
    "# etc... (use tab completion eq.[TAB])\n"
   ]
  },
  {
   "cell_type": "code",
   "execution_count": null,
   "metadata": {},
   "outputs": [],
   "source": []
  },
  {
   "cell_type": "markdown",
   "metadata": {},
   "source": [
    "### Quantities plotting: "
   ]
  },
  {
   "cell_type": "code",
   "execution_count": null,
   "metadata": {},
   "outputs": [],
   "source": [
    "# generate simple grid for printing (instance of Coordinates class) \n",
    "\n",
    "fig, axs = plt.subplots(1, 4, sharex=True, sharey=True, figsize=(10,4))\n",
    "\n",
    "# Fast decoration of the plot\n",
    "def decorate_ax(ax: plt.Axes):\n",
    "    ax.plot(lcfs.R, lcfs.Z, color='k', ls='--', lw=2)\n",
    "    ax.plot(first_wall.R, first_wall.Z, 'k-', lw=2)\n",
    "    ax.set_xlabel('R [m]')\n",
    "    ax.set_ylabel('Z [m]')\n",
    "    ax.set_aspect('equal')\n",
    "\n",
    "# lets' plot psi\n",
    "ax = axs[0]\n",
    "ax.set_title(r'$\\psi$')\n",
    "# psi is one of the coordinates so it can be evaluate as grid.psi, \n",
    "# it is equivalent to eq.psi(grid)\n",
    "ax.contour(grid.R, grid.Z, grid.psi, 20)\n",
    "# plot lcfs and first wall (limiter)\n",
    "ax.plot(lcfs.R, lcfs.Z, color='k', ls='--', lw=2)\n",
    "ax.contour(grid.R, grid.Z, grid.psi, [eq.lcfs.psi[0]], colors='C1')\n",
    "ax.plot(first_wall.R, first_wall.Z, 'k-', lw=2)\n",
    "\n",
    "# some decoration: \n",
    "ax.set_xlabel('R [m]')\n",
    "ax.set_ylabel('Z [m]')\n",
    "ax.set_aspect('equal')\n",
    "\n",
    "# Now poloidal field: \n",
    "ax = axs[1]\n",
    "ax.set_title(r'$|B_\\theta|$')\n",
    "# Magnetic field is not coordinate, so it must be called from Equilibrium class:\n",
    "cs = ax.contour(grid.R, grid.Z, B_pol, np.linspace(0, 0.6, 9))\n",
    "plt.clabel(cs, inline=1)\n",
    "decorate_ax(ax)\n",
    "\n",
    "# Toroidal field plot: \n",
    "ax = axs[2]\n",
    "ax.set_title(r'$|B_\\phi|$')\n",
    "cs = ax.contour(grid.R, grid.Z, B_tor, 17)\n",
    "plt.clabel(cs, inline=1)\n",
    "decorate_ax(ax)\n",
    "\n",
    "# Tor current density: \n",
    "ax = axs[3]\n",
    "ax.set_title(r'$|j_\\phi|$')\n",
    "cs = ax.contour(grid.R, grid.Z, j_tor_ma, 6)\n",
    "plt.clabel(cs, inline=1)\n",
    "decorate_ax(ax)\n",
    "\n"
   ]
  },
  {
   "cell_type": "markdown",
   "metadata": {},
   "source": [
    "## Now some equilibrium midplane profiles:\n",
    "As a first step we have to generate some midplane coordinates. \n",
    "We have multiple options for this. Let's choose the fastest way how to generete them. \n",
    "More options to generate coordinates will be shown later in the notebook. \n"
   ]
  },
  {
   "cell_type": "code",
   "execution_count": null,
   "metadata": {},
   "outputs": [],
   "source": [
    "# we will generate coordinates in polar system with it's center on the magnetic axis:\n",
    "# (!) there is lower case r, not capitalized R which denotes to cylindrical coordinates\n",
    "\n",
    "# number of points\n",
    "N = 100\n",
    "\n",
    "# this is not the simpliest way... It will be more handy in the near future\n",
    "# we find the minor radius on theta = 0)\n",
    "r_sep = eq.lcfs.r[np.argmin(np.abs(eq.lcfs.theta))]\n",
    "\n",
    "# and here is the future (mapping to outer midplane) \n",
    "r_sep = eq.lcfs.r_mid[0]\n",
    "\n",
    "# module automaticaly identify the type of the input: \n",
    "# in this case r is minor radius and theta poloidal angle (align with the magnetic axis)\n",
    "# by saying grid=False we don't generate grid data\n",
    "midplane = eq.coordinates(r=np.linspace(0, r_sep, N), theta=np.zeros(N), grid=False)\n",
    "\n",
    "# get the midplane profiles: \n",
    "B_tor = eq.B_tor(midplane)\n",
    "B_pol = eq.B_pol(midplane)\n",
    "B_abs = eq.B_abs(midplane)\n",
    "\n",
    "# toroidal/poloidal flux: \n",
    "tor_flux = eq.tor_flux(midplane)\n",
    "pol_flux = eq.psi(midplane)\n",
    "\n",
    "# on the first call q profile is calculated \n",
    "# it is (not precise for psi_n -> 1)\n",
    "# for more precise method see bellow\n",
    "q_profile = eq.q(midplane)\n",
    "\n",
    "fig, axs = plt.subplots(3, 1, sharex=True)\n",
    "\n",
    "\n",
    "# First profiles of magnetic fields on midplane: \n",
    "ax = axs[0]\n",
    "# Profile of toroidal field: \n",
    "ax.plot(midplane.r, eq.B_tor(midplane), label=r'$B_\\phi$')\n",
    "# Profile of poloidal field: \n",
    "ax.plot(midplane.r, eq.B_pol(midplane), label=r'$B_\\theta$')\n",
    "# total\n",
    "ax.plot(midplane.r, eq.B_abs(midplane), label=r'$|\\vec B|$')\n",
    "ax.axvline(r_sep, color='k', ls='--')\n",
    "ax.set_ylabel(r'$B$ [T]')\n",
    "ax.legend()\n",
    "\n",
    "\n",
    "# Field coordinates (poloidal and toroidal flux)\n",
    "ax = axs[1]\n",
    "ax2 = ax.twinx()\n",
    "# ax.plot(midplane.r, eq.tor_flux(r=midplane.r))\n",
    "ax.plot(midplane.r, eq.tor_flux(midplane), 'C0', label='Toroidal mg. flux')\n",
    "ax.axvline(r_sep, color='k', ls='--')\n",
    "ax.tick_params(labelcolor='C0')\n",
    "ax.set_ylabel(r'$\\Phi$')\n",
    "ax.legend()\n",
    "\n",
    "ax2.plot(midplane.r, midplane.psi, 'C1', label='Poloidal mg. flux')\n",
    "ax2.tick_params(labelcolor='C1')\n",
    "ax2.set_ylabel(r'$\\psi$')\n",
    "\n",
    "ax2.legend()\n",
    "\n",
    "# q-profile\n",
    "ax = axs[2]\n",
    "ax.plot(midplane.r, np.abs(eq.q(midplane)), label='q')\n",
    "ax.set_ylabel(r'$q$')\n",
    "ax.axvline(r_sep, color='k', ls='--')\n",
    "ax.set_ylim([0, 5])\n",
    "\n",
    "ax.set_xlabel(r'$r_\\mathrm{mid}$')\n",
    "\n",
    "\n",
    "plt.tight_layout()\n",
    "\n",
    "# ax = gca()\n",
    "# ax.set_title(r'$\\psi$')\n",
    "# psi is one of the coordinates so it can be evaluate as grid.psi, \n",
    "# it is equivalent to eq.psi(grid)\n",
    "# ax.contour(grid.R, grid.Z, grid.psi, 20)\n",
    "# decorate_ax(ax)\n"
   ]
  },
  {
   "cell_type": "markdown",
   "metadata": {},
   "source": [
    "## Spline interpolation of fitted data and mapping to various coordinates"
   ]
  },
  {
   "cell_type": "code",
   "execution_count": null,
   "metadata": {
    "scrolled": false
   },
   "outputs": [],
   "source": [
    "from scipy.special import erf\n",
    "\n",
    "\n",
    "N = 200\n",
    "\n",
    "chord1 = eq.coordinates(R=0.6*np.ones(N), Z=np.linspace(0.3, 0., N))\n",
    "chord2 = eq.coordinates(R=np.linspace(0.35, 0.6, 20), Z=-0.1*np.ones(20))\n",
    "\n",
    "\n",
    "# let's define some testing profile function: \n",
    "prof_func = lambda x, k1, xsep: k1/4 * (1 + erf((x-xsep)*20))*np.log((x+1)*1.2) - 4*np.exp(-(50*(x-1)**2))\n",
    "chord_prof = prof_func(1 - chord1.psi_n, 10, 0.15)\n",
    "\n",
    "# todo here\n",
    "plt.figure()\n",
    "plt.plot(chord1.Z, chord_prof, color='C3')\n",
    "eq.fluxfuncs.add_flux_func('test_prof', chord_prof, chord1, spline_smooth=0)\n",
    "plt.plot(chord1.Z, eq.fluxfuncs.test_prof(chord1), '--', color='C3')\n",
    "plt.xlabel('Z [m]')\n",
    "plt.ylabel('profile value [a.u.]')\n",
    "plt.tight_layout()\n",
    "\n",
    "plt.figure()\n",
    "plt.plot(chord2.R, eq.fluxfuncs.test_prof(chord2), '--', color='C4')\n",
    "plt.xlabel('R [m]')\n",
    "plt.ylabel('profile value [a.u.]')\n",
    "plt.tight_layout()\n",
    "\n",
    "\n",
    "plt.figure()\n",
    "plt.plot(chord1.r_mid, chord_prof, color='C1')\n",
    "plt.xlabel(r'$r_\\mathrm{mid}$ [m]')\n",
    "plt.ylabel('profile value [a.u.]')\n",
    "\n",
    "plt.tight_layout()\n",
    "\n",
    "plt.figure()\n",
    "eq._plot_overview()\n",
    "\n",
    "chord1.plot(lw=3, ls='--', color='C3')\n",
    "chord2.plot(lw=3, ls='--', color='C4')\n",
    "\n",
    "\n"
   ]
  },
  {
   "cell_type": "code",
   "execution_count": null,
   "metadata": {},
   "outputs": [],
   "source": [
    "from scipy.special import erf\n",
    "\n",
    "N = 200\n",
    "\n",
    "chord1 = eq.coordinates(R=0.9*np.ones(N), Z=np.linspace(0.4, -0.1, N))\n",
    "chord2 = eq.coordinates(R=np.linspace(0.65, 0.9, 20), Z=-0.1*np.ones(20))\n",
    "\n",
    "\n",
    "# let's define some testing profile function: \n",
    "prof_func = lambda x, k1, xsep: k1/4 * (1 + erf((x-xsep)*20))*np.log((x+1)*5)\n",
    "chord_prof = prof_func(1 - chord1.psi_n, 15, 0.1)\n",
    "\n",
    "# todo here\n",
    "plt.figure()\n",
    "plt.plot(chord1.Z, chord_prof)\n",
    "eq.fluxfuncs.add_flux_func('test_prof', chord_prof, chord1, spline_smooth=1)\n",
    "\n",
    "plt.figure()\n",
    "eq._plot_overview()\n",
    "\n",
    "\n"
   ]
  },
  {
   "cell_type": "markdown",
   "metadata": {
    "collapsed": true
   },
   "source": [
    "## Test of 3D coordinates: "
   ]
  },
  {
   "cell_type": "code",
   "execution_count": null,
   "metadata": {},
   "outputs": [],
   "source": [
    "# Let's define some detector: \n",
    "# R = 1.25, Z = 0, phi = 0 pointing to (direction)\n",
    "# x = -1, y = 0.5, z = 0\n",
    "\n",
    "direction = np.array((-1, 0.6, 0.2))\n",
    "direction /= np.linalg.norm(direction)\n",
    "position = np.array((1.25, 0, -0.1))\n",
    "\n",
    "# Let's define limiters: \n",
    "Ns = 100\n",
    "inner_lim = eq.coordinates(np.min(eq.first_wall.R)*np.ones(Ns), np.zeros(Ns), np.linspace(0, 2*np.pi, Ns))\n",
    "outer_lim = eq.coordinates(np.max(eq.first_wall.R)*np.ones(Ns), np.zeros(Ns), np.linspace(0, 2*np.pi, Ns))\n",
    "\n",
    "# Line of view of the detector (i.e. camera pixel):\n",
    "camera_view = eq.coordinates(position+direction[np.newaxis,:]*np.linspace(0, 2.0, 20)[:, np.newaxis], coord_type=('X', 'Y', 'Z'))\n",
    "\n",
    "fig, axs = plt.subplots(1,2)\n",
    "# Upper view:\n",
    "ax = axs[0]\n",
    "ax.plot(inner_lim.X, inner_lim.Y, 'k-')\n",
    "ax.plot(outer_lim.X, outer_lim.Y, 'k-')\n",
    "ax.plot(camera_view.X, camera_view.Y, 'x--', label='Chord of the view')\n",
    "ax.plot(position[0], position[1], 'd', color='C0')\n",
    "ax.legend()\n",
    "ax.set_aspect('equal')\n",
    "\n",
    "ax = axs[1]\n",
    "ax.plot(eq.first_wall.R, eq.first_wall.Z, 'k-')\n",
    "ax.plot(eq.lcfs.R, eq.lcfs.Z, 'k--')\n",
    "ax.plot(camera_view.R, camera_view.Z, 'x--')\n",
    "ax.plot(position[0], position[2], 'd', color='C0')\n",
    "ax.set_aspect('equal')"
   ]
  },
  {
   "cell_type": "code",
   "execution_count": null,
   "metadata": {},
   "outputs": [],
   "source": [
    "ax.contour(grid.R, grid.Z, grid.psi, [eq.lcfs.psi[0]], colors='C1')"
   ]
  },
  {
   "cell_type": "code",
   "execution_count": null,
   "metadata": {},
   "outputs": [],
   "source": []
  }
 ],
 "metadata": {
  "kernelspec": {
   "display_name": "Python 3",
   "language": "python",
   "name": "python3"
  },
  "language_info": {
   "codemirror_mode": {
    "name": "ipython",
    "version": 3
   },
   "file_extension": ".py",
   "mimetype": "text/x-python",
   "name": "python",
   "nbconvert_exporter": "python",
   "pygments_lexer": "ipython3",
   "version": "3.7.2"
  }
 },
 "nbformat": 4,
 "nbformat_minor": 1
}
