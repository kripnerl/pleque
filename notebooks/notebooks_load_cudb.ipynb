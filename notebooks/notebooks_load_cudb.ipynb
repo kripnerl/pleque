{
 "cells": [
  {
   "cell_type": "markdown",
   "metadata": {},
   "source": [
    "# Pleque with CUDB\n",
    "\n",
    "Correct version of pleque: \n",
    "```\n",
    "module load pleque/unstable\n",
    "```"
   ]
  },
  {
   "cell_type": "code",
   "execution_count": 1,
   "metadata": {},
   "outputs": [
    {
     "name": "stdout",
     "output_type": "stream",
     "text": [
      "Populating the interactive namespace from numpy and matplotlib\n"
     ]
    }
   ],
   "source": [
    "%pylab notebook "
   ]
  },
  {
   "cell_type": "code",
   "execution_count": null,
   "metadata": {},
   "outputs": [],
   "source": []
  },
  {
   "cell_type": "code",
   "execution_count": 2,
   "metadata": {},
   "outputs": [],
   "source": [
    "from pleque.io.compass import cudb\n",
    "from pleque.tests.utils import load_testing_equilibrium\n",
    "from pleque.core.coordinates import Coordinates\n",
    "import matplotlib.pyplot as plt\n",
    "import numpy as np\n"
   ]
  },
  {
   "cell_type": "code",
   "execution_count": 3,
   "metadata": {},
   "outputs": [
    {
     "ename": "ModuleNotFoundError",
     "evalue": "No module named 'pyCDB'",
     "output_type": "error",
     "traceback": [
      "\u001b[0;31m---------------------------------------------------------------------------\u001b[0m",
      "\u001b[0;31mModuleNotFoundError\u001b[0m                       Traceback (most recent call last)",
      "\u001b[0;32m<ipython-input-3-932cc43c26f9>\u001b[0m in \u001b[0;36m<module>\u001b[0;34m\u001b[0m\n\u001b[1;32m      1\u001b[0m \u001b[0;31m# If the first wall is not specified IBA v3.1 limiter is used.\u001b[0m\u001b[0;34m\u001b[0m\u001b[0;34m\u001b[0m\u001b[0;34m\u001b[0m\u001b[0m\n\u001b[0;32m----> 2\u001b[0;31m \u001b[0meq\u001b[0m \u001b[0;34m=\u001b[0m \u001b[0mcudb\u001b[0m\u001b[0;34m(\u001b[0m\u001b[0;36m6409\u001b[0m\u001b[0;34m,\u001b[0m \u001b[0mtime\u001b[0m\u001b[0;34m=\u001b[0m\u001b[0;36m1.0\u001b[0m\u001b[0;34m)\u001b[0m\u001b[0;34m\u001b[0m\u001b[0;34m\u001b[0m\u001b[0m\n\u001b[0m",
      "\u001b[0;32m~/Plocha/Výzkum/pleque/pleque/io/compass.py\u001b[0m in \u001b[0;36mcudb\u001b[0;34m(shot, time, revision, variant, time_unit, first_wall, cdb_host, cdb_data_root)\u001b[0m\n\u001b[1;32m     62\u001b[0m \u001b[0;34m\u001b[0m\u001b[0m\n\u001b[1;32m     63\u001b[0m     dst = get_ds_from_cudb(shot, eq_time, revision, variant, time_unit, first_wall,\n\u001b[0;32m---> 64\u001b[0;31m                      cdb_host, cdb_data_root)\n\u001b[0m\u001b[1;32m     65\u001b[0m \u001b[0;34m\u001b[0m\u001b[0m\n\u001b[1;32m     66\u001b[0m     \u001b[0meqts\u001b[0m \u001b[0;34m=\u001b[0m \u001b[0mEquilibriaTimeSlices\u001b[0m\u001b[0;34m(\u001b[0m\u001b[0mdst\u001b[0m\u001b[0;34m)\u001b[0m\u001b[0;34m\u001b[0m\u001b[0;34m\u001b[0m\u001b[0m\n",
      "\u001b[0;32m~/Plocha/Výzkum/pleque/pleque/io/compass.py\u001b[0m in \u001b[0;36mget_ds_from_cudb\u001b[0;34m(shot, time, revision, variant, time_unit, first_wall, cdb_host, cdb_data_root)\u001b[0m\n\u001b[1;32m     93\u001b[0m     \u001b[0mos\u001b[0m\u001b[0;34m.\u001b[0m\u001b[0menviron\u001b[0m\u001b[0;34m[\u001b[0m\u001b[0;34m'CDB_DATA_ROOT'\u001b[0m\u001b[0;34m]\u001b[0m \u001b[0;34m=\u001b[0m \u001b[0mcdb_data_root\u001b[0m\u001b[0;34m\u001b[0m\u001b[0;34m\u001b[0m\u001b[0m\n\u001b[1;32m     94\u001b[0m \u001b[0;34m\u001b[0m\u001b[0m\n\u001b[0;32m---> 95\u001b[0;31m     \u001b[0;32mimport\u001b[0m \u001b[0mpyCDB\u001b[0m\u001b[0;34m.\u001b[0m\u001b[0mclient\u001b[0m\u001b[0;34m\u001b[0m\u001b[0;34m\u001b[0m\u001b[0m\n\u001b[0m\u001b[1;32m     96\u001b[0m     \u001b[0mcdb\u001b[0m \u001b[0;34m=\u001b[0m \u001b[0mpyCDB\u001b[0m\u001b[0;34m.\u001b[0m\u001b[0mclient\u001b[0m\u001b[0;34m.\u001b[0m\u001b[0mCDBClient\u001b[0m\u001b[0;34m(\u001b[0m\u001b[0;34m)\u001b[0m\u001b[0;34m\u001b[0m\u001b[0;34m\u001b[0m\u001b[0m\n\u001b[1;32m     97\u001b[0m \u001b[0;34m\u001b[0m\u001b[0m\n",
      "\u001b[0;31mModuleNotFoundError\u001b[0m: No module named 'pyCDB'"
     ]
    }
   ],
   "source": [
    "# If the first wall is not specified IBA v3.1 limiter is used. \n",
    "eq = cudb(6409, time=1.0)"
   ]
  },
  {
   "cell_type": "code",
   "execution_count": null,
   "metadata": {},
   "outputs": [],
   "source": [
    "eq.plot_overview()"
   ]
  },
  {
   "cell_type": "code",
   "execution_count": null,
   "metadata": {},
   "outputs": [],
   "source": [
    "# Full syntax: \n",
    "?cudb"
   ]
  },
  {
   "cell_type": "markdown",
   "metadata": {},
   "source": [
    "## Specify your own first wall: "
   ]
  },
  {
   "cell_type": "code",
   "execution_count": null,
   "metadata": {},
   "outputs": [],
   "source": [
    "first_wall = np.array([[0.6, -0.6],[1.2, -0.6],[1.2, 0.6],[0.6, 0.6],[0.6, -0.6]])\n",
    "eq2 = cudb(6409, time=1.0, first_wall=first_wall)"
   ]
  },
  {
   "cell_type": "code",
   "execution_count": null,
   "metadata": {},
   "outputs": [],
   "source": [
    "plt.figure()\n",
    "eq2.plot_overview()"
   ]
  },
  {
   "cell_type": "code",
   "execution_count": null,
   "metadata": {},
   "outputs": [],
   "source": [
    "# You can see, there is wrong geometry in the database at the moment: \n",
    "eq2.plot_geometry()"
   ]
  },
  {
   "cell_type": "code",
   "execution_count": null,
   "metadata": {},
   "outputs": [],
   "source": [
    "# Coordinates instance of first wall: \n",
    "fw = eq.first_wall\n",
    "\n",
    "# Midplane separatrix-lcfs distance: \n",
    "r_mid = eq.r_mid(psi_n = 1, grid=False)\n",
    "mapped_clearance = fw.r_mid - r_mid\n"
   ]
  },
  {
   "cell_type": "code",
   "execution_count": null,
   "metadata": {},
   "outputs": [],
   "source": [
    "opts = {'vmin': 0, 'vmax': 0.01, 'edgecolors': 'none'}\n",
    "\n",
    "#ax = axs[0]\n",
    "figure(figsize=(4.5,6))\n",
    "ax = gca()\n",
    "\n",
    "# plot LCFS: \n",
    "eq.lcfs.plot(color='k', ls='--')\n",
    "cl = ax.scatter(fw.R, fw.Z, c=mapped_clearance, **opts)\n",
    "im = colorbar(mappable=cl, ax=ax, label='Mapped clearance [m]')\n",
    "ax.set_aspect('equal')\n",
    "ax.set_ylabel('Z [m]')\n",
    "ax.set_xlabel('R [m]')\n",
    "\n"
   ]
  },
  {
   "cell_type": "markdown",
   "metadata": {},
   "source": [
    "## Magnetic field on the FW: "
   ]
  },
  {
   "cell_type": "code",
   "execution_count": null,
   "metadata": {},
   "outputs": [],
   "source": [
    "B_wall = eq.B_abs(fw)\n"
   ]
  },
  {
   "cell_type": "code",
   "execution_count": null,
   "metadata": {},
   "outputs": [],
   "source": [
    "figure(figsize=(4.5,6))\n",
    "ax = gca()\n",
    "\n",
    "# plot LCFS: \n",
    "eq.lcfs.plot(color='k', ls='--')\n",
    "# opts = {'vmin': 6.0, 'vmax': 10.0, 'edgecolors': 'none'}\n",
    "cl = ax.scatter(fw.R, fw.Z, c=B_wall)\n",
    "im = colorbar(mappable=cl, ax=ax, label='Magnetic feild on FW [T]')\n",
    "ax.set_aspect('equal')\n",
    "ax.set_ylabel('Z [m]')\n",
    "ax.set_xlabel('R [m]')"
   ]
  },
  {
   "cell_type": "code",
   "execution_count": null,
   "metadata": {},
   "outputs": [],
   "source": [
    "first_wall=eq.first_wall\n",
    "\n",
    "\n",
    "#number of points to resample the limiter\n",
    "npoints=1000\n",
    "\n",
    "\n",
    "\n",
    "coords=Coordinates(eq,np.vstack((first_wall.R,first_wall.Z)).T)\n",
    "\n",
    "# Resample using new method\n",
    "coords2=coords.resample2(npoints)\n",
    "\n",
    "print(dir(coords2))\n",
    "\n",
    "#just for plotting\n",
    "newpoints=np.vstack((coords2.R,coords2.Z))\n",
    "\n",
    "# test area"
   ]
  },
  {
   "cell_type": "code",
   "execution_count": null,
   "metadata": {},
   "outputs": [],
   "source": [
    "# get normal vector\n",
    "normal_vecs=coords2.normal_vector().T\n",
    "\n",
    "# get normalised bvec\n",
    "bvec=eq.Bvec_norm(coords2)\n",
    "\n",
    "vec=np.linspace(0,0.2,2)\n",
    "\n",
    "# get impact angle cosinus\n",
    "\n",
    "impcos=coords2.impact_angle_cos()\n",
    "\n",
    "#get only poloidal projection\n",
    "\n",
    "# get impact angle cosinus\n",
    "\n",
    "impcospol=coords2.pol_projection_impact_angle_cos()\n"
   ]
  },
  {
   "cell_type": "code",
   "execution_count": null,
   "metadata": {},
   "outputs": [],
   "source": [
    "fign,axn=plt.subplots()\n",
    "\n",
    "divdimR1=0.55\n",
    "divdimR2=0.9\n",
    "divdimz1=-0.7\n",
    "divdimz2=-0.4\n",
    "axn.plot(first_wall.R,first_wall.Z,lw=5,color='c')\n",
    "\n",
    "axn.set_aspect('equal')\n",
    "    \n",
    "newpoints=np.vstack((coords2.R,coords2.Z))\n",
    "print(np.shape(newpoints))\n",
    "\n",
    "#plot normal vectors\n",
    "for i in range(0,npoints-1):\n",
    "    axn.plot(coords2.R[i]+normal_vecs[0,i]*vec,coords2.Z[i]+normal_vecs[1,i]*vec,color='k')\n",
    "    \n",
    "#plot b vectors\n",
    "    \n",
    "for i in range(0,npoints-1):\n",
    "    axn.plot(coords2.R[i]+bvec[0,i]*0.2*vec,coords2.Z[i]+bvec[1,i]*0.2*vec,color='r')\n",
    "    \n",
    "\n",
    "grid = eq.grid(resolution=[1e-3, 2e-3], dim=\"step\")\n",
    "\n",
    "cl = axn.contour(grid.R, grid.Z, grid.psi_n, 400, alpha=0.5)\n",
    "\n",
    "eq.separatrix.plot(color='r',lw=10)\n",
    "\n",
    "axn.set_xlim(divdimR1,divdimR2)\n",
    "axn.set_ylim(divdimz1,divdimz2)"
   ]
  },
  {
   "cell_type": "code",
   "execution_count": null,
   "metadata": {},
   "outputs": [],
   "source": [
    "fig,ax=plt.subplots()\n",
    "\n",
    "ax.set_aspect('equal')\n",
    "#cmap=plt.get_cmap('jet')\n",
    "\n",
    "#norm_cos=(impcos-np.amin(impcos))/(np.amax(impcos)-np.amin(impcos))\n",
    "\n",
    "cl = ax.scatter(coords2.R[:-1], coords2.Z[:-1], c=np.abs(impcos))\n",
    "im = plt.colorbar(mappable=cl, ax=ax, label='Impact angle cosine')\n",
    "ax.set_aspect('equal')\n",
    "ax.set_ylabel('Z [m]')\n",
    "ax.set_xlabel('R [m]')\n",
    "\n",
    "plt.show()"
   ]
  },
  {
   "cell_type": "code",
   "execution_count": null,
   "metadata": {},
   "outputs": [],
   "source": [
    "fig,ax=plt.subplots()\n",
    "\n",
    "ax.set_aspect('equal')\n",
    "#cmap=plt.get_cmap('jet')\n",
    "\n",
    "#norm_cos=(impcos-np.amin(impcos))/(np.amax(impcos)-np.amin(impcos))\n",
    "\n",
    "cl = ax.scatter(coords2.R[:-1], coords2.Z[:-1], c=np.abs(impcospol))\n",
    "im = plt.colorbar(mappable=cl, ax=ax, label='Impact angle pol projection cosine')\n",
    "ax.set_aspect('equal')\n",
    "ax.set_ylabel('Z [m]')\n",
    "ax.set_xlabel('R [m]')\n",
    "\n",
    "plt.show()"
   ]
  },
  {
   "cell_type": "code",
   "execution_count": null,
   "metadata": {},
   "outputs": [],
   "source": [
    "# full field\n",
    "ratio=eq.outter_parallel_fl_expansion_coef(coords2)\n",
    "# poloidal field only\n",
    "ratio2=eq.outter_poloidal_fl_expansion_coef(coords2)"
   ]
  },
  {
   "cell_type": "code",
   "execution_count": null,
   "metadata": {},
   "outputs": [],
   "source": [
    "fig,ax=plt.subplots()\n",
    "\n",
    "ax.set_aspect('equal')\n",
    "\n",
    "#cmap=plt.get_cmap('jet')\n",
    "\n",
    "#norm_cos=(impcos-np.amin(impcos))/(np.amax(impcos)-np.amin(impcos))\n",
    "opts = {'vmin': 0, 'vmax': 0.5, 'edgecolors': 'none'}\n",
    "\n",
    "cl = ax.scatter(coords2.R, coords2.Z, c=ratio2, **opts)\n",
    "im = plt.colorbar(mappable=cl, ax=ax, label='Magnetic_field_ratio_poloidal')\n",
    "ax.set_aspect('equal')\n",
    "ax.set_ylabel('Z [m]')\n",
    "ax.set_xlabel('R [m]')\n",
    "\n",
    "ax.set_xlim(divdimR1,divdimR2)\n",
    "ax.set_ylim(divdimz1,divdimz2)\n",
    "\n",
    "plt.show()\n",
    "\n",
    "\n",
    "fig,ax=plt.subplots()\n",
    "\n",
    "ax.set_aspect('equal')\n",
    "\n",
    "#cmap=plt.get_cmap('jet')\n",
    "\n",
    "#norm_cos=(impcos-np.amin(impcos))/(np.amax(impcos)-np.amin(impcos))\n",
    "opts = {'vmin': 0.5, 'vmax': 1, 'edgecolors': 'none'}\n",
    "\n",
    "cl = ax.scatter(coords2.R, coords2.Z, c=ratio, **opts)\n",
    "im = plt.colorbar(mappable=cl, ax=ax, label='Magnetic_field_ratio_full')\n",
    "ax.set_aspect('equal')\n",
    "ax.set_ylabel('Z [m]')\n",
    "ax.set_xlabel('R [m]')\n",
    "\n",
    "ax.set_xlim(divdimR1,divdimR2)\n",
    "ax.set_ylim(divdimz1,divdimz2)\n",
    "plt.show()"
   ]
  },
  {
   "cell_type": "code",
   "execution_count": null,
   "metadata": {},
   "outputs": [],
   "source": [
    "flux_exp_coef=ratio[:-1]*np.abs(impcos)"
   ]
  },
  {
   "cell_type": "code",
   "execution_count": null,
   "metadata": {},
   "outputs": [],
   "source": [
    "fig,ax=plt.subplots()\n",
    "\n",
    "ax.set_aspect('equal')\n",
    "#cmap=plt.get_cmap('jet')\n",
    "\n",
    "#norm_cos=(impcos-np.amin(impcos))/(np.amax(impcos)-np.amin(impcos))\n",
    "opts = {'vmin': 0, 'vmax': 0.01, 'edgecolors': 'none'} #\n",
    "\n",
    "cl = ax.scatter(coords2.R[:-1], coords2.Z[:-1], c=flux_exp_coef,marker='s',**opts)\n",
    "im = plt.colorbar(mappable=cl, ax=ax, label='Total coeff cos* flux expansion')\n",
    "ax.set_aspect('equal')\n",
    "ax.set_ylabel('Z [m]')\n",
    "ax.set_xlabel('R [m]')\n",
    "\n",
    "ax.set_xlim(divdimR1,divdimR2)\n",
    "ax.set_ylim(divdimz1,divdimz2)\n",
    "\n",
    "ax.contour(grid.R, grid.Z, grid.psi_n, 600, alpha=0.5)\n",
    "\n",
    "eq.separatrix.plot(color='r',lw=2)\n",
    "\n",
    "plt.show()"
   ]
  },
  {
   "cell_type": "code",
   "execution_count": null,
   "metadata": {},
   "outputs": [],
   "source": [
    "flux_exp_coef=ratio2[:-1]*np.abs(impcospol)"
   ]
  },
  {
   "cell_type": "code",
   "execution_count": null,
   "metadata": {},
   "outputs": [],
   "source": [
    "fig,ax=plt.subplots()\n",
    "\n",
    "ax.set_aspect('equal')\n",
    "#cmap=plt.get_cmap('jet')\n",
    "\n",
    "#norm_cos=(impcos-np.amin(impcos))/(np.amax(impcos)-np.amin(impcos))\n",
    "opts = {'vmin': 0, 'vmax': 0.5, 'edgecolors': 'none'} #\n",
    "\n",
    "cl = ax.scatter(coords2.R[:-1], coords2.Z[:-1], c=flux_exp_coef,marker='s',**opts)\n",
    "im = plt.colorbar(mappable=cl, ax=ax, label='Total coeff pol variant')\n",
    "ax.set_aspect('equal')\n",
    "ax.set_ylabel('Z [m]')\n",
    "ax.set_xlabel('R [m]')\n",
    "\n",
    "ax.set_xlim(divdimR1,divdimR2)\n",
    "ax.set_ylim(divdimz1,divdimz2)\n",
    "\n",
    "ax.contour(grid.R, grid.Z, grid.psi_n, 600, alpha=0.5)\n",
    "eq.separatrix.plot(color='r',lw=2)\n",
    "\n",
    "plt.show()"
   ]
  },
  {
   "cell_type": "code",
   "execution_count": null,
   "metadata": {},
   "outputs": [],
   "source": []
  },
  {
   "cell_type": "code",
   "execution_count": null,
   "metadata": {},
   "outputs": [],
   "source": []
  },
  {
   "cell_type": "code",
   "execution_count": null,
   "metadata": {},
   "outputs": [],
   "source": []
  },
  {
   "cell_type": "code",
   "execution_count": null,
   "metadata": {},
   "outputs": [],
   "source": []
  },
  {
   "cell_type": "code",
   "execution_count": null,
   "metadata": {},
   "outputs": [],
   "source": []
  }
 ],
 "metadata": {
  "kernelspec": {
   "display_name": "Python 3",
   "language": "python",
   "name": "python3"
  },
  "language_info": {
   "codemirror_mode": {
    "name": "ipython",
    "version": 3
   },
   "file_extension": ".py",
   "mimetype": "text/x-python",
   "name": "python",
   "nbconvert_exporter": "python",
   "pygments_lexer": "ipython3",
   "version": "3.7.4"
  }
 },
 "nbformat": 4,
 "nbformat_minor": 2
}
