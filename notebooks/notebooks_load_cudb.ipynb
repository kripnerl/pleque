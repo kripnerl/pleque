{
 "cells": [
  {
   "cell_type": "markdown",
   "metadata": {},
   "source": [
    "# Pleque with CUDB\n",
    "\n",
    "Correct version of pleque: \n",
    "```\n",
    "module load pleque/sumtraic\n",
    "```"
   ]
  },
  {
   "cell_type": "code",
   "execution_count": null,
   "metadata": {},
   "outputs": [],
   "source": [
    "%pylab notebook "
   ]
  },
  {
   "cell_type": "code",
   "execution_count": null,
   "metadata": {},
   "outputs": [],
   "source": [
    "# WIP: \n",
    "import sys\n",
    "sys.path.insert(0, '/compass/home/kripner/Projects/equilibrium_module')"
   ]
  },
  {
   "cell_type": "code",
   "execution_count": null,
   "metadata": {},
   "outputs": [],
   "source": [
    "from pleque.io.compass import cudb"
   ]
  },
  {
   "cell_type": "code",
   "execution_count": null,
   "metadata": {},
   "outputs": [],
   "source": [
    "# If the first wall is not specified IBA v3.1 limiter is used. \n",
    "eq = cudb(6409, time=1.0)"
   ]
  },
  {
   "cell_type": "code",
   "execution_count": null,
   "metadata": {},
   "outputs": [],
   "source": [
    "eq.plot_overview()"
   ]
  },
  {
   "cell_type": "code",
   "execution_count": null,
   "metadata": {},
   "outputs": [],
   "source": [
    "# Full syntax: \n",
    "?cudb"
   ]
  },
  {
   "cell_type": "markdown",
   "metadata": {},
   "source": [
    "## Specify your own first wall: "
   ]
  },
  {
   "cell_type": "code",
   "execution_count": null,
   "metadata": {},
   "outputs": [],
   "source": [
    "first_wall = np.array([[0.6, -0.6],[1.2, -0.6],[1.2, 0.6],[0.6, 0.6],[0.6, -0.6]])\n",
    "eq2 = cudb(6409, time=1.0, first_wall=first_wall)"
   ]
  },
  {
   "cell_type": "code",
   "execution_count": null,
   "metadata": {},
   "outputs": [],
   "source": [
    "plt.figure()\n",
    "eq2.plot_overview()"
   ]
  },
  {
   "cell_type": "code",
   "execution_count": null,
   "metadata": {},
   "outputs": [],
   "source": [
    "# You can see, there is wrong geometry in the database at the moment: \n",
    "eq2.plot_geometry()"
   ]
  },
  {
   "cell_type": "code",
   "execution_count": null,
   "metadata": {},
   "outputs": [],
   "source": [
    "# Coordinates instance of first wall: \n",
    "fw = eq.first_wall\n",
    "\n",
    "# Midplane separatrix-lcfs distance: \n",
    "r_mid = eq.r_mid(psi_n = 1, grid=False)\n",
    "mapped_clearance = fw.r_mid - r_mid\n"
   ]
  },
  {
   "cell_type": "code",
   "execution_count": null,
   "metadata": {},
   "outputs": [],
   "source": [
    "opts = {'vmin': 0, 'vmax': 0.01, 'edgecolors': 'none'}\n",
    "\n",
    "#ax = axs[0]\n",
    "figure(figsize=(4.5,6))\n",
    "ax = gca()\n",
    "\n",
    "# plot LCFS: \n",
    "eq.lcfs.plot(color='k', ls='--')\n",
    "cl = ax.scatter(fw.R, fw.Z, c=mapped_clearance, **opts)\n",
    "im = colorbar(mappable=cl, ax=ax, label='Mapped clearance [m]')\n",
    "ax.set_aspect('equal')\n",
    "ax.set_ylabel('Z [m]')\n",
    "ax.set_xlabel('R [m]')\n",
    "\n"
   ]
  },
  {
   "cell_type": "markdown",
   "metadata": {},
   "source": [
    "## Magnetic field on the FW: "
   ]
  },
  {
   "cell_type": "code",
   "execution_count": null,
   "metadata": {},
   "outputs": [],
   "source": [
    "B_wall = eq.B_abs(fw)\n"
   ]
  },
  {
   "cell_type": "code",
   "execution_count": null,
   "metadata": {},
   "outputs": [],
   "source": [
    "figure(figsize=(4.5,6))\n",
    "ax = gca()\n",
    "\n",
    "# plot LCFS: \n",
    "eq.lcfs.plot(color='k', ls='--')\n",
    "# opts = {'vmin': 6.0, 'vmax': 10.0, 'edgecolors': 'none'}\n",
    "cl = ax.scatter(fw.R, fw.Z, c=B_wall)\n",
    "im = colorbar(mappable=cl, ax=ax, label='Magnetic feild on FW [T]')\n",
    "ax.set_aspect('equal')\n",
    "ax.set_ylabel('Z [m]')\n",
    "ax.set_xlabel('R [m]')"
   ]
  },
  {
   "cell_type": "code",
   "execution_count": null,
   "metadata": {},
   "outputs": [],
   "source": []
  }
 ],
 "metadata": {
  "kernelspec": {
   "display_name": "Python 3",
   "language": "python",
   "name": "python3"
  },
  "language_info": {
   "codemirror_mode": {
    "name": "ipython",
    "version": 3
   },
   "file_extension": ".py",
   "mimetype": "text/x-python",
   "name": "python",
   "nbconvert_exporter": "python",
   "pygments_lexer": "ipython3",
   "version": "3.7.4"
  }
 },
 "nbformat": 4,
 "nbformat_minor": 2
}
