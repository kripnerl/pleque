{
 "cells": [
  {
   "cell_type": "markdown",
   "metadata": {},
   "source": [
    "# Basic example\n",
    "\n",
    "The following example shows how to load an equilibrium saved in the EQDSK format and perform some basic operations with it. Several test equilibria come shipped with PLEQUE; here we will use onee of them."
   ]
  },
  {
   "cell_type": "code",
   "execution_count": null,
   "metadata": {},
   "outputs": [],
   "source": [
    "from pleque.io import readers\n",
    "import pkg_resources\n",
    "import matplotlib as plt\n",
    "\n",
    "#Locate the test equilibrium\n",
    "filepath = pkg_resources.resource_filename('pleque', 'resources/baseline_eqdsk')"
   ]
  },
  {
   "cell_type": "markdown",
   "metadata": {},
   "source": [
    "The heart of PLEQUE is its `Equilibrium` class, which contains all the equilibrium information (and much more). Typically its instances are called `eq`."
   ]
  },
  {
   "cell_type": "code",
   "execution_count": null,
   "metadata": {},
   "outputs": [],
   "source": [
    "# Create an instance of the `Equilibrium` class\n",
    "eq = readers.read_geqdsk(filepath)"
   ]
  },
  {
   "cell_type": "markdown",
   "metadata": {},
   "source": [
    "The `Equilibrium` class comes with many interesting functions and caveats."
   ]
  },
  {
   "cell_type": "code",
   "execution_count": null,
   "metadata": {},
   "outputs": [],
   "source": [
    "# Plot a simple overview of the equilibrium\n",
    "eq.plot_overview()\n",
    "\n",
    "# Calculate the separatrix area\n",
    "sep_area = eq.lcfs.area\n",
    "print('Separatrix area: A_sep = %.3f m^2' % sep_area)\n",
    "\n",
    "# Get absolute magnetic field magnitude at given point\n",
    "R = 0.7 #m\n",
    "Z = 0.1 #m\n",
    "B = eq.B_abs(R, Z)\n",
    "print('Magnetic field at R=%.1f m and Z=%.1f m: B = %.1f T' % (R, Z, B))"
   ]
  },
  {
   "cell_type": "markdown",
   "metadata": {},
   "source": [
    "Browse various attributes and functions of the `Equilibrium` class to see what it has to offer."
   ]
  }
 ],
 "metadata": {
  "kernelspec": {
   "display_name": "Python 3",
   "language": "python",
   "name": "python3"
  },
  "language_info": {
   "codemirror_mode": {
    "name": "ipython",
    "version": 3
   },
   "file_extension": ".py",
   "mimetype": "text/x-python",
   "name": "python",
   "nbconvert_exporter": "python",
   "pygments_lexer": "ipython3",
   "version": "3.7.4"
  }
 },
 "nbformat": 4,
 "nbformat_minor": 2
}
