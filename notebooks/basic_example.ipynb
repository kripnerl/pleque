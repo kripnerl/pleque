{
 "cells": [
  {
   "cell_type": "markdown",
   "metadata": {},
   "source": [
    "# PLEQUE basic example\n",
    "\n",
    "The following example shows how to load an equilibrium saved in the eqdsk format. The equilibrium used here comes from a FIESTA simulation of the COMPASS-Upgrade tokamak."
   ]
  },
  {
   "cell_type": "code",
   "execution_count": null,
   "metadata": {},
   "outputs": [],
   "source": [
    "from pleque.io import readers\n",
    "import pkg_resources\n",
    "import matplotlib as plt\n",
    "\n",
    "#Locate a test equilibrium\n",
    "filepath = pkg_resources.resource_filename('pleque', 'resources/baseline_eqdsk')"
   ]
  },
  {
   "cell_type": "markdown",
   "metadata": {},
   "source": [
    "The heart of pleque is its Equilibrium class, which contains all the equilibrium information (and much more). Typically its instances are called eq."
   ]
  },
  {
   "cell_type": "code",
   "execution_count": null,
   "metadata": {},
   "outputs": [],
   "source": [
    "# Create an instance of the `Equilibrium` class\n",
    "eq = readers.read_geqdsk(filepath)"
   ]
  },
  {
   "cell_type": "markdown",
   "metadata": {},
   "source": [
    "The Equilibrium class comes with tons of interesting functions and caveats."
   ]
  },
  {
   "cell_type": "code",
   "execution_count": null,
   "metadata": {},
   "outputs": [],
   "source": [
    "# Plot a simple overview of the equilibrium\n",
    "eq.plot_overview()\n",
    "\n",
    "# Calculate the separatrix area\n",
    "sep_area = eq.lcfs.area\n",
    "\n",
    "# Get absolute magnetic field magnitude at given point\n",
    "R = 0.7 #m\n",
    "Z = 0.1 #m\n",
    "B = eq.B_abs(R, Z)"
   ]
  }
 ],
 "metadata": {
  "kernelspec": {
   "display_name": "Python 3",
   "language": "python",
   "name": "python3"
  },
  "language_info": {
   "codemirror_mode": {
    "name": "ipython",
    "version": 3
   },
   "file_extension": ".py",
   "mimetype": "text/x-python",
   "name": "python",
   "nbconvert_exporter": "python",
   "pygments_lexer": "ipython3",
   "version": "3.7.4"
  }
 },
 "nbformat": 4,
 "nbformat_minor": 2
}
