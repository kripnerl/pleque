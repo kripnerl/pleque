{
 "cells": [
  {
   "cell_type": "markdown",
   "metadata": {},
   "source": [
    "This notebook is meant to show the tracing engine. It uses old COMPASS equilibrium module, which is meant to be replaced by Pleque. \n",
    "\n",
    "Basic imports"
   ]
  },
  {
   "cell_type": "code",
   "execution_count": 1,
   "metadata": {},
   "outputs": [],
   "source": [
    "import numpy as np\n",
    "import matplotlib.pyplot as plt\n",
    "import mpl_toolkits.mplot3d\n",
    "%matplotlib inline\n",
    "plt.rcParams['figure.dpi'] = 200"
   ]
  },
  {
   "cell_type": "markdown",
   "metadata": {},
   "source": [
    "Integration module with ODE integration functions."
   ]
  },
  {
   "cell_type": "code",
   "execution_count": 2,
   "metadata": {},
   "outputs": [],
   "source": [
    "from scipy import integrate"
   ]
  },
  {
   "cell_type": "markdown",
   "metadata": {},
   "source": [
    "COMPASS EFIT equilibrium loading and processing module from `python-lib`"
   ]
  },
  {
   "cell_type": "code",
   "execution_count": 3,
   "metadata": {},
   "outputs": [
    {
     "ename": "ModuleNotFoundError",
     "evalue": "No module named 'equilibrium'",
     "output_type": "error",
     "traceback": [
      "\u001b[0;31m---------------------------------------------------------------------------\u001b[0m",
      "\u001b[0;31mModuleNotFoundError\u001b[0m                       Traceback (most recent call last)",
      "\u001b[0;32m<ipython-input-3-f2e0f1a426ed>\u001b[0m in \u001b[0;36m<module>\u001b[0;34m\u001b[0m\n\u001b[0;32m----> 1\u001b[0;31m \u001b[0;32mfrom\u001b[0m \u001b[0mequilibrium\u001b[0m\u001b[0;34m.\u001b[0m\u001b[0mefit\u001b[0m \u001b[0;32mimport\u001b[0m \u001b[0mEfitEquilibrium\u001b[0m\u001b[0;34m\u001b[0m\u001b[0;34m\u001b[0m\u001b[0m\n\u001b[0m",
      "\u001b[0;31mModuleNotFoundError\u001b[0m: No module named 'equilibrium'"
     ]
    }
   ],
   "source": [
    "from equilibrium.efit import EfitEquilibrium"
   ]
  },
  {
   "cell_type": "code",
   "execution_count": null,
   "metadata": {},
   "outputs": [],
   "source": [
    "shot_no = 13925  # discharge number\n",
    "time = 1160  # ms\n",
    "efit = EfitEquilibrium(shot_no, time, revision=1)  # first revision"
   ]
  },
  {
   "cell_type": "markdown",
   "metadata": {},
   "source": [
    "The chosen flux surface will be the surface with $\\rho=0.95$"
   ]
  },
  {
   "cell_type": "code",
   "execution_count": null,
   "metadata": {},
   "outputs": [],
   "source": [
    "psi95 = efit.rho2psi(0.95)"
   ]
  },
  {
   "cell_type": "markdown",
   "metadata": {},
   "source": [
    "The field line start start/intial condition of the integration is chosen on the outer midplane"
   ]
  },
  {
   "cell_type": "code",
   "execution_count": null,
   "metadata": {},
   "outputs": [],
   "source": [
    "y0 = [efit.psi2R_Z0(psi95), 0]  # [R, Z]"
   ]
  },
  {
   "cell_type": "markdown",
   "metadata": {},
   "source": [
    "The pleque module holding field line tracing utilities"
   ]
  },
  {
   "cell_type": "code",
   "execution_count": null,
   "metadata": {},
   "outputs": [],
   "source": [
    "import pleque.utils.field_line_tracers as flt"
   ]
  },
  {
   "cell_type": "markdown",
   "metadata": {},
   "source": [
    "Creates a function $$\\frac{d\\vec x}{d\\phi} = f(\\phi, \\vec x)$$ where $\\vec x = [R, Z]$ is the position in the poloidal cross-section plane and $\\phi$ is the toroidal angle"
   ]
  },
  {
   "cell_type": "code",
   "execution_count": null,
   "metadata": {},
   "outputs": [],
   "source": [
    "dphi_func = flt.dhpi_tracer_factory(efit.B_R, efit.B_Z, efit.B_phi)"
   ]
  },
  {
   "cell_type": "code",
   "execution_count": null,
   "metadata": {},
   "outputs": [],
   "source": [
    "reload(flt)"
   ]
  },
  {
   "cell_type": "code",
   "execution_count": null,
   "metadata": {},
   "outputs": [],
   "source": [
    "pol_stopper = poloidal_angle_stopper_factory(y0, [efit.R_mag_axis, efit.Z_mag_axis], -1)"
   ]
  },
  {
   "cell_type": "code",
   "execution_count": null,
   "metadata": {},
   "outputs": [],
   "source": [
    "    sol = integrate.solve_ivp(dphi_func, (0, 2*np.pi*7), y0,\n",
    "                          events=pol_stopper,\n",
    "                          max_step=1e-2,  # we want high phi resolution\n",
    "                         )\n",
    "sol.message, sol.nfev"
   ]
  },
  {
   "cell_type": "code",
   "execution_count": null,
   "metadata": {},
   "outputs": [],
   "source": [
    "phi = sol.t\n",
    "R, Z = sol.y"
   ]
  },
  {
   "cell_type": "code",
   "execution_count": null,
   "metadata": {},
   "outputs": [],
   "source": [
    "fig, axs = plt.subplots(1, 2)\n",
    "lkw = dict(lw=0.5)\n",
    "axs[0].plot(R, Z, **lkw);\n",
    "axs[0].set_aspect(1)\n",
    "axs[0].set_ylabel('Z [m]')\n",
    "axs[0].set_xlabel('R [m]')\n",
    "axs[1].plot(R*np.cos(phi), R*np.sin(phi), **lkw)\n",
    "axs[1].set_aspect(1)\n",
    "axs[1].plot(0, 0, '+', markersize=10)\n",
    "axs[1].set_ylabel('y [m]')\n",
    "axs[1].set_xlabel('x [m]')\n",
    "plt.tight_layout()"
   ]
  },
  {
   "cell_type": "code",
   "execution_count": null,
   "metadata": {},
   "outputs": [],
   "source": [
    "ax = plt.subplot(projection='3d')\n",
    "ax.plot(R*np.cos(phi), R*np.sin(phi), Z, **lkw)\n",
    "ax.set_xlabel('x')\n",
    "ax.set_ylabel('y')\n",
    "ax.set_zlabel('z')\n",
    "ax.set_aspect(1)\n",
    "plt.tight_layout()"
   ]
  }
 ],
 "metadata": {
  "kernelspec": {
   "display_name": "Python 3",
   "language": "python",
   "name": "python3"
  },
  "language_info": {
   "codemirror_mode": {
    "name": "ipython",
    "version": 3
   },
   "file_extension": ".py",
   "mimetype": "text/x-python",
   "name": "python",
   "nbconvert_exporter": "python",
   "pygments_lexer": "ipython3",
   "version": "3.7.4"
  }
 },
 "nbformat": 4,
 "nbformat_minor": 2
}
