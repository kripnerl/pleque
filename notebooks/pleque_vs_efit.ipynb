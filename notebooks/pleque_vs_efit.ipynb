{
 "cells": [
  {
   "cell_type": "markdown",
   "metadata": {},
   "source": [
    "# PLEQUE vs raw reconstruction\n",
    "\n",
    "In this notebook, we demonstrate the advantages of using PLEQUE rather than the raw reconstruction data. In particular, we will show the increase of spatial resolution (especially around the X-point) and showcase several methods of $q$ profile calculation."
   ]
  },
  {
   "cell_type": "code",
   "execution_count": null,
   "metadata": {},
   "outputs": [],
   "source": [
    "%pylab inline\n",
    "\n",
    "from pleque.io import _geqdsk as eqdsktool \n",
    "from pleque.io.readers import read_geqdsk\n",
    "from pleque.utils.plotting import *\n",
    "from pleque.tests.utils import get_test_equilibria_filenames"
   ]
  },
  {
   "cell_type": "markdown",
   "metadata": {},
   "source": [
    "## Load a testing equilibrium\n",
    "Several test equilibria come shipped with PLEQUE. Their location is:"
   ]
  },
  {
   "cell_type": "code",
   "execution_count": null,
   "metadata": {},
   "outputs": [],
   "source": [
    "gfiles = get_test_equilibria_filenames()\n",
    "gfiles"
   ]
  },
  {
   "cell_type": "markdown",
   "metadata": {},
   "source": [
    "### Load the equilibrium directly\n",
    "\n",
    "Here the test equilibrium (as it was calculated by EFIT) is directly loaded and stored in the variable `eq_efit`. The variable then contains all equilibrium information in the form of a dictionary."
   ]
  },
  {
   "cell_type": "code",
   "execution_count": null,
   "metadata": {},
   "outputs": [],
   "source": [
    "test_case_number = 5\n",
    "\n",
    "with open(gfiles[test_case_number], 'r') as f:\n",
    "    eq_efit = eqdsktool.read(f)\n",
    "eq_efit.keys()"
   ]
  },
  {
   "cell_type": "markdown",
   "metadata": {},
   "source": [
    "### Load equilibrium using PLEQUE\n",
    "\n",
    "PLEQUE loads the same EFIT output file at its core, but it wraps it in the `Equilibrium` class and stores it in the variable `eq`.\n"
   ]
  },
  {
   "cell_type": "code",
   "execution_count": null,
   "metadata": {},
   "outputs": [],
   "source": [
    "#Load equilibrium stored in the EQDSK format\n",
    "eq = read_geqdsk(gfiles[test_case_number])\n",
    "\n",
    "#Plot basic overview of the equilibrium\n",
    "plt.figure()\n",
    "eq._plot_overview()\n",
    "\n",
    "#Plot X-points\n",
    "plot_extremes(eq, markeredgewidth=2)"
   ]
  },
  {
   "cell_type": "markdown",
   "metadata": {},
   "source": [
    "## PLEQUE vs raw reconstruction: increased spatial resolution\n",
    "\n",
    "EFIT output ($\\Psi$, $j$ etc.) is given on a rectangular grid. We recreate this grid from the geometric data contained in `eq_efit`:"
   ]
  },
  {
   "cell_type": "code",
   "execution_count": null,
   "metadata": {},
   "outputs": [],
   "source": [
    "r_axis = np.linspace(eq_efit[\"rleft\"], eq_efit[\"rleft\"] + eq_efit[\"rdim\"], eq_efit[\"nx\"])\n",
    "z_axis = np.linspace(eq_efit[\"zmid\"] - eq_efit[\"zdim\"] / 2, eq_efit[\"zmid\"] + eq_efit[\"zdim\"] / 2, eq_efit[\"ny\"])"
   ]
  },
  {
   "cell_type": "markdown",
   "metadata": {},
   "source": [
    "To limit the file size, the grid has a finite resolution. This means that in areas where high spatial resolution is needed (for instance the X-point vicinity), raw reconstructions are usually insufficient. The following figure demonstrates this."
   ]
  },
  {
   "cell_type": "code",
   "execution_count": null,
   "metadata": {},
   "outputs": [],
   "source": [
    "# Create a figure\n",
    "plt.figure()\n",
    "ax = plt.gca()\n",
    "\n",
    "# Plot the limiter as stored in EFIT output\n",
    "ax.plot(eq_efit['rlim'], eq_efit['zlim'], color='k', lw=2)\n",
    "\n",
    "# Plot the magnetic surface which is defined by Psi == eq_efit['sibdry']\n",
    "ax.contour(r_axis, z_axis, eq_efit['psi'].T, [eq_efit['sibdry']])\n",
    "\n",
    "# Plot the magnetic surface saved as the LCFS in EFIT output\n",
    "ax.plot(eq_efit['rbdry'], eq_efit['zbdry'], 'C0-.', lw=2, label='EFIT LCFS')\n",
    "\n",
    "# Label the plot and zoom in to the X-point area\n",
    "ax.set_xlabel('R [m]')\n",
    "ax.set_ylabel('Z [m]')\n",
    "ax.set_aspect('equal')\n",
    "plt.legend()\n",
    "ax.set_xlim(0.4, 0.54)\n",
    "ax.set_ylim(-0.38, -0.28)"
   ]
  },
  {
   "cell_type": "markdown",
   "metadata": {},
   "source": [
    "It is apparrent that the raw reconstruction spatial resolution is insufficient, especially  when defining magnetic surfaces with a specific value of $\\psi_N$. PLEQUE, on the other hand, performs equilibrium interpolation that can easily produce the same plots with a much higher spatial resolution."
   ]
  },
  {
   "cell_type": "code",
   "execution_count": null,
   "metadata": {},
   "outputs": [],
   "source": [
    "# Create a figure\n",
    "plt.figure()\n",
    "ax = plt.gca()\n",
    "\n",
    "# Plot the limiter (accessed through the Equilibrium class)\n",
    "eq.first_wall.plot(ls=\"-\", color=\"k\", lw=2)\n",
    "\n",
    "# Plot the separatrix, cropped to its part inside the first wall\n",
    "inside_fw = eq.in_first_wall(eq.separatrix)\n",
    "separatrix = eq.coordinates(R=eq.separatrix.R[inside_fw], Z=eq.separatrix.Z[inside_fw])\n",
    "separatrix.plot(label='separatrix')\n",
    "\n",
    "# Plot the LCFS (boundary between the core and the SOL, excluding divertor legs)\n",
    "eq.lcfs.plot(color='C1', ls='--', label='LCFS')\n",
    "\n",
    "# Plot the X-point\n",
    "ax.plot(eq._x_point[0], eq._x_point[1], 'k+', markersize=10, label='X-point')\n",
    "\n",
    "# Label the plot and zoom in to the X-point area\n",
    "ax.set_xlabel('R [m]')\n",
    "ax.set_ylabel('Z [m]')\n",
    "ax.set_aspect('equal')\n",
    "plt.legend()\n",
    "ax.set_xlim(0.4, 0.54)\n",
    "ax.set_ylim(-0.38, -0.28)"
   ]
  },
  {
   "cell_type": "markdown",
   "metadata": {},
   "source": [
    "PLEQUE is better suited not only for equilibrium visualisation, but also for calculations based on precise knowledge of the local magnetic field, such as magnetic field line tracing (described in another example notebook)."
   ]
  },
  {
   "cell_type": "markdown",
   "metadata": {},
   "source": [
    "## PLEQUE vs raw reconstruction: $q$ profile\n",
    "\n",
    "The safety factor $q$ can be defined as the number of toroidal turns a magnetic field line makes along its magnetic surface before it makes a full poloidal turn. Since the poloidal field is zero at the X-point, the magnetic field lines on the separatrix surface are caught in an infinite toroidal loop at the X-point and $q \\rightarrow +\\infty$. (This is why the edge safety factor is given as $q_{95}$ at $\\psi_N=0.95$. If it were given an $\\psi_N = 1.00$, its value would diverge regardless of its profile shape.)\n",
    "\n",
    "In this section we compare several methods of calculating $q$:\n",
    "\n",
    "1. $q$ as calculated by the reconstruction itself (`q_efit`)\n",
    "2. $q$ evaluated by `eq.q` (`q_eq`)\n",
    "3. $q$ evaluated by `eq._flux_surface(psi_n).eval_q`\n",
    "    - using the default, rectangle rule (`q1`)\n",
    "    - using the trapezoidal rule (`q2`)\n",
    "    - using the Simpson rule (`q3`)\n",
    "\n",
    "Method 3 calculates the safety factor according to formula (5.35) in [Jardin, 2010: Computation Methods in Plasma Physics]:\n",
    "\n",
    "$q(\\psi) = \\dfrac{gV'}{(2\\pi)^2\\Psi'}\\langle R^{-2}\\rangle$\n",
    "\n",
    "where $V'$ is the differential volume and, in PLEQUE's notation, $g(\\psi) \\equiv F(\\psi)$ and $\\Psi \\equiv \\psi$ (and therefore $\\Psi' \\equiv d\\Psi/d\\psi = 1$). Furthermore, the surface average $\\langle \\cdot \\rangle$ of an arbitrary function $a$ is defined as $\\langle a \\rangle = \\frac{2\\pi}{V'} \\int_0^{2\\pi} d\\theta Ja$ where $J$ is the Jacobian. Putting everything together, one obtains the formula used by PLEQUE:\n",
    "\n",
    "$q(\\psi) = \\dfrac{F(\\psi)}{2\\pi} \\int_0^{2\\pi} d\\theta JR^{-2}$\n",
    "\n",
    "where, based on the convention defined by COCOS, the factor $2\\pi$ can be missing and $q$ may be either positive or negative. (In the default convention of EFIT, COCOS 3, $q$ is negative.) Finally, the integral can be calculated with three different methods: the rectangle rule (resulting in `q1`), the trapezoidal rule (resulting in `q2`) and the Simpson rule (resulting in `q3`).\n",
    "\n",
    "Method 2 is based on method 3. The safety factor profile is calculated for 200 points in $\\psi_N \\in (0, 1)$ and interpolated with a spline. `eq.q` then invokes this spline to calculate $q$ at any given $\\psi_N$.\n",
    "\n",
    "In the following code, we load/calculate the five $q$ profiles and compare their accuracy."
   ]
  },
  {
   "cell_type": "code",
   "execution_count": null,
   "metadata": {},
   "outputs": [],
   "source": [
    "#Load q taken directly from the reconstruction\n",
    "q_efit = eq_efit['q']\n",
    "q_efit = q_efit[:-1] #q is calculated up to psi_N=1, so we exclude this last point\n",
    "psi_efit = np.linspace(0, 1, len(q_efit), endpoint=False)\n",
    "#psi_efit2 = np.linspace(0, 1, len(q_efit), endpoint=True)\n",
    "# If you try this for several test equilibria, you will find that some give q at Psi_N=1\n",
    "# and some stop right short of Psi_N=1. To test which is which, try both including and\n",
    "# excluding the endpoint in the linspace definition.\n",
    "\n",
    "# Calculate q using the Equilibrium class spline\n",
    "coords = eq.coordinates(psi_n = np.linspace(0, 1, len(q_efit), endpoint=False))\n",
    "psi_eq = coords.psi_n\n",
    "q_eq = abs(eq.q(coords))\n",
    "\n",
    "# Calculate q using eq._flux_surface(Psi).eval_q\n",
    "surf_psin = linspace(0.01, 1, len(q_efit), endpoint=False)\n",
    "surfs = [eq._flux_surface(psi_n=psi_n)[0] for psi_n in surf_psin]\n",
    "surf_psin = [np.mean(s.psi_n) for s in surfs]\n",
    "q1 = abs(np.array([np.asscalar(s.eval_q) for s in surfs]))\n",
    "q2 = abs(np.array([np.asscalar(s.get_eval_q('trapz')) for s in surfs]))\n",
    "q3 = abs(np.array([np.asscalar(s.get_eval_q('simps')) for s in surfs]))"
   ]
  },
  {
   "cell_type": "markdown",
   "metadata": {},
   "source": [
    "Notice the absolute values in the previous code; this is required because $q<0$ in the convention used here. We now plot the five $q$ profiles over each other."
   ]
  },
  {
   "cell_type": "code",
   "execution_count": null,
   "metadata": {},
   "outputs": [],
   "source": [
    "# Create a figure\n",
    "plt.figure()\n",
    "\n",
    "# Plot the five q profiles\n",
    "plt.plot(psi_efit, q_efit, 'x', label='raw reconstruction')\n",
    "#plt.plot(psi_efit2, q_efit, 'x', label='raw reconstruction')\n",
    "plt.plot(psi_eq, q_eq, '--', label=r'pleque: eq.q')\n",
    "plt.plot(surf_psin, q1, '-', label=r'pleque: q1')\n",
    "plt.plot(surf_psin, q2, '--', label=r'pleque: q2')\n",
    "plt.plot(surf_psin, q3, '--', label=r'pleque: q3')\n",
    "\n",
    "# Label the plot and denote the separatrix at Psi_N=1\n",
    "plt.xlabel(r'$\\psi_\\mathrm{N}$')\n",
    "plt.ylabel(r'$q$')\n",
    "plt.axvline(1, ls='--', color='k', lw=1)\n",
    "plt.legend()"
   ]
  },
  {
   "cell_type": "markdown",
   "metadata": {},
   "source": [
    "Evidently the five $q$ profiles are very similar to one another. In the following code we plot their mutual differences. Notice that, using method 3, the $\\psi_N$ axis begins at 0.01 and not 0. This is because $q$ cannot be calculated by the formula above in $\\psi_N=0$ and the algorithm fails."
   ]
  },
  {
   "cell_type": "code",
   "execution_count": null,
   "metadata": {},
   "outputs": [],
   "source": [
    "# Create a figure\n",
    "plt.figure(figsize=(12,4))\n",
    "\n",
    "# Plot EFIT vs eq.q\n",
    "plt.subplot(121)\n",
    "plt.plot(surf_psin, abs(q_eq-q_efit), label='EFIT vs eq.q')\n",
    "plt.legend()\n",
    "plt.xlabel(r'$\\psi_\\mathrm{N}$')\n",
    "plt.ylabel(r'$\\Delta q$')\n",
    "\n",
    "# Plot EFIT vs q1-q3\n",
    "plt.subplot(122)\n",
    "plt.plot(surf_psin, abs(q_efit-q1), label='EFIT vs q2')\n",
    "plt.plot(surf_psin, abs(q_efit-q2), label='EFIT vs q3')\n",
    "plt.plot(surf_psin, abs(q_efit-q3), label='EFIT vs q3')\n",
    "plt.legend()\n",
    "plt.xlabel(r'$\\psi_\\mathrm{N}$')\n",
    "plt.ylabel(r'$\\Delta q$')\n",
    "\n",
    "# Create another figure\n",
    "plt.figure(figsize=(12,4))\n",
    "\n",
    "# Plot eq.q vs all the rest\n",
    "plt.subplot(121)\n",
    "plt.plot(surf_psin, abs(q_eq-q1), label='eq.q vs q1')\n",
    "plt.plot(surf_psin, abs(q_eq-q2), label='eq.q vs q2')\n",
    "plt.plot(surf_psin, abs(q_eq-q3), label='eq.q vs q3')\n",
    "plt.legend()\n",
    "plt.xlabel(r'$\\psi_\\mathrm{N}$')\n",
    "plt.ylabel(r'$\\Delta q$')\n",
    "\n",
    "#Plot q1 vs q2 vs q3\n",
    "plt.subplot(122)\n",
    "plt.plot(surf_psin, abs(q1-q2), label='q1 vs q2')\n",
    "plt.plot(surf_psin, abs(q1-q3), label='q1 vs q3')\n",
    "plt.plot(surf_psin, abs(q2-q3), label='q2 vs q3')\n",
    "plt.legend()\n",
    "plt.xlabel(r'$\\psi_\\mathrm{N}$')\n",
    "plt.ylabel(r'$\\Delta q$')"
   ]
  },
  {
   "cell_type": "markdown",
   "metadata": {},
   "source": [
    "The profiles disagree slightly near $\\psi_N \\rightarrow 0$ since the safety factor is defined by a limit here. For the most part, however, PLEQUE and raw reconstcruction values of $q$ match quite well. PLEQUE can therefore be used to fill in the space between the EFIT datapoint, which can be useful especially near the separatrix where $q$ rises sharply."
   ]
  }
 ],
 "metadata": {
  "kernelspec": {
   "display_name": "Python 3",
   "language": "python",
   "name": "python3"
  },
  "language_info": {
   "codemirror_mode": {
    "name": "ipython",
    "version": 3
   },
   "file_extension": ".py",
   "mimetype": "text/x-python",
   "name": "python",
   "nbconvert_exporter": "python",
   "pygments_lexer": "ipython3",
   "version": "3.7.4"
  }
 },
 "nbformat": 4,
 "nbformat_minor": 2
}
